{
 "cells": [
  {
   "cell_type": "markdown",
   "metadata": {},
   "source": [
    "## Working on Merged Data\n",
    "\n",
    "Now, We already filtered out our important data from collection of data to work on Movie, Actor and Director list. In this case, we have to get one Actor list for each movie and compare with the rest ."
   ]
  },
  {
   "cell_type": "code",
   "execution_count": 55,
   "metadata": {
    "collapsed": true
   },
   "outputs": [],
   "source": [
    "import pandas as pd\n",
    "import csv\n",
    "movie = pd.read_csv('output.csv') "
   ]
  },
  {
   "cell_type": "code",
   "execution_count": 56,
   "metadata": {
    "collapsed": false
   },
   "outputs": [],
   "source": [
    "del movie['Unnamed: 0']"
   ]
  },
  {
   "cell_type": "code",
   "execution_count": 57,
   "metadata": {
    "collapsed": false
   },
   "outputs": [],
   "source": [
    "movie['actors'] = movie['actor_1_name'] + \" \"  + movie['actor_2_name'] + \" \" + movie['actor_3_name']\n"
   ]
  },
  {
   "cell_type": "code",
   "execution_count": 58,
   "metadata": {
    "collapsed": false
   },
   "outputs": [],
   "source": [
    "del movie['actor_1_name']\n",
    "del movie['actor_2_name']\n",
    "del movie['actor_3_name']"
   ]
  },
  {
   "cell_type": "code",
   "execution_count": 60,
   "metadata": {
    "collapsed": false
   },
   "outputs": [],
   "source": [
    "movie.head()\n",
    "movie.to_csv('actormovie.csv')\n"
   ]
  },
  {
   "cell_type": "markdown",
   "metadata": {},
   "source": [
    "Now in 'actors' column, we have list of all the actors associated in the movie."
   ]
  },
  {
   "cell_type": "markdown",
   "metadata": {},
   "source": [
    "By Professor : Notes :-\n",
    "### Hybrid graph-based recommendation\n",
    "\n",
    "Meta path [Pathsim]\n",
    "Define different Met-Path\n",
    "Define weight on edges:\n",
    "\n",
    "<ol>user-movie</ol>\n",
    "++ based on review’s rate+]\n",
    "\n",
    "<ol>movie-actor </ol>\n",
    "++ number of links on the path,\n",
    "-- total #edges from movies,\n",
    "-- total number of edges from actor\n",
    "\n",
    "\n",
    "<ol>movie-director</ol>\n",
    "++ Number of links on the path (most likely 1)\n",
    "--  total #edges from movies (most likely 1)\n",
    "--  total number of edges from director\n",
    "\n",
    "\n",
    "<ol>Movie-Keywords</ol>\n",
    "++ number of links on the path (most likely 1)\n",
    "--  total #edges from movie\n",
    "--  total number of edges from keywords\n",
    "\n",
    "\n",
    "Define path score: how strong of the link along this path: based on\n",
    "++ the weight of each edge\n",
    "-- (?)  the length of the path\n",
    "\n",
    "\n",
    "Perform graph traversal to find all meta-paths and calculate their scores\n",
    "Combine the scores from user (target) to movie (recommendation) along all meta-paths\n",
    " Make recommendation according to this combined score"
   ]
  },
  {
   "cell_type": "markdown",
   "metadata": {
    "collapsed": true
   },
   "source": [
    "Now, We are going to work on user- item pair :-"
   ]
  },
  {
   "cell_type": "code",
   "execution_count": 42,
   "metadata": {
    "collapsed": true
   },
   "outputs": [],
   "source": [
    "import graphlab\n",
    "graphlab.canvas.set_target('ipynb')"
   ]
  },
  {
   "cell_type": "markdown",
   "metadata": {},
   "source": [
    "Working on 20 Million Datasets:-"
   ]
  },
  {
   "cell_type": "code",
   "execution_count": 43,
   "metadata": {
    "collapsed": false
   },
   "outputs": [
    {
     "name": "stdout",
     "output_type": "stream",
     "text": [
      "This non-commercial license of GraphLab Create for academic use is assigned to hbharti@umassd.edu and will expire on January 21, 2018.\n"
     ]
    },
    {
     "name": "stderr",
     "output_type": "stream",
     "text": [
      "[INFO] graphlab.cython.cy_server: GraphLab Create v2.1 started. Logging: /tmp/graphlab_server_1491919560.log\n"
     ]
    },
    {
     "data": {
      "text/html": [
       "<pre>Finished parsing file /Users/haripadbharti/Desktop/proj/dataset/proj/ratings.csv</pre>"
      ],
      "text/plain": [
       "Finished parsing file /Users/haripadbharti/Desktop/proj/dataset/proj/ratings.csv"
      ]
     },
     "metadata": {},
     "output_type": "display_data"
    },
    {
     "data": {
      "text/html": [
       "<pre>Parsing completed. Parsed 100 lines in 2.35398 secs.</pre>"
      ],
      "text/plain": [
       "Parsing completed. Parsed 100 lines in 2.35398 secs."
      ]
     },
     "metadata": {},
     "output_type": "display_data"
    },
    {
     "data": {
      "text/html": [
       "<pre>Read 2042753 lines. Lines per second: 546438</pre>"
      ],
      "text/plain": [
       "Read 2042753 lines. Lines per second: 546438"
      ]
     },
     "metadata": {},
     "output_type": "display_data"
    },
    {
     "data": {
      "text/html": [
       "<pre>Read 9960799 lines. Lines per second: 1.04113e+06</pre>"
      ],
      "text/plain": [
       "Read 9960799 lines. Lines per second: 1.04113e+06"
      ]
     },
     "metadata": {},
     "output_type": "display_data"
    },
    {
     "data": {
      "text/html": [
       "<pre>Read 17758054 lines. Lines per second: 1.1976e+06</pre>"
      ],
      "text/plain": [
       "Read 17758054 lines. Lines per second: 1.1976e+06"
      ]
     },
     "metadata": {},
     "output_type": "display_data"
    },
    {
     "data": {
      "text/html": [
       "<pre>Finished parsing file /Users/haripadbharti/Desktop/proj/dataset/proj/ratings.csv</pre>"
      ],
      "text/plain": [
       "Finished parsing file /Users/haripadbharti/Desktop/proj/dataset/proj/ratings.csv"
      ]
     },
     "metadata": {},
     "output_type": "display_data"
    },
    {
     "data": {
      "text/html": [
       "<pre>Parsing completed. Parsed 20000263 lines in 15.4257 secs.</pre>"
      ],
      "text/plain": [
       "Parsing completed. Parsed 20000263 lines in 15.4257 secs."
      ]
     },
     "metadata": {},
     "output_type": "display_data"
    },
    {
     "data": {
      "text/html": [
       "<pre>Recsys training: model = item_similarity</pre>"
      ],
      "text/plain": [
       "Recsys training: model = item_similarity"
      ]
     },
     "metadata": {},
     "output_type": "display_data"
    },
    {
     "data": {
      "text/html": [
       "<pre>Warning: Ignoring columns rating, timestamp;</pre>"
      ],
      "text/plain": [
       "Warning: Ignoring columns rating, timestamp;"
      ]
     },
     "metadata": {},
     "output_type": "display_data"
    },
    {
     "data": {
      "text/html": [
       "<pre>    To use one of these as a target column, set target = <column_name></pre>"
      ],
      "text/plain": [
       "    To use one of these as a target column, set target = <column_name>"
      ]
     },
     "metadata": {},
     "output_type": "display_data"
    },
    {
     "data": {
      "text/html": [
       "<pre>    and use a method that allows the use of a target.</pre>"
      ],
      "text/plain": [
       "    and use a method that allows the use of a target."
      ]
     },
     "metadata": {},
     "output_type": "display_data"
    },
    {
     "data": {
      "text/html": [
       "<pre>Preparing data set.</pre>"
      ],
      "text/plain": [
       "Preparing data set."
      ]
     },
     "metadata": {},
     "output_type": "display_data"
    },
    {
     "data": {
      "text/html": [
       "<pre>    Data has 20000263 observations with 138493 users and 26744 items.</pre>"
      ],
      "text/plain": [
       "    Data has 20000263 observations with 138493 users and 26744 items."
      ]
     },
     "metadata": {},
     "output_type": "display_data"
    },
    {
     "data": {
      "text/html": [
       "<pre>    Data prepared in: 18.18s</pre>"
      ],
      "text/plain": [
       "    Data prepared in: 18.18s"
      ]
     },
     "metadata": {},
     "output_type": "display_data"
    },
    {
     "data": {
      "text/html": [
       "<pre>Training model from provided data.</pre>"
      ],
      "text/plain": [
       "Training model from provided data."
      ]
     },
     "metadata": {},
     "output_type": "display_data"
    },
    {
     "data": {
      "text/html": [
       "<pre>Gathering per-item and per-user statistics.</pre>"
      ],
      "text/plain": [
       "Gathering per-item and per-user statistics."
      ]
     },
     "metadata": {},
     "output_type": "display_data"
    },
    {
     "data": {
      "text/html": [
       "<pre>+--------------------------------+------------+</pre>"
      ],
      "text/plain": [
       "+--------------------------------+------------+"
      ]
     },
     "metadata": {},
     "output_type": "display_data"
    },
    {
     "data": {
      "text/html": [
       "<pre>| Elapsed Time (Item Statistics) | % Complete |</pre>"
      ],
      "text/plain": [
       "| Elapsed Time (Item Statistics) | % Complete |"
      ]
     },
     "metadata": {},
     "output_type": "display_data"
    },
    {
     "data": {
      "text/html": [
       "<pre>+--------------------------------+------------+</pre>"
      ],
      "text/plain": [
       "+--------------------------------+------------+"
      ]
     },
     "metadata": {},
     "output_type": "display_data"
    },
    {
     "data": {
      "text/html": [
       "<pre>| 14.189ms                       | 0.5        |</pre>"
      ],
      "text/plain": [
       "| 14.189ms                       | 0.5        |"
      ]
     },
     "metadata": {},
     "output_type": "display_data"
    },
    {
     "data": {
      "text/html": [
       "<pre>| 1.02s                          | 92.25      |</pre>"
      ],
      "text/plain": [
       "| 1.02s                          | 92.25      |"
      ]
     },
     "metadata": {},
     "output_type": "display_data"
    },
    {
     "data": {
      "text/html": [
       "<pre>| 1.11s                          | 100        |</pre>"
      ],
      "text/plain": [
       "| 1.11s                          | 100        |"
      ]
     },
     "metadata": {},
     "output_type": "display_data"
    },
    {
     "data": {
      "text/html": [
       "<pre>+--------------------------------+------------+</pre>"
      ],
      "text/plain": [
       "+--------------------------------+------------+"
      ]
     },
     "metadata": {},
     "output_type": "display_data"
    },
    {
     "data": {
      "text/html": [
       "<pre>Setting up lookup tables.</pre>"
      ],
      "text/plain": [
       "Setting up lookup tables."
      ]
     },
     "metadata": {},
     "output_type": "display_data"
    },
    {
     "data": {
      "text/html": [
       "<pre>Processing data in one pass using dense lookup tables.</pre>"
      ],
      "text/plain": [
       "Processing data in one pass using dense lookup tables."
      ]
     },
     "metadata": {},
     "output_type": "display_data"
    },
    {
     "data": {
      "text/html": [
       "<pre>+-------------------------------------+------------------+-----------------+</pre>"
      ],
      "text/plain": [
       "+-------------------------------------+------------------+-----------------+"
      ]
     },
     "metadata": {},
     "output_type": "display_data"
    },
    {
     "data": {
      "text/html": [
       "<pre>| Elapsed Time (Constructing Lookups) | Total % Complete | Items Processed |</pre>"
      ],
      "text/plain": [
       "| Elapsed Time (Constructing Lookups) | Total % Complete | Items Processed |"
      ]
     },
     "metadata": {},
     "output_type": "display_data"
    },
    {
     "data": {
      "text/html": [
       "<pre>+-------------------------------------+------------------+-----------------+</pre>"
      ],
      "text/plain": [
       "+-------------------------------------+------------------+-----------------+"
      ]
     },
     "metadata": {},
     "output_type": "display_data"
    },
    {
     "data": {
      "text/html": [
       "<pre>| 4.74s                               | 0                | 0               |</pre>"
      ],
      "text/plain": [
       "| 4.74s                               | 0                | 0               |"
      ]
     },
     "metadata": {},
     "output_type": "display_data"
    },
    {
     "data": {
      "text/html": [
       "<pre>| 5.74s                               | 1.25             | 335             |</pre>"
      ],
      "text/plain": [
       "| 5.74s                               | 1.25             | 335             |"
      ]
     },
     "metadata": {},
     "output_type": "display_data"
    },
    {
     "data": {
      "text/html": [
       "<pre>| 6.74s                               | 2.25             | 662             |</pre>"
      ],
      "text/plain": [
       "| 6.74s                               | 2.25             | 662             |"
      ]
     },
     "metadata": {},
     "output_type": "display_data"
    },
    {
     "data": {
      "text/html": [
       "<pre>| 7.75s                               | 3.75             | 1067            |</pre>"
      ],
      "text/plain": [
       "| 7.75s                               | 3.75             | 1067            |"
      ]
     },
     "metadata": {},
     "output_type": "display_data"
    },
    {
     "data": {
      "text/html": [
       "<pre>| 8.75s                               | 5                | 1370            |</pre>"
      ],
      "text/plain": [
       "| 8.75s                               | 5                | 1370            |"
      ]
     },
     "metadata": {},
     "output_type": "display_data"
    },
    {
     "data": {
      "text/html": [
       "<pre>| 9.76s                               | 6.25             | 1671            |</pre>"
      ],
      "text/plain": [
       "| 9.76s                               | 6.25             | 1671            |"
      ]
     },
     "metadata": {},
     "output_type": "display_data"
    },
    {
     "data": {
      "text/html": [
       "<pre>| 10.76s                              | 7.25             | 1971            |</pre>"
      ],
      "text/plain": [
       "| 10.76s                              | 7.25             | 1971            |"
      ]
     },
     "metadata": {},
     "output_type": "display_data"
    },
    {
     "data": {
      "text/html": [
       "<pre>| 11.76s                              | 8.25             | 2252            |</pre>"
      ],
      "text/plain": [
       "| 11.76s                              | 8.25             | 2252            |"
      ]
     },
     "metadata": {},
     "output_type": "display_data"
    },
    {
     "data": {
      "text/html": [
       "<pre>| 12.77s                              | 9.25             | 2514            |</pre>"
      ],
      "text/plain": [
       "| 12.77s                              | 9.25             | 2514            |"
      ]
     },
     "metadata": {},
     "output_type": "display_data"
    },
    {
     "data": {
      "text/html": [
       "<pre>| 13.77s                              | 10.25            | 2803            |</pre>"
      ],
      "text/plain": [
       "| 13.77s                              | 10.25            | 2803            |"
      ]
     },
     "metadata": {},
     "output_type": "display_data"
    },
    {
     "data": {
      "text/html": [
       "<pre>| 14.77s                              | 11.25            | 3058            |</pre>"
      ],
      "text/plain": [
       "| 14.77s                              | 11.25            | 3058            |"
      ]
     },
     "metadata": {},
     "output_type": "display_data"
    },
    {
     "data": {
      "text/html": [
       "<pre>| 15.78s                              | 12.5             | 3371            |</pre>"
      ],
      "text/plain": [
       "| 15.78s                              | 12.5             | 3371            |"
      ]
     },
     "metadata": {},
     "output_type": "display_data"
    },
    {
     "data": {
      "text/html": [
       "<pre>| 16.79s                              | 13.75            | 3713            |</pre>"
      ],
      "text/plain": [
       "| 16.79s                              | 13.75            | 3713            |"
      ]
     },
     "metadata": {},
     "output_type": "display_data"
    },
    {
     "data": {
      "text/html": [
       "<pre>| 17.78s                              | 14.75            | 3988            |</pre>"
      ],
      "text/plain": [
       "| 17.78s                              | 14.75            | 3988            |"
      ]
     },
     "metadata": {},
     "output_type": "display_data"
    },
    {
     "data": {
      "text/html": [
       "<pre>| 18.79s                              | 15.5             | 4188            |</pre>"
      ],
      "text/plain": [
       "| 18.79s                              | 15.5             | 4188            |"
      ]
     },
     "metadata": {},
     "output_type": "display_data"
    },
    {
     "data": {
      "text/html": [
       "<pre>| 19.79s                              | 16.5             | 4424            |</pre>"
      ],
      "text/plain": [
       "| 19.79s                              | 16.5             | 4424            |"
      ]
     },
     "metadata": {},
     "output_type": "display_data"
    },
    {
     "data": {
      "text/html": [
       "<pre>| 20.80s                              | 17.75            | 4776            |</pre>"
      ],
      "text/plain": [
       "| 20.80s                              | 17.75            | 4776            |"
      ]
     },
     "metadata": {},
     "output_type": "display_data"
    },
    {
     "data": {
      "text/html": [
       "<pre>| 21.80s                              | 19.25            | 5170            |</pre>"
      ],
      "text/plain": [
       "| 21.80s                              | 19.25            | 5170            |"
      ]
     },
     "metadata": {},
     "output_type": "display_data"
    },
    {
     "data": {
      "text/html": [
       "<pre>| 22.81s                              | 20.5             | 5527            |</pre>"
      ],
      "text/plain": [
       "| 22.81s                              | 20.5             | 5527            |"
      ]
     },
     "metadata": {},
     "output_type": "display_data"
    },
    {
     "data": {
      "text/html": [
       "<pre>| 23.81s                              | 21.75            | 5857            |</pre>"
      ],
      "text/plain": [
       "| 23.81s                              | 21.75            | 5857            |"
      ]
     },
     "metadata": {},
     "output_type": "display_data"
    },
    {
     "data": {
      "text/html": [
       "<pre>| 24.81s                              | 23.25            | 6250            |</pre>"
      ],
      "text/plain": [
       "| 24.81s                              | 23.25            | 6250            |"
      ]
     },
     "metadata": {},
     "output_type": "display_data"
    },
    {
     "data": {
      "text/html": [
       "<pre>| 25.81s                              | 24.75            | 6635            |</pre>"
      ],
      "text/plain": [
       "| 25.81s                              | 24.75            | 6635            |"
      ]
     },
     "metadata": {},
     "output_type": "display_data"
    },
    {
     "data": {
      "text/html": [
       "<pre>| 26.82s                              | 26.25            | 7021            |</pre>"
      ],
      "text/plain": [
       "| 26.82s                              | 26.25            | 7021            |"
      ]
     },
     "metadata": {},
     "output_type": "display_data"
    },
    {
     "data": {
      "text/html": [
       "<pre>| 27.82s                              | 27.5             | 7415            |</pre>"
      ],
      "text/plain": [
       "| 27.82s                              | 27.5             | 7415            |"
      ]
     },
     "metadata": {},
     "output_type": "display_data"
    },
    {
     "data": {
      "text/html": [
       "<pre>| 28.83s                              | 29               | 7784            |</pre>"
      ],
      "text/plain": [
       "| 28.83s                              | 29               | 7784            |"
      ]
     },
     "metadata": {},
     "output_type": "display_data"
    },
    {
     "data": {
      "text/html": [
       "<pre>| 29.86s                              | 29.5             | 7920            |</pre>"
      ],
      "text/plain": [
       "| 29.86s                              | 29.5             | 7920            |"
      ]
     },
     "metadata": {},
     "output_type": "display_data"
    },
    {
     "data": {
      "text/html": [
       "<pre>| 30.84s                              | 30.75            | 8228            |</pre>"
      ],
      "text/plain": [
       "| 30.84s                              | 30.75            | 8228            |"
      ]
     },
     "metadata": {},
     "output_type": "display_data"
    },
    {
     "data": {
      "text/html": [
       "<pre>| 31.84s                              | 31.25            | 8400            |</pre>"
      ],
      "text/plain": [
       "| 31.84s                              | 31.25            | 8400            |"
      ]
     },
     "metadata": {},
     "output_type": "display_data"
    },
    {
     "data": {
      "text/html": [
       "<pre>| 32.84s                              | 32.25            | 8690            |</pre>"
      ],
      "text/plain": [
       "| 32.84s                              | 32.25            | 8690            |"
      ]
     },
     "metadata": {},
     "output_type": "display_data"
    },
    {
     "data": {
      "text/html": [
       "<pre>| 33.84s                              | 33.5             | 9005            |</pre>"
      ],
      "text/plain": [
       "| 33.84s                              | 33.5             | 9005            |"
      ]
     },
     "metadata": {},
     "output_type": "display_data"
    },
    {
     "data": {
      "text/html": [
       "<pre>| 34.85s                              | 34.75            | 9296            |</pre>"
      ],
      "text/plain": [
       "| 34.85s                              | 34.75            | 9296            |"
      ]
     },
     "metadata": {},
     "output_type": "display_data"
    },
    {
     "data": {
      "text/html": [
       "<pre>| 35.85s                              | 36               | 9675            |</pre>"
      ],
      "text/plain": [
       "| 35.85s                              | 36               | 9675            |"
      ]
     },
     "metadata": {},
     "output_type": "display_data"
    },
    {
     "data": {
      "text/html": [
       "<pre>| 36.85s                              | 37.25            | 10008           |</pre>"
      ],
      "text/plain": [
       "| 36.85s                              | 37.25            | 10008           |"
      ]
     },
     "metadata": {},
     "output_type": "display_data"
    },
    {
     "data": {
      "text/html": [
       "<pre>| 37.86s                              | 38.75            | 10412           |</pre>"
      ],
      "text/plain": [
       "| 37.86s                              | 38.75            | 10412           |"
      ]
     },
     "metadata": {},
     "output_type": "display_data"
    },
    {
     "data": {
      "text/html": [
       "<pre>| 38.86s                              | 39.25            | 10553           |</pre>"
      ],
      "text/plain": [
       "| 38.86s                              | 39.25            | 10553           |"
      ]
     },
     "metadata": {},
     "output_type": "display_data"
    },
    {
     "data": {
      "text/html": [
       "<pre>| 39.86s                              | 40.5             | 10844           |</pre>"
      ],
      "text/plain": [
       "| 39.86s                              | 40.5             | 10844           |"
      ]
     },
     "metadata": {},
     "output_type": "display_data"
    },
    {
     "data": {
      "text/html": [
       "<pre>| 40.87s                              | 41.5             | 11113           |</pre>"
      ],
      "text/plain": [
       "| 40.87s                              | 41.5             | 11113           |"
      ]
     },
     "metadata": {},
     "output_type": "display_data"
    },
    {
     "data": {
      "text/html": [
       "<pre>| 41.87s                              | 42.25            | 11364           |</pre>"
      ],
      "text/plain": [
       "| 41.87s                              | 42.25            | 11364           |"
      ]
     },
     "metadata": {},
     "output_type": "display_data"
    },
    {
     "data": {
      "text/html": [
       "<pre>| 42.90s                              | 43.5             | 11667           |</pre>"
      ],
      "text/plain": [
       "| 42.90s                              | 43.5             | 11667           |"
      ]
     },
     "metadata": {},
     "output_type": "display_data"
    },
    {
     "data": {
      "text/html": [
       "<pre>| 43.88s                              | 44.25            | 11898           |</pre>"
      ],
      "text/plain": [
       "| 43.88s                              | 44.25            | 11898           |"
      ]
     },
     "metadata": {},
     "output_type": "display_data"
    },
    {
     "data": {
      "text/html": [
       "<pre>| 44.88s                              | 45.25            | 12104           |</pre>"
      ],
      "text/plain": [
       "| 44.88s                              | 45.25            | 12104           |"
      ]
     },
     "metadata": {},
     "output_type": "display_data"
    },
    {
     "data": {
      "text/html": [
       "<pre>| 45.89s                              | 46               | 12335           |</pre>"
      ],
      "text/plain": [
       "| 45.89s                              | 46               | 12335           |"
      ]
     },
     "metadata": {},
     "output_type": "display_data"
    },
    {
     "data": {
      "text/html": [
       "<pre>| 46.89s                              | 46.75            | 12559           |</pre>"
      ],
      "text/plain": [
       "| 46.89s                              | 46.75            | 12559           |"
      ]
     },
     "metadata": {},
     "output_type": "display_data"
    },
    {
     "data": {
      "text/html": [
       "<pre>| 47.89s                              | 47.75            | 12809           |</pre>"
      ],
      "text/plain": [
       "| 47.89s                              | 47.75            | 12809           |"
      ]
     },
     "metadata": {},
     "output_type": "display_data"
    },
    {
     "data": {
      "text/html": [
       "<pre>| 48.90s                              | 48.75            | 13095           |</pre>"
      ],
      "text/plain": [
       "| 48.90s                              | 48.75            | 13095           |"
      ]
     },
     "metadata": {},
     "output_type": "display_data"
    },
    {
     "data": {
      "text/html": [
       "<pre>| 49.90s                              | 49.75            | 13330           |</pre>"
      ],
      "text/plain": [
       "| 49.90s                              | 49.75            | 13330           |"
      ]
     },
     "metadata": {},
     "output_type": "display_data"
    },
    {
     "data": {
      "text/html": [
       "<pre>| 50.91s                              | 50.5             | 13517           |</pre>"
      ],
      "text/plain": [
       "| 50.91s                              | 50.5             | 13517           |"
      ]
     },
     "metadata": {},
     "output_type": "display_data"
    },
    {
     "data": {
      "text/html": [
       "<pre>| 51.91s                              | 51               | 13678           |</pre>"
      ],
      "text/plain": [
       "| 51.91s                              | 51               | 13678           |"
      ]
     },
     "metadata": {},
     "output_type": "display_data"
    },
    {
     "data": {
      "text/html": [
       "<pre>| 52.91s                              | 52               | 13919           |</pre>"
      ],
      "text/plain": [
       "| 52.91s                              | 52               | 13919           |"
      ]
     },
     "metadata": {},
     "output_type": "display_data"
    },
    {
     "data": {
      "text/html": [
       "<pre>| 53.91s                              | 52.5             | 14090           |</pre>"
      ],
      "text/plain": [
       "| 53.91s                              | 52.5             | 14090           |"
      ]
     },
     "metadata": {},
     "output_type": "display_data"
    },
    {
     "data": {
      "text/html": [
       "<pre>| 54.92s                              | 53.25            | 14301           |</pre>"
      ],
      "text/plain": [
       "| 54.92s                              | 53.25            | 14301           |"
      ]
     },
     "metadata": {},
     "output_type": "display_data"
    },
    {
     "data": {
      "text/html": [
       "<pre>| 55.92s                              | 54               | 14505           |</pre>"
      ],
      "text/plain": [
       "| 55.92s                              | 54               | 14505           |"
      ]
     },
     "metadata": {},
     "output_type": "display_data"
    },
    {
     "data": {
      "text/html": [
       "<pre>| 56.93s                              | 54.5             | 14614           |</pre>"
      ],
      "text/plain": [
       "| 56.93s                              | 54.5             | 14614           |"
      ]
     },
     "metadata": {},
     "output_type": "display_data"
    },
    {
     "data": {
      "text/html": [
       "<pre>| 57.94s                              | 55.25            | 14791           |</pre>"
      ],
      "text/plain": [
       "| 57.94s                              | 55.25            | 14791           |"
      ]
     },
     "metadata": {},
     "output_type": "display_data"
    },
    {
     "data": {
      "text/html": [
       "<pre>| 58.96s                              | 55.75            | 14959           |</pre>"
      ],
      "text/plain": [
       "| 58.96s                              | 55.75            | 14959           |"
      ]
     },
     "metadata": {},
     "output_type": "display_data"
    },
    {
     "data": {
      "text/html": [
       "<pre>| 59.94s                              | 56.5             | 15137           |</pre>"
      ],
      "text/plain": [
       "| 59.94s                              | 56.5             | 15137           |"
      ]
     },
     "metadata": {},
     "output_type": "display_data"
    },
    {
     "data": {
      "text/html": [
       "<pre>| 1m 0s                               | 57               | 15257           |</pre>"
      ],
      "text/plain": [
       "| 1m 0s                               | 57               | 15257           |"
      ]
     },
     "metadata": {},
     "output_type": "display_data"
    },
    {
     "data": {
      "text/html": [
       "<pre>| 1m 2s                               | 57.5             | 15441           |</pre>"
      ],
      "text/plain": [
       "| 1m 2s                               | 57.5             | 15441           |"
      ]
     },
     "metadata": {},
     "output_type": "display_data"
    },
    {
     "data": {
      "text/html": [
       "<pre>| 1m 2s                               | 58               | 15557           |</pre>"
      ],
      "text/plain": [
       "| 1m 2s                               | 58               | 15557           |"
      ]
     },
     "metadata": {},
     "output_type": "display_data"
    },
    {
     "data": {
      "text/html": [
       "<pre>| 1m 4s                               | 58.5             | 15695           |</pre>"
      ],
      "text/plain": [
       "| 1m 4s                               | 58.5             | 15695           |"
      ]
     },
     "metadata": {},
     "output_type": "display_data"
    },
    {
     "data": {
      "text/html": [
       "<pre>| 1m 4s                               | 59.25            | 15861           |</pre>"
      ],
      "text/plain": [
       "| 1m 4s                               | 59.25            | 15861           |"
      ]
     },
     "metadata": {},
     "output_type": "display_data"
    },
    {
     "data": {
      "text/html": [
       "<pre>| 1m 5s                               | 59.5             | 15959           |</pre>"
      ],
      "text/plain": [
       "| 1m 5s                               | 59.5             | 15959           |"
      ]
     },
     "metadata": {},
     "output_type": "display_data"
    },
    {
     "data": {
      "text/html": [
       "<pre>| 1m 6s                               | 60.25            | 16147           |</pre>"
      ],
      "text/plain": [
       "| 1m 6s                               | 60.25            | 16147           |"
      ]
     },
     "metadata": {},
     "output_type": "display_data"
    },
    {
     "data": {
      "text/html": [
       "<pre>| 1m 7s                               | 60.75            | 16308           |</pre>"
      ],
      "text/plain": [
       "| 1m 7s                               | 60.75            | 16308           |"
      ]
     },
     "metadata": {},
     "output_type": "display_data"
    },
    {
     "data": {
      "text/html": [
       "<pre>| 1m 8s                               | 61.5             | 16508           |</pre>"
      ],
      "text/plain": [
       "| 1m 8s                               | 61.5             | 16508           |"
      ]
     },
     "metadata": {},
     "output_type": "display_data"
    },
    {
     "data": {
      "text/html": [
       "<pre>| 1m 9s                               | 62.25            | 16696           |</pre>"
      ],
      "text/plain": [
       "| 1m 9s                               | 62.25            | 16696           |"
      ]
     },
     "metadata": {},
     "output_type": "display_data"
    },
    {
     "data": {
      "text/html": [
       "<pre>| 1m 10s                              | 63               | 16868           |</pre>"
      ],
      "text/plain": [
       "| 1m 10s                              | 63               | 16868           |"
      ]
     },
     "metadata": {},
     "output_type": "display_data"
    },
    {
     "data": {
      "text/html": [
       "<pre>| 1m 11s                              | 63.5             | 17027           |</pre>"
      ],
      "text/plain": [
       "| 1m 11s                              | 63.5             | 17027           |"
      ]
     },
     "metadata": {},
     "output_type": "display_data"
    },
    {
     "data": {
      "text/html": [
       "<pre>| 1m 12s                              | 64.25            | 17238           |</pre>"
      ],
      "text/plain": [
       "| 1m 12s                              | 64.25            | 17238           |"
      ]
     },
     "metadata": {},
     "output_type": "display_data"
    },
    {
     "data": {
      "text/html": [
       "<pre>| 1m 13s                              | 65               | 17399           |</pre>"
      ],
      "text/plain": [
       "| 1m 13s                              | 65               | 17399           |"
      ]
     },
     "metadata": {},
     "output_type": "display_data"
    },
    {
     "data": {
      "text/html": [
       "<pre>| 1m 14s                              | 65.75            | 17612           |</pre>"
      ],
      "text/plain": [
       "| 1m 14s                              | 65.75            | 17612           |"
      ]
     },
     "metadata": {},
     "output_type": "display_data"
    },
    {
     "data": {
      "text/html": [
       "<pre>| 1m 16s                              | 66.5             | 17795           |</pre>"
      ],
      "text/plain": [
       "| 1m 16s                              | 66.5             | 17795           |"
      ]
     },
     "metadata": {},
     "output_type": "display_data"
    },
    {
     "data": {
      "text/html": [
       "<pre>| 1m 17s                              | 67.25            | 18029           |</pre>"
      ],
      "text/plain": [
       "| 1m 17s                              | 67.25            | 18029           |"
      ]
     },
     "metadata": {},
     "output_type": "display_data"
    },
    {
     "data": {
      "text/html": [
       "<pre>| 1m 18s                              | 67.75            | 18152           |</pre>"
      ],
      "text/plain": [
       "| 1m 18s                              | 67.75            | 18152           |"
      ]
     },
     "metadata": {},
     "output_type": "display_data"
    },
    {
     "data": {
      "text/html": [
       "<pre>| 1m 19s                              | 68.25            | 18253           |</pre>"
      ],
      "text/plain": [
       "| 1m 19s                              | 68.25            | 18253           |"
      ]
     },
     "metadata": {},
     "output_type": "display_data"
    },
    {
     "data": {
      "text/html": [
       "<pre>| 1m 20s                              | 68.25            | 18300           |</pre>"
      ],
      "text/plain": [
       "| 1m 20s                              | 68.25            | 18300           |"
      ]
     },
     "metadata": {},
     "output_type": "display_data"
    },
    {
     "data": {
      "text/html": [
       "<pre>| 1m 21s                              | 68.75            | 18403           |</pre>"
      ],
      "text/plain": [
       "| 1m 21s                              | 68.75            | 18403           |"
      ]
     },
     "metadata": {},
     "output_type": "display_data"
    },
    {
     "data": {
      "text/html": [
       "<pre>| 1m 22s                              | 69               | 18480           |</pre>"
      ],
      "text/plain": [
       "| 1m 22s                              | 69               | 18480           |"
      ]
     },
     "metadata": {},
     "output_type": "display_data"
    },
    {
     "data": {
      "text/html": [
       "<pre>| 1m 23s                              | 69.5             | 18594           |</pre>"
      ],
      "text/plain": [
       "| 1m 23s                              | 69.5             | 18594           |"
      ]
     },
     "metadata": {},
     "output_type": "display_data"
    },
    {
     "data": {
      "text/html": [
       "<pre>| 1m 24s                              | 69.75            | 18693           |</pre>"
      ],
      "text/plain": [
       "| 1m 24s                              | 69.75            | 18693           |"
      ]
     },
     "metadata": {},
     "output_type": "display_data"
    },
    {
     "data": {
      "text/html": [
       "<pre>| 1m 25s                              | 70.25            | 18836           |</pre>"
      ],
      "text/plain": [
       "| 1m 25s                              | 70.25            | 18836           |"
      ]
     },
     "metadata": {},
     "output_type": "display_data"
    },
    {
     "data": {
      "text/html": [
       "<pre>| 1m 26s                              | 70.5             | 18911           |</pre>"
      ],
      "text/plain": [
       "| 1m 26s                              | 70.5             | 18911           |"
      ]
     },
     "metadata": {},
     "output_type": "display_data"
    },
    {
     "data": {
      "text/html": [
       "<pre>| 1m 27s                              | 71               | 19035           |</pre>"
      ],
      "text/plain": [
       "| 1m 27s                              | 71               | 19035           |"
      ]
     },
     "metadata": {},
     "output_type": "display_data"
    },
    {
     "data": {
      "text/html": [
       "<pre>| 1m 28s                              | 71.5             | 19126           |</pre>"
      ],
      "text/plain": [
       "| 1m 28s                              | 71.5             | 19126           |"
      ]
     },
     "metadata": {},
     "output_type": "display_data"
    },
    {
     "data": {
      "text/html": [
       "<pre>| 1m 29s                              | 71.75            | 19252           |</pre>"
      ],
      "text/plain": [
       "| 1m 29s                              | 71.75            | 19252           |"
      ]
     },
     "metadata": {},
     "output_type": "display_data"
    },
    {
     "data": {
      "text/html": [
       "<pre>| 1m 30s                              | 72.5             | 19397           |</pre>"
      ],
      "text/plain": [
       "| 1m 30s                              | 72.5             | 19397           |"
      ]
     },
     "metadata": {},
     "output_type": "display_data"
    },
    {
     "data": {
      "text/html": [
       "<pre>| 1m 31s                              | 73               | 19534           |</pre>"
      ],
      "text/plain": [
       "| 1m 31s                              | 73               | 19534           |"
      ]
     },
     "metadata": {},
     "output_type": "display_data"
    },
    {
     "data": {
      "text/html": [
       "<pre>| 1m 32s                              | 73.5             | 19682           |</pre>"
      ],
      "text/plain": [
       "| 1m 32s                              | 73.5             | 19682           |"
      ]
     },
     "metadata": {},
     "output_type": "display_data"
    },
    {
     "data": {
      "text/html": [
       "<pre>| 1m 33s                              | 73.75            | 19789           |</pre>"
      ],
      "text/plain": [
       "| 1m 33s                              | 73.75            | 19789           |"
      ]
     },
     "metadata": {},
     "output_type": "display_data"
    },
    {
     "data": {
      "text/html": [
       "<pre>| 1m 34s                              | 74.25            | 19918           |</pre>"
      ],
      "text/plain": [
       "| 1m 34s                              | 74.25            | 19918           |"
      ]
     },
     "metadata": {},
     "output_type": "display_data"
    },
    {
     "data": {
      "text/html": [
       "<pre>| 1m 35s                              | 74.75            | 19997           |</pre>"
      ],
      "text/plain": [
       "| 1m 35s                              | 74.75            | 19997           |"
      ]
     },
     "metadata": {},
     "output_type": "display_data"
    },
    {
     "data": {
      "text/html": [
       "<pre>| 1m 36s                              | 75               | 20097           |</pre>"
      ],
      "text/plain": [
       "| 1m 36s                              | 75               | 20097           |"
      ]
     },
     "metadata": {},
     "output_type": "display_data"
    },
    {
     "data": {
      "text/html": [
       "<pre>| 1m 37s                              | 75.5             | 20231           |</pre>"
      ],
      "text/plain": [
       "| 1m 37s                              | 75.5             | 20231           |"
      ]
     },
     "metadata": {},
     "output_type": "display_data"
    },
    {
     "data": {
      "text/html": [
       "<pre>| 1m 38s                              | 76               | 20367           |</pre>"
      ],
      "text/plain": [
       "| 1m 38s                              | 76               | 20367           |"
      ]
     },
     "metadata": {},
     "output_type": "display_data"
    },
    {
     "data": {
      "text/html": [
       "<pre>| 1m 39s                              | 76.75            | 20541           |</pre>"
      ],
      "text/plain": [
       "| 1m 39s                              | 76.75            | 20541           |"
      ]
     },
     "metadata": {},
     "output_type": "display_data"
    },
    {
     "data": {
      "text/html": [
       "<pre>| 1m 40s                              | 77               | 20649           |</pre>"
      ],
      "text/plain": [
       "| 1m 40s                              | 77               | 20649           |"
      ]
     },
     "metadata": {},
     "output_type": "display_data"
    },
    {
     "data": {
      "text/html": [
       "<pre>| 1m 41s                              | 77.5             | 20728           |</pre>"
      ],
      "text/plain": [
       "| 1m 41s                              | 77.5             | 20728           |"
      ]
     },
     "metadata": {},
     "output_type": "display_data"
    },
    {
     "data": {
      "text/html": [
       "<pre>| 1m 42s                              | 78               | 20873           |</pre>"
      ],
      "text/plain": [
       "| 1m 42s                              | 78               | 20873           |"
      ]
     },
     "metadata": {},
     "output_type": "display_data"
    },
    {
     "data": {
      "text/html": [
       "<pre>| 1m 43s                              | 78.25            | 20988           |</pre>"
      ],
      "text/plain": [
       "| 1m 43s                              | 78.25            | 20988           |"
      ]
     },
     "metadata": {},
     "output_type": "display_data"
    },
    {
     "data": {
      "text/html": [
       "<pre>| 1m 44s                              | 79               | 21151           |</pre>"
      ],
      "text/plain": [
       "| 1m 44s                              | 79               | 21151           |"
      ]
     },
     "metadata": {},
     "output_type": "display_data"
    },
    {
     "data": {
      "text/html": [
       "<pre>| 1m 45s                              | 79.5             | 21280           |</pre>"
      ],
      "text/plain": [
       "| 1m 45s                              | 79.5             | 21280           |"
      ]
     },
     "metadata": {},
     "output_type": "display_data"
    },
    {
     "data": {
      "text/html": [
       "<pre>| 1m 46s                              | 79.75            | 21350           |</pre>"
      ],
      "text/plain": [
       "| 1m 46s                              | 79.75            | 21350           |"
      ]
     },
     "metadata": {},
     "output_type": "display_data"
    },
    {
     "data": {
      "text/html": [
       "<pre>| 1m 47s                              | 80.25            | 21489           |</pre>"
      ],
      "text/plain": [
       "| 1m 47s                              | 80.25            | 21489           |"
      ]
     },
     "metadata": {},
     "output_type": "display_data"
    },
    {
     "data": {
      "text/html": [
       "<pre>| 1m 48s                              | 80.5             | 21593           |</pre>"
      ],
      "text/plain": [
       "| 1m 48s                              | 80.5             | 21593           |"
      ]
     },
     "metadata": {},
     "output_type": "display_data"
    },
    {
     "data": {
      "text/html": [
       "<pre>| 1m 49s                              | 81.25            | 21730           |</pre>"
      ],
      "text/plain": [
       "| 1m 49s                              | 81.25            | 21730           |"
      ]
     },
     "metadata": {},
     "output_type": "display_data"
    },
    {
     "data": {
      "text/html": [
       "<pre>| 1m 50s                              | 81.5             | 21822           |</pre>"
      ],
      "text/plain": [
       "| 1m 50s                              | 81.5             | 21822           |"
      ]
     },
     "metadata": {},
     "output_type": "display_data"
    },
    {
     "data": {
      "text/html": [
       "<pre>| 1m 51s                              | 81.75            | 21891           |</pre>"
      ],
      "text/plain": [
       "| 1m 51s                              | 81.75            | 21891           |"
      ]
     },
     "metadata": {},
     "output_type": "display_data"
    },
    {
     "data": {
      "text/html": [
       "<pre>| 1m 52s                              | 82.25            | 22020           |</pre>"
      ],
      "text/plain": [
       "| 1m 52s                              | 82.25            | 22020           |"
      ]
     },
     "metadata": {},
     "output_type": "display_data"
    },
    {
     "data": {
      "text/html": [
       "<pre>| 1m 53s                              | 82.25            | 22063           |</pre>"
      ],
      "text/plain": [
       "| 1m 53s                              | 82.25            | 22063           |"
      ]
     },
     "metadata": {},
     "output_type": "display_data"
    },
    {
     "data": {
      "text/html": [
       "<pre>| 1m 54s                              | 82.5             | 22117           |</pre>"
      ],
      "text/plain": [
       "| 1m 54s                              | 82.5             | 22117           |"
      ]
     },
     "metadata": {},
     "output_type": "display_data"
    },
    {
     "data": {
      "text/html": [
       "<pre>| 1m 55s                              | 82.75            | 22169           |</pre>"
      ],
      "text/plain": [
       "| 1m 55s                              | 82.75            | 22169           |"
      ]
     },
     "metadata": {},
     "output_type": "display_data"
    },
    {
     "data": {
      "text/html": [
       "<pre>| 1m 56s                              | 83.25            | 22285           |</pre>"
      ],
      "text/plain": [
       "| 1m 56s                              | 83.25            | 22285           |"
      ]
     },
     "metadata": {},
     "output_type": "display_data"
    },
    {
     "data": {
      "text/html": [
       "<pre>| 1m 57s                              | 83.5             | 22362           |</pre>"
      ],
      "text/plain": [
       "| 1m 57s                              | 83.5             | 22362           |"
      ]
     },
     "metadata": {},
     "output_type": "display_data"
    },
    {
     "data": {
      "text/html": [
       "<pre>| 1m 58s                              | 84               | 22469           |</pre>"
      ],
      "text/plain": [
       "| 1m 58s                              | 84               | 22469           |"
      ]
     },
     "metadata": {},
     "output_type": "display_data"
    },
    {
     "data": {
      "text/html": [
       "<pre>| 1m 59s                              | 84.25            | 22568           |</pre>"
      ],
      "text/plain": [
       "| 1m 59s                              | 84.25            | 22568           |"
      ]
     },
     "metadata": {},
     "output_type": "display_data"
    },
    {
     "data": {
      "text/html": [
       "<pre>| 2m 0s                               | 84.5             | 22635           |</pre>"
      ],
      "text/plain": [
       "| 2m 0s                               | 84.5             | 22635           |"
      ]
     },
     "metadata": {},
     "output_type": "display_data"
    },
    {
     "data": {
      "text/html": [
       "<pre>| 2m 1s                               | 85               | 22774           |</pre>"
      ],
      "text/plain": [
       "| 2m 1s                               | 85               | 22774           |"
      ]
     },
     "metadata": {},
     "output_type": "display_data"
    },
    {
     "data": {
      "text/html": [
       "<pre>| 2m 2s                               | 85.25            | 22812           |</pre>"
      ],
      "text/plain": [
       "| 2m 2s                               | 85.25            | 22812           |"
      ]
     },
     "metadata": {},
     "output_type": "display_data"
    },
    {
     "data": {
      "text/html": [
       "<pre>| 2m 3s                               | 85.5             | 22891           |</pre>"
      ],
      "text/plain": [
       "| 2m 3s                               | 85.5             | 22891           |"
      ]
     },
     "metadata": {},
     "output_type": "display_data"
    },
    {
     "data": {
      "text/html": [
       "<pre>| 2m 4s                               | 86               | 23034           |</pre>"
      ],
      "text/plain": [
       "| 2m 4s                               | 86               | 23034           |"
      ]
     },
     "metadata": {},
     "output_type": "display_data"
    },
    {
     "data": {
      "text/html": [
       "<pre>| 2m 5s                               | 86.5             | 23182           |</pre>"
      ],
      "text/plain": [
       "| 2m 5s                               | 86.5             | 23182           |"
      ]
     },
     "metadata": {},
     "output_type": "display_data"
    },
    {
     "data": {
      "text/html": [
       "<pre>| 2m 6s                               | 87.25            | 23339           |</pre>"
      ],
      "text/plain": [
       "| 2m 6s                               | 87.25            | 23339           |"
      ]
     },
     "metadata": {},
     "output_type": "display_data"
    },
    {
     "data": {
      "text/html": [
       "<pre>| 2m 7s                               | 87.75            | 23507           |</pre>"
      ],
      "text/plain": [
       "| 2m 7s                               | 87.75            | 23507           |"
      ]
     },
     "metadata": {},
     "output_type": "display_data"
    },
    {
     "data": {
      "text/html": [
       "<pre>| 2m 8s                               | 88.25            | 23647           |</pre>"
      ],
      "text/plain": [
       "| 2m 8s                               | 88.25            | 23647           |"
      ]
     },
     "metadata": {},
     "output_type": "display_data"
    },
    {
     "data": {
      "text/html": [
       "<pre>| 2m 9s                               | 88.75            | 23771           |</pre>"
      ],
      "text/plain": [
       "| 2m 9s                               | 88.75            | 23771           |"
      ]
     },
     "metadata": {},
     "output_type": "display_data"
    },
    {
     "data": {
      "text/html": [
       "<pre>| 2m 10s                              | 89.25            | 23883           |</pre>"
      ],
      "text/plain": [
       "| 2m 10s                              | 89.25            | 23883           |"
      ]
     },
     "metadata": {},
     "output_type": "display_data"
    },
    {
     "data": {
      "text/html": [
       "<pre>| 2m 11s                              | 89.75            | 24009           |</pre>"
      ],
      "text/plain": [
       "| 2m 11s                              | 89.75            | 24009           |"
      ]
     },
     "metadata": {},
     "output_type": "display_data"
    },
    {
     "data": {
      "text/html": [
       "<pre>| 2m 12s                              | 90               | 24130           |</pre>"
      ],
      "text/plain": [
       "| 2m 12s                              | 90               | 24130           |"
      ]
     },
     "metadata": {},
     "output_type": "display_data"
    },
    {
     "data": {
      "text/html": [
       "<pre>| 2m 13s                              | 90.75            | 24320           |</pre>"
      ],
      "text/plain": [
       "| 2m 13s                              | 90.75            | 24320           |"
      ]
     },
     "metadata": {},
     "output_type": "display_data"
    },
    {
     "data": {
      "text/html": [
       "<pre>| 2m 14s                              | 91               | 24391           |</pre>"
      ],
      "text/plain": [
       "| 2m 14s                              | 91               | 24391           |"
      ]
     },
     "metadata": {},
     "output_type": "display_data"
    },
    {
     "data": {
      "text/html": [
       "<pre>| 2m 15s                              | 91.5             | 24493           |</pre>"
      ],
      "text/plain": [
       "| 2m 15s                              | 91.5             | 24493           |"
      ]
     },
     "metadata": {},
     "output_type": "display_data"
    },
    {
     "data": {
      "text/html": [
       "<pre>| 2m 16s                              | 92               | 24608           |</pre>"
      ],
      "text/plain": [
       "| 2m 16s                              | 92               | 24608           |"
      ]
     },
     "metadata": {},
     "output_type": "display_data"
    },
    {
     "data": {
      "text/html": [
       "<pre>| 2m 17s                              | 92.25            | 24713           |</pre>"
      ],
      "text/plain": [
       "| 2m 17s                              | 92.25            | 24713           |"
      ]
     },
     "metadata": {},
     "output_type": "display_data"
    },
    {
     "data": {
      "text/html": [
       "<pre>| 2m 18s                              | 92.75            | 24848           |</pre>"
      ],
      "text/plain": [
       "| 2m 18s                              | 92.75            | 24848           |"
      ]
     },
     "metadata": {},
     "output_type": "display_data"
    },
    {
     "data": {
      "text/html": [
       "<pre>| 2m 19s                              | 93               | 24929           |</pre>"
      ],
      "text/plain": [
       "| 2m 19s                              | 93               | 24929           |"
      ]
     },
     "metadata": {},
     "output_type": "display_data"
    },
    {
     "data": {
      "text/html": [
       "<pre>| 2m 20s                              | 93.5             | 25067           |</pre>"
      ],
      "text/plain": [
       "| 2m 20s                              | 93.5             | 25067           |"
      ]
     },
     "metadata": {},
     "output_type": "display_data"
    },
    {
     "data": {
      "text/html": [
       "<pre>| 2m 21s                              | 94.25            | 25229           |</pre>"
      ],
      "text/plain": [
       "| 2m 21s                              | 94.25            | 25229           |"
      ]
     },
     "metadata": {},
     "output_type": "display_data"
    },
    {
     "data": {
      "text/html": [
       "<pre>| 2m 22s                              | 95               | 25410           |</pre>"
      ],
      "text/plain": [
       "| 2m 22s                              | 95               | 25410           |"
      ]
     },
     "metadata": {},
     "output_type": "display_data"
    },
    {
     "data": {
      "text/html": [
       "<pre>| 2m 23s                              | 95.5             | 25581           |</pre>"
      ],
      "text/plain": [
       "| 2m 23s                              | 95.5             | 25581           |"
      ]
     },
     "metadata": {},
     "output_type": "display_data"
    },
    {
     "data": {
      "text/html": [
       "<pre>| 2m 24s                              | 96               | 25718           |</pre>"
      ],
      "text/plain": [
       "| 2m 24s                              | 96               | 25718           |"
      ]
     },
     "metadata": {},
     "output_type": "display_data"
    },
    {
     "data": {
      "text/html": [
       "<pre>| 2m 25s                              | 96.5             | 25867           |</pre>"
      ],
      "text/plain": [
       "| 2m 25s                              | 96.5             | 25867           |"
      ]
     },
     "metadata": {},
     "output_type": "display_data"
    },
    {
     "data": {
      "text/html": [
       "<pre>| 2m 26s                              | 97.25            | 26037           |</pre>"
      ],
      "text/plain": [
       "| 2m 26s                              | 97.25            | 26037           |"
      ]
     },
     "metadata": {},
     "output_type": "display_data"
    },
    {
     "data": {
      "text/html": [
       "<pre>| 2m 27s                              | 97.75            | 26170           |</pre>"
      ],
      "text/plain": [
       "| 2m 27s                              | 97.75            | 26170           |"
      ]
     },
     "metadata": {},
     "output_type": "display_data"
    },
    {
     "data": {
      "text/html": [
       "<pre>| 2m 28s                              | 98.25            | 26318           |</pre>"
      ],
      "text/plain": [
       "| 2m 28s                              | 98.25            | 26318           |"
      ]
     },
     "metadata": {},
     "output_type": "display_data"
    },
    {
     "data": {
      "text/html": [
       "<pre>| 2m 29s                              | 98.75            | 26449           |</pre>"
      ],
      "text/plain": [
       "| 2m 29s                              | 98.75            | 26449           |"
      ]
     },
     "metadata": {},
     "output_type": "display_data"
    },
    {
     "data": {
      "text/html": [
       "<pre>| 2m 30s                              | 99.25            | 26551           |</pre>"
      ],
      "text/plain": [
       "| 2m 30s                              | 99.25            | 26551           |"
      ]
     },
     "metadata": {},
     "output_type": "display_data"
    },
    {
     "data": {
      "text/html": [
       "<pre>| 2m 31s                              | 99.5             | 26656           |</pre>"
      ],
      "text/plain": [
       "| 2m 31s                              | 99.5             | 26656           |"
      ]
     },
     "metadata": {},
     "output_type": "display_data"
    },
    {
     "data": {
      "text/html": [
       "<pre>| 2m 46s                              | 100              | 26744           |</pre>"
      ],
      "text/plain": [
       "| 2m 46s                              | 100              | 26744           |"
      ]
     },
     "metadata": {},
     "output_type": "display_data"
    },
    {
     "data": {
      "text/html": [
       "<pre>+-------------------------------------+------------------+-----------------+</pre>"
      ],
      "text/plain": [
       "+-------------------------------------+------------------+-----------------+"
      ]
     },
     "metadata": {},
     "output_type": "display_data"
    },
    {
     "data": {
      "text/html": [
       "<pre>Finalizing lookup tables.</pre>"
      ],
      "text/plain": [
       "Finalizing lookup tables."
      ]
     },
     "metadata": {},
     "output_type": "display_data"
    },
    {
     "data": {
      "text/html": [
       "<pre>Generating candidate set for working with new users.</pre>"
      ],
      "text/plain": [
       "Generating candidate set for working with new users."
      ]
     },
     "metadata": {},
     "output_type": "display_data"
    },
    {
     "data": {
      "text/html": [
       "<pre>Finished training in 169.772s</pre>"
      ],
      "text/plain": [
       "Finished training in 169.772s"
      ]
     },
     "metadata": {},
     "output_type": "display_data"
    }
   ],
   "source": [
    "training_data = graphlab.SFrame.read_csv(\"ratings.csv\",\n",
    "                                         column_type_hints={\"rating\":int})\n",
    "\n",
    "model = graphlab.recommender.create(training_data, user_id=\"userId\", item_id=\"movieId\")"
   ]
  },
  {
   "cell_type": "code",
   "execution_count": 44,
   "metadata": {
    "collapsed": false
   },
   "outputs": [
    {
     "data": {
      "text/html": [
       "<pre>Recsys training: model = item_similarity</pre>"
      ],
      "text/plain": [
       "Recsys training: model = item_similarity"
      ]
     },
     "metadata": {},
     "output_type": "display_data"
    },
    {
     "data": {
      "text/html": [
       "<pre>Warning: Ignoring columns timestamp;</pre>"
      ],
      "text/plain": [
       "Warning: Ignoring columns timestamp;"
      ]
     },
     "metadata": {},
     "output_type": "display_data"
    },
    {
     "data": {
      "text/html": [
       "<pre>    To use these columns in scoring predictions, use a model that allows the use of additional features.</pre>"
      ],
      "text/plain": [
       "    To use these columns in scoring predictions, use a model that allows the use of additional features."
      ]
     },
     "metadata": {},
     "output_type": "display_data"
    },
    {
     "data": {
      "text/html": [
       "<pre>Preparing data set.</pre>"
      ],
      "text/plain": [
       "Preparing data set."
      ]
     },
     "metadata": {},
     "output_type": "display_data"
    },
    {
     "data": {
      "text/html": [
       "<pre>    Data has 20000263 observations with 138493 users and 26744 items.</pre>"
      ],
      "text/plain": [
       "    Data has 20000263 observations with 138493 users and 26744 items."
      ]
     },
     "metadata": {},
     "output_type": "display_data"
    },
    {
     "data": {
      "text/html": [
       "<pre>    Data prepared in: 23.2868s</pre>"
      ],
      "text/plain": [
       "    Data prepared in: 23.2868s"
      ]
     },
     "metadata": {},
     "output_type": "display_data"
    },
    {
     "data": {
      "text/html": [
       "<pre>Training model from provided data.</pre>"
      ],
      "text/plain": [
       "Training model from provided data."
      ]
     },
     "metadata": {},
     "output_type": "display_data"
    },
    {
     "data": {
      "text/html": [
       "<pre>Gathering per-item and per-user statistics.</pre>"
      ],
      "text/plain": [
       "Gathering per-item and per-user statistics."
      ]
     },
     "metadata": {},
     "output_type": "display_data"
    },
    {
     "data": {
      "text/html": [
       "<pre>+--------------------------------+------------+</pre>"
      ],
      "text/plain": [
       "+--------------------------------+------------+"
      ]
     },
     "metadata": {},
     "output_type": "display_data"
    },
    {
     "data": {
      "text/html": [
       "<pre>| Elapsed Time (Item Statistics) | % Complete |</pre>"
      ],
      "text/plain": [
       "| Elapsed Time (Item Statistics) | % Complete |"
      ]
     },
     "metadata": {},
     "output_type": "display_data"
    },
    {
     "data": {
      "text/html": [
       "<pre>+--------------------------------+------------+</pre>"
      ],
      "text/plain": [
       "+--------------------------------+------------+"
      ]
     },
     "metadata": {},
     "output_type": "display_data"
    },
    {
     "data": {
      "text/html": [
       "<pre>| 19.452ms                       | 0.5        |</pre>"
      ],
      "text/plain": [
       "| 19.452ms                       | 0.5        |"
      ]
     },
     "metadata": {},
     "output_type": "display_data"
    },
    {
     "data": {
      "text/html": [
       "<pre>| 970.587ms                      | 100        |</pre>"
      ],
      "text/plain": [
       "| 970.587ms                      | 100        |"
      ]
     },
     "metadata": {},
     "output_type": "display_data"
    },
    {
     "data": {
      "text/html": [
       "<pre>+--------------------------------+------------+</pre>"
      ],
      "text/plain": [
       "+--------------------------------+------------+"
      ]
     },
     "metadata": {},
     "output_type": "display_data"
    },
    {
     "data": {
      "text/html": [
       "<pre>Setting up lookup tables.</pre>"
      ],
      "text/plain": [
       "Setting up lookup tables."
      ]
     },
     "metadata": {},
     "output_type": "display_data"
    },
    {
     "data": {
      "text/html": [
       "<pre>Processing data in one pass using dense lookup tables.</pre>"
      ],
      "text/plain": [
       "Processing data in one pass using dense lookup tables."
      ]
     },
     "metadata": {},
     "output_type": "display_data"
    },
    {
     "data": {
      "text/html": [
       "<pre>+-------------------------------------+------------------+-----------------+</pre>"
      ],
      "text/plain": [
       "+-------------------------------------+------------------+-----------------+"
      ]
     },
     "metadata": {},
     "output_type": "display_data"
    },
    {
     "data": {
      "text/html": [
       "<pre>| Elapsed Time (Constructing Lookups) | Total % Complete | Items Processed |</pre>"
      ],
      "text/plain": [
       "| Elapsed Time (Constructing Lookups) | Total % Complete | Items Processed |"
      ]
     },
     "metadata": {},
     "output_type": "display_data"
    },
    {
     "data": {
      "text/html": [
       "<pre>+-------------------------------------+------------------+-----------------+</pre>"
      ],
      "text/plain": [
       "+-------------------------------------+------------------+-----------------+"
      ]
     },
     "metadata": {},
     "output_type": "display_data"
    },
    {
     "data": {
      "text/html": [
       "<pre>| 4.34s                               | 0                | 0               |</pre>"
      ],
      "text/plain": [
       "| 4.34s                               | 0                | 0               |"
      ]
     },
     "metadata": {},
     "output_type": "display_data"
    },
    {
     "data": {
      "text/html": [
       "<pre>| 5.35s                               | 0.75             | 245             |</pre>"
      ],
      "text/plain": [
       "| 5.35s                               | 0.75             | 245             |"
      ]
     },
     "metadata": {},
     "output_type": "display_data"
    },
    {
     "data": {
      "text/html": [
       "<pre>| 6.35s                               | 1.5              | 453             |</pre>"
      ],
      "text/plain": [
       "| 6.35s                               | 1.5              | 453             |"
      ]
     },
     "metadata": {},
     "output_type": "display_data"
    },
    {
     "data": {
      "text/html": [
       "<pre>| 7.37s                               | 2.25             | 617             |</pre>"
      ],
      "text/plain": [
       "| 7.37s                               | 2.25             | 617             |"
      ]
     },
     "metadata": {},
     "output_type": "display_data"
    },
    {
     "data": {
      "text/html": [
       "<pre>| 8.37s                               | 2.75             | 737             |</pre>"
      ],
      "text/plain": [
       "| 8.37s                               | 2.75             | 737             |"
      ]
     },
     "metadata": {},
     "output_type": "display_data"
    },
    {
     "data": {
      "text/html": [
       "<pre>| 9.40s                               | 3                | 867             |</pre>"
      ],
      "text/plain": [
       "| 9.40s                               | 3                | 867             |"
      ]
     },
     "metadata": {},
     "output_type": "display_data"
    },
    {
     "data": {
      "text/html": [
       "<pre>| 10.36s                              | 3.75             | 1031            |</pre>"
      ],
      "text/plain": [
       "| 10.36s                              | 3.75             | 1031            |"
      ]
     },
     "metadata": {},
     "output_type": "display_data"
    },
    {
     "data": {
      "text/html": [
       "<pre>| 11.37s                              | 4.5              | 1246            |</pre>"
      ],
      "text/plain": [
       "| 11.37s                              | 4.5              | 1246            |"
      ]
     },
     "metadata": {},
     "output_type": "display_data"
    },
    {
     "data": {
      "text/html": [
       "<pre>| 12.37s                              | 5.5              | 1511            |</pre>"
      ],
      "text/plain": [
       "| 12.37s                              | 5.5              | 1511            |"
      ]
     },
     "metadata": {},
     "output_type": "display_data"
    },
    {
     "data": {
      "text/html": [
       "<pre>| 13.37s                              | 6.5              | 1783            |</pre>"
      ],
      "text/plain": [
       "| 13.37s                              | 6.5              | 1783            |"
      ]
     },
     "metadata": {},
     "output_type": "display_data"
    },
    {
     "data": {
      "text/html": [
       "<pre>| 14.38s                              | 7.75             | 2073            |</pre>"
      ],
      "text/plain": [
       "| 14.38s                              | 7.75             | 2073            |"
      ]
     },
     "metadata": {},
     "output_type": "display_data"
    },
    {
     "data": {
      "text/html": [
       "<pre>| 15.38s                              | 8.75             | 2373            |</pre>"
      ],
      "text/plain": [
       "| 15.38s                              | 8.75             | 2373            |"
      ]
     },
     "metadata": {},
     "output_type": "display_data"
    },
    {
     "data": {
      "text/html": [
       "<pre>| 16.39s                              | 9.75             | 2651            |</pre>"
      ],
      "text/plain": [
       "| 16.39s                              | 9.75             | 2651            |"
      ]
     },
     "metadata": {},
     "output_type": "display_data"
    },
    {
     "data": {
      "text/html": [
       "<pre>| 17.39s                              | 10.75            | 2919            |</pre>"
      ],
      "text/plain": [
       "| 17.39s                              | 10.75            | 2919            |"
      ]
     },
     "metadata": {},
     "output_type": "display_data"
    },
    {
     "data": {
      "text/html": [
       "<pre>| 18.40s                              | 11.5             | 3130            |</pre>"
      ],
      "text/plain": [
       "| 18.40s                              | 11.5             | 3130            |"
      ]
     },
     "metadata": {},
     "output_type": "display_data"
    },
    {
     "data": {
      "text/html": [
       "<pre>| 19.40s                              | 12.25            | 3276            |</pre>"
      ],
      "text/plain": [
       "| 19.40s                              | 12.25            | 3276            |"
      ]
     },
     "metadata": {},
     "output_type": "display_data"
    },
    {
     "data": {
      "text/html": [
       "<pre>| 20.42s                              | 13               | 3477            |</pre>"
      ],
      "text/plain": [
       "| 20.42s                              | 13               | 3477            |"
      ]
     },
     "metadata": {},
     "output_type": "display_data"
    },
    {
     "data": {
      "text/html": [
       "<pre>| 21.43s                              | 13.5             | 3667            |</pre>"
      ],
      "text/plain": [
       "| 21.43s                              | 13.5             | 3667            |"
      ]
     },
     "metadata": {},
     "output_type": "display_data"
    },
    {
     "data": {
      "text/html": [
       "<pre>| 22.41s                              | 14               | 3797            |</pre>"
      ],
      "text/plain": [
       "| 22.41s                              | 14               | 3797            |"
      ]
     },
     "metadata": {},
     "output_type": "display_data"
    },
    {
     "data": {
      "text/html": [
       "<pre>| 23.41s                              | 14.5             | 3936            |</pre>"
      ],
      "text/plain": [
       "| 23.41s                              | 14.5             | 3936            |"
      ]
     },
     "metadata": {},
     "output_type": "display_data"
    },
    {
     "data": {
      "text/html": [
       "<pre>| 24.41s                              | 15.5             | 4159            |</pre>"
      ],
      "text/plain": [
       "| 24.41s                              | 15.5             | 4159            |"
      ]
     },
     "metadata": {},
     "output_type": "display_data"
    },
    {
     "data": {
      "text/html": [
       "<pre>| 25.44s                              | 16               | 4300            |</pre>"
      ],
      "text/plain": [
       "| 25.44s                              | 16               | 4300            |"
      ]
     },
     "metadata": {},
     "output_type": "display_data"
    },
    {
     "data": {
      "text/html": [
       "<pre>| 26.42s                              | 16.5             | 4430            |</pre>"
      ],
      "text/plain": [
       "| 26.42s                              | 16.5             | 4430            |"
      ]
     },
     "metadata": {},
     "output_type": "display_data"
    },
    {
     "data": {
      "text/html": [
       "<pre>| 27.42s                              | 17.25            | 4622            |</pre>"
      ],
      "text/plain": [
       "| 27.42s                              | 17.25            | 4622            |"
      ]
     },
     "metadata": {},
     "output_type": "display_data"
    },
    {
     "data": {
      "text/html": [
       "<pre>| 28.43s                              | 18               | 4855            |</pre>"
      ],
      "text/plain": [
       "| 28.43s                              | 18               | 4855            |"
      ]
     },
     "metadata": {},
     "output_type": "display_data"
    },
    {
     "data": {
      "text/html": [
       "<pre>| 29.43s                              | 19               | 5137            |</pre>"
      ],
      "text/plain": [
       "| 29.43s                              | 19               | 5137            |"
      ]
     },
     "metadata": {},
     "output_type": "display_data"
    },
    {
     "data": {
      "text/html": [
       "<pre>| 30.44s                              | 20               | 5360            |</pre>"
      ],
      "text/plain": [
       "| 30.44s                              | 20               | 5360            |"
      ]
     },
     "metadata": {},
     "output_type": "display_data"
    },
    {
     "data": {
      "text/html": [
       "<pre>| 31.44s                              | 20.75            | 5573            |</pre>"
      ],
      "text/plain": [
       "| 31.44s                              | 20.75            | 5573            |"
      ]
     },
     "metadata": {},
     "output_type": "display_data"
    },
    {
     "data": {
      "text/html": [
       "<pre>| 32.44s                              | 21.75            | 5871            |</pre>"
      ],
      "text/plain": [
       "| 32.44s                              | 21.75            | 5871            |"
      ]
     },
     "metadata": {},
     "output_type": "display_data"
    },
    {
     "data": {
      "text/html": [
       "<pre>| 33.45s                              | 22.75            | 6105            |</pre>"
      ],
      "text/plain": [
       "| 33.45s                              | 22.75            | 6105            |"
      ]
     },
     "metadata": {},
     "output_type": "display_data"
    },
    {
     "data": {
      "text/html": [
       "<pre>| 34.45s                              | 23.25            | 6257            |</pre>"
      ],
      "text/plain": [
       "| 34.45s                              | 23.25            | 6257            |"
      ]
     },
     "metadata": {},
     "output_type": "display_data"
    },
    {
     "data": {
      "text/html": [
       "<pre>| 35.45s                              | 23.5             | 6342            |</pre>"
      ],
      "text/plain": [
       "| 35.45s                              | 23.5             | 6342            |"
      ]
     },
     "metadata": {},
     "output_type": "display_data"
    },
    {
     "data": {
      "text/html": [
       "<pre>| 36.46s                              | 24.5             | 6576            |</pre>"
      ],
      "text/plain": [
       "| 36.46s                              | 24.5             | 6576            |"
      ]
     },
     "metadata": {},
     "output_type": "display_data"
    },
    {
     "data": {
      "text/html": [
       "<pre>| 37.46s                              | 25.25            | 6789            |</pre>"
      ],
      "text/plain": [
       "| 37.46s                              | 25.25            | 6789            |"
      ]
     },
     "metadata": {},
     "output_type": "display_data"
    },
    {
     "data": {
      "text/html": [
       "<pre>| 38.46s                              | 26               | 6977            |</pre>"
      ],
      "text/plain": [
       "| 38.46s                              | 26               | 6977            |"
      ]
     },
     "metadata": {},
     "output_type": "display_data"
    },
    {
     "data": {
      "text/html": [
       "<pre>| 39.49s                              | 26.75            | 7175            |</pre>"
      ],
      "text/plain": [
       "| 39.49s                              | 26.75            | 7175            |"
      ]
     },
     "metadata": {},
     "output_type": "display_data"
    },
    {
     "data": {
      "text/html": [
       "<pre>| 40.48s                              | 27.25            | 7325            |</pre>"
      ],
      "text/plain": [
       "| 40.48s                              | 27.25            | 7325            |"
      ]
     },
     "metadata": {},
     "output_type": "display_data"
    },
    {
     "data": {
      "text/html": [
       "<pre>| 41.48s                              | 28.25            | 7599            |</pre>"
      ],
      "text/plain": [
       "| 41.48s                              | 28.25            | 7599            |"
      ]
     },
     "metadata": {},
     "output_type": "display_data"
    },
    {
     "data": {
      "text/html": [
       "<pre>| 42.48s                              | 29.25            | 7850            |</pre>"
      ],
      "text/plain": [
       "| 42.48s                              | 29.25            | 7850            |"
      ]
     },
     "metadata": {},
     "output_type": "display_data"
    },
    {
     "data": {
      "text/html": [
       "<pre>| 43.49s                              | 29.75            | 8009            |</pre>"
      ],
      "text/plain": [
       "| 43.49s                              | 29.75            | 8009            |"
      ]
     },
     "metadata": {},
     "output_type": "display_data"
    },
    {
     "data": {
      "text/html": [
       "<pre>| 44.49s                              | 30.5             | 8171            |</pre>"
      ],
      "text/plain": [
       "| 44.49s                              | 30.5             | 8171            |"
      ]
     },
     "metadata": {},
     "output_type": "display_data"
    },
    {
     "data": {
      "text/html": [
       "<pre>| 45.50s                              | 31               | 8309            |</pre>"
      ],
      "text/plain": [
       "| 45.50s                              | 31               | 8309            |"
      ]
     },
     "metadata": {},
     "output_type": "display_data"
    },
    {
     "data": {
      "text/html": [
       "<pre>| 46.49s                              | 31.25            | 8398            |</pre>"
      ],
      "text/plain": [
       "| 46.49s                              | 31.25            | 8398            |"
      ]
     },
     "metadata": {},
     "output_type": "display_data"
    },
    {
     "data": {
      "text/html": [
       "<pre>| 47.53s                              | 31.75            | 8551            |</pre>"
      ],
      "text/plain": [
       "| 47.53s                              | 31.75            | 8551            |"
      ]
     },
     "metadata": {},
     "output_type": "display_data"
    },
    {
     "data": {
      "text/html": [
       "<pre>| 48.50s                              | 32.25            | 8671            |</pre>"
      ],
      "text/plain": [
       "| 48.50s                              | 32.25            | 8671            |"
      ]
     },
     "metadata": {},
     "output_type": "display_data"
    },
    {
     "data": {
      "text/html": [
       "<pre>| 49.51s                              | 33               | 8839            |</pre>"
      ],
      "text/plain": [
       "| 49.51s                              | 33               | 8839            |"
      ]
     },
     "metadata": {},
     "output_type": "display_data"
    },
    {
     "data": {
      "text/html": [
       "<pre>| 50.51s                              | 33.75            | 9048            |</pre>"
      ],
      "text/plain": [
       "| 50.51s                              | 33.75            | 9048            |"
      ]
     },
     "metadata": {},
     "output_type": "display_data"
    },
    {
     "data": {
      "text/html": [
       "<pre>| 51.51s                              | 34.25            | 9178            |</pre>"
      ],
      "text/plain": [
       "| 51.51s                              | 34.25            | 9178            |"
      ]
     },
     "metadata": {},
     "output_type": "display_data"
    },
    {
     "data": {
      "text/html": [
       "<pre>| 52.53s                              | 34.5             | 9293            |</pre>"
      ],
      "text/plain": [
       "| 52.53s                              | 34.5             | 9293            |"
      ]
     },
     "metadata": {},
     "output_type": "display_data"
    },
    {
     "data": {
      "text/html": [
       "<pre>| 53.52s                              | 35               | 9403            |</pre>"
      ],
      "text/plain": [
       "| 53.52s                              | 35               | 9403            |"
      ]
     },
     "metadata": {},
     "output_type": "display_data"
    },
    {
     "data": {
      "text/html": [
       "<pre>| 54.52s                              | 35.75            | 9562            |</pre>"
      ],
      "text/plain": [
       "| 54.52s                              | 35.75            | 9562            |"
      ]
     },
     "metadata": {},
     "output_type": "display_data"
    },
    {
     "data": {
      "text/html": [
       "<pre>| 55.54s                              | 36.25            | 9723            |</pre>"
      ],
      "text/plain": [
       "| 55.54s                              | 36.25            | 9723            |"
      ]
     },
     "metadata": {},
     "output_type": "display_data"
    },
    {
     "data": {
      "text/html": [
       "<pre>| 56.53s                              | 36.75            | 9891            |</pre>"
      ],
      "text/plain": [
       "| 56.53s                              | 36.75            | 9891            |"
      ]
     },
     "metadata": {},
     "output_type": "display_data"
    },
    {
     "data": {
      "text/html": [
       "<pre>| 57.53s                              | 37.5             | 10089           |</pre>"
      ],
      "text/plain": [
       "| 57.53s                              | 37.5             | 10089           |"
      ]
     },
     "metadata": {},
     "output_type": "display_data"
    },
    {
     "data": {
      "text/html": [
       "<pre>| 58.54s                              | 38.25            | 10289           |</pre>"
      ],
      "text/plain": [
       "| 58.54s                              | 38.25            | 10289           |"
      ]
     },
     "metadata": {},
     "output_type": "display_data"
    },
    {
     "data": {
      "text/html": [
       "<pre>| 59.55s                              | 39.25            | 10498           |</pre>"
      ],
      "text/plain": [
       "| 59.55s                              | 39.25            | 10498           |"
      ]
     },
     "metadata": {},
     "output_type": "display_data"
    },
    {
     "data": {
      "text/html": [
       "<pre>| 1m 0s                               | 39.75            | 10686           |</pre>"
      ],
      "text/plain": [
       "| 1m 0s                               | 39.75            | 10686           |"
      ]
     },
     "metadata": {},
     "output_type": "display_data"
    },
    {
     "data": {
      "text/html": [
       "<pre>| 1m 1s                               | 40.5             | 10897           |</pre>"
      ],
      "text/plain": [
       "| 1m 1s                               | 40.5             | 10897           |"
      ]
     },
     "metadata": {},
     "output_type": "display_data"
    },
    {
     "data": {
      "text/html": [
       "<pre>| 1m 2s                               | 41.5             | 11113           |</pre>"
      ],
      "text/plain": [
       "| 1m 2s                               | 41.5             | 11113           |"
      ]
     },
     "metadata": {},
     "output_type": "display_data"
    },
    {
     "data": {
      "text/html": [
       "<pre>| 1m 3s                               | 41.75            | 11223           |</pre>"
      ],
      "text/plain": [
       "| 1m 3s                               | 41.75            | 11223           |"
      ]
     },
     "metadata": {},
     "output_type": "display_data"
    },
    {
     "data": {
      "text/html": [
       "<pre>| 1m 4s                               | 42.75            | 11445           |</pre>"
      ],
      "text/plain": [
       "| 1m 4s                               | 42.75            | 11445           |"
      ]
     },
     "metadata": {},
     "output_type": "display_data"
    },
    {
     "data": {
      "text/html": [
       "<pre>| 1m 5s                               | 43.25            | 11612           |</pre>"
      ],
      "text/plain": [
       "| 1m 5s                               | 43.25            | 11612           |"
      ]
     },
     "metadata": {},
     "output_type": "display_data"
    },
    {
     "data": {
      "text/html": [
       "<pre>| 1m 6s                               | 44               | 11784           |</pre>"
      ],
      "text/plain": [
       "| 1m 6s                               | 44               | 11784           |"
      ]
     },
     "metadata": {},
     "output_type": "display_data"
    },
    {
     "data": {
      "text/html": [
       "<pre>| 1m 7s                               | 44.5             | 11939           |</pre>"
      ],
      "text/plain": [
       "| 1m 7s                               | 44.5             | 11939           |"
      ]
     },
     "metadata": {},
     "output_type": "display_data"
    },
    {
     "data": {
      "text/html": [
       "<pre>| 1m 8s                               | 45.25            | 12135           |</pre>"
      ],
      "text/plain": [
       "| 1m 8s                               | 45.25            | 12135           |"
      ]
     },
     "metadata": {},
     "output_type": "display_data"
    },
    {
     "data": {
      "text/html": [
       "<pre>| 1m 9s                               | 45.75            | 12293           |</pre>"
      ],
      "text/plain": [
       "| 1m 9s                               | 45.75            | 12293           |"
      ]
     },
     "metadata": {},
     "output_type": "display_data"
    },
    {
     "data": {
      "text/html": [
       "<pre>| 1m 10s                              | 46.5             | 12467           |</pre>"
      ],
      "text/plain": [
       "| 1m 10s                              | 46.5             | 12467           |"
      ]
     },
     "metadata": {},
     "output_type": "display_data"
    },
    {
     "data": {
      "text/html": [
       "<pre>| 1m 11s                              | 46.75            | 12556           |</pre>"
      ],
      "text/plain": [
       "| 1m 11s                              | 46.75            | 12556           |"
      ]
     },
     "metadata": {},
     "output_type": "display_data"
    },
    {
     "data": {
      "text/html": [
       "<pre>| 1m 12s                              | 47.5             | 12740           |</pre>"
      ],
      "text/plain": [
       "| 1m 12s                              | 47.5             | 12740           |"
      ]
     },
     "metadata": {},
     "output_type": "display_data"
    },
    {
     "data": {
      "text/html": [
       "<pre>| 1m 13s                              | 48.25            | 12957           |</pre>"
      ],
      "text/plain": [
       "| 1m 13s                              | 48.25            | 12957           |"
      ]
     },
     "metadata": {},
     "output_type": "display_data"
    },
    {
     "data": {
      "text/html": [
       "<pre>| 1m 14s                              | 49               | 13115           |</pre>"
      ],
      "text/plain": [
       "| 1m 14s                              | 49               | 13115           |"
      ]
     },
     "metadata": {},
     "output_type": "display_data"
    },
    {
     "data": {
      "text/html": [
       "<pre>| 1m 15s                              | 49.5             | 13295           |</pre>"
      ],
      "text/plain": [
       "| 1m 15s                              | 49.5             | 13295           |"
      ]
     },
     "metadata": {},
     "output_type": "display_data"
    },
    {
     "data": {
      "text/html": [
       "<pre>| 1m 16s                              | 50.25            | 13468           |</pre>"
      ],
      "text/plain": [
       "| 1m 16s                              | 50.25            | 13468           |"
      ]
     },
     "metadata": {},
     "output_type": "display_data"
    },
    {
     "data": {
      "text/html": [
       "<pre>| 1m 17s                              | 51               | 13646           |</pre>"
      ],
      "text/plain": [
       "| 1m 17s                              | 51               | 13646           |"
      ]
     },
     "metadata": {},
     "output_type": "display_data"
    },
    {
     "data": {
      "text/html": [
       "<pre>| 1m 18s                              | 51.25            | 13720           |</pre>"
      ],
      "text/plain": [
       "| 1m 18s                              | 51.25            | 13720           |"
      ]
     },
     "metadata": {},
     "output_type": "display_data"
    },
    {
     "data": {
      "text/html": [
       "<pre>| 1m 19s                              | 51.5             | 13781           |</pre>"
      ],
      "text/plain": [
       "| 1m 19s                              | 51.5             | 13781           |"
      ]
     },
     "metadata": {},
     "output_type": "display_data"
    },
    {
     "data": {
      "text/html": [
       "<pre>| 1m 20s                              | 51.75            | 13878           |</pre>"
      ],
      "text/plain": [
       "| 1m 20s                              | 51.75            | 13878           |"
      ]
     },
     "metadata": {},
     "output_type": "display_data"
    },
    {
     "data": {
      "text/html": [
       "<pre>| 1m 21s                              | 52.25            | 13993           |</pre>"
      ],
      "text/plain": [
       "| 1m 21s                              | 52.25            | 13993           |"
      ]
     },
     "metadata": {},
     "output_type": "display_data"
    },
    {
     "data": {
      "text/html": [
       "<pre>| 1m 22s                              | 52.5             | 14084           |</pre>"
      ],
      "text/plain": [
       "| 1m 22s                              | 52.5             | 14084           |"
      ]
     },
     "metadata": {},
     "output_type": "display_data"
    },
    {
     "data": {
      "text/html": [
       "<pre>| 1m 23s                              | 53               | 14181           |</pre>"
      ],
      "text/plain": [
       "| 1m 23s                              | 53               | 14181           |"
      ]
     },
     "metadata": {},
     "output_type": "display_data"
    },
    {
     "data": {
      "text/html": [
       "<pre>| 1m 24s                              | 53.25            | 14287           |</pre>"
      ],
      "text/plain": [
       "| 1m 24s                              | 53.25            | 14287           |"
      ]
     },
     "metadata": {},
     "output_type": "display_data"
    },
    {
     "data": {
      "text/html": [
       "<pre>| 1m 25s                              | 53.75            | 14420           |</pre>"
      ],
      "text/plain": [
       "| 1m 25s                              | 53.75            | 14420           |"
      ]
     },
     "metadata": {},
     "output_type": "display_data"
    },
    {
     "data": {
      "text/html": [
       "<pre>| 1m 26s                              | 54.25            | 14538           |</pre>"
      ],
      "text/plain": [
       "| 1m 26s                              | 54.25            | 14538           |"
      ]
     },
     "metadata": {},
     "output_type": "display_data"
    },
    {
     "data": {
      "text/html": [
       "<pre>| 1m 27s                              | 54.75            | 14661           |</pre>"
      ],
      "text/plain": [
       "| 1m 27s                              | 54.75            | 14661           |"
      ]
     },
     "metadata": {},
     "output_type": "display_data"
    },
    {
     "data": {
      "text/html": [
       "<pre>| 1m 28s                              | 55.25            | 14805           |</pre>"
      ],
      "text/plain": [
       "| 1m 28s                              | 55.25            | 14805           |"
      ]
     },
     "metadata": {},
     "output_type": "display_data"
    },
    {
     "data": {
      "text/html": [
       "<pre>| 1m 29s                              | 55.75            | 14964           |</pre>"
      ],
      "text/plain": [
       "| 1m 29s                              | 55.75            | 14964           |"
      ]
     },
     "metadata": {},
     "output_type": "display_data"
    },
    {
     "data": {
      "text/html": [
       "<pre>| 1m 30s                              | 56               | 15031           |</pre>"
      ],
      "text/plain": [
       "| 1m 30s                              | 56               | 15031           |"
      ]
     },
     "metadata": {},
     "output_type": "display_data"
    },
    {
     "data": {
      "text/html": [
       "<pre>| 1m 31s                              | 56.5             | 15167           |</pre>"
      ],
      "text/plain": [
       "| 1m 31s                              | 56.5             | 15167           |"
      ]
     },
     "metadata": {},
     "output_type": "display_data"
    },
    {
     "data": {
      "text/html": [
       "<pre>| 1m 32s                              | 57.25            | 15329           |</pre>"
      ],
      "text/plain": [
       "| 1m 32s                              | 57.25            | 15329           |"
      ]
     },
     "metadata": {},
     "output_type": "display_data"
    },
    {
     "data": {
      "text/html": [
       "<pre>| 1m 33s                              | 57.5             | 15417           |</pre>"
      ],
      "text/plain": [
       "| 1m 33s                              | 57.5             | 15417           |"
      ]
     },
     "metadata": {},
     "output_type": "display_data"
    },
    {
     "data": {
      "text/html": [
       "<pre>| 1m 34s                              | 58               | 15538           |</pre>"
      ],
      "text/plain": [
       "| 1m 34s                              | 58               | 15538           |"
      ]
     },
     "metadata": {},
     "output_type": "display_data"
    },
    {
     "data": {
      "text/html": [
       "<pre>| 1m 35s                              | 58.5             | 15677           |</pre>"
      ],
      "text/plain": [
       "| 1m 35s                              | 58.5             | 15677           |"
      ]
     },
     "metadata": {},
     "output_type": "display_data"
    },
    {
     "data": {
      "text/html": [
       "<pre>| 1m 36s                              | 59               | 15823           |</pre>"
      ],
      "text/plain": [
       "| 1m 36s                              | 59               | 15823           |"
      ]
     },
     "metadata": {},
     "output_type": "display_data"
    },
    {
     "data": {
      "text/html": [
       "<pre>| 1m 37s                              | 59.5             | 15934           |</pre>"
      ],
      "text/plain": [
       "| 1m 37s                              | 59.5             | 15934           |"
      ]
     },
     "metadata": {},
     "output_type": "display_data"
    },
    {
     "data": {
      "text/html": [
       "<pre>| 1m 38s                              | 60               | 16049           |</pre>"
      ],
      "text/plain": [
       "| 1m 38s                              | 60               | 16049           |"
      ]
     },
     "metadata": {},
     "output_type": "display_data"
    },
    {
     "data": {
      "text/html": [
       "<pre>| 1m 39s                              | 60.5             | 16213           |</pre>"
      ],
      "text/plain": [
       "| 1m 39s                              | 60.5             | 16213           |"
      ]
     },
     "metadata": {},
     "output_type": "display_data"
    },
    {
     "data": {
      "text/html": [
       "<pre>| 1m 40s                              | 61               | 16335           |</pre>"
      ],
      "text/plain": [
       "| 1m 40s                              | 61               | 16335           |"
      ]
     },
     "metadata": {},
     "output_type": "display_data"
    },
    {
     "data": {
      "text/html": [
       "<pre>| 1m 41s                              | 61.5             | 16487           |</pre>"
      ],
      "text/plain": [
       "| 1m 41s                              | 61.5             | 16487           |"
      ]
     },
     "metadata": {},
     "output_type": "display_data"
    },
    {
     "data": {
      "text/html": [
       "<pre>| 1m 42s                              | 62.25            | 16667           |</pre>"
      ],
      "text/plain": [
       "| 1m 42s                              | 62.25            | 16667           |"
      ]
     },
     "metadata": {},
     "output_type": "display_data"
    },
    {
     "data": {
      "text/html": [
       "<pre>| 1m 43s                              | 62.75            | 16846           |</pre>"
      ],
      "text/plain": [
       "| 1m 43s                              | 62.75            | 16846           |"
      ]
     },
     "metadata": {},
     "output_type": "display_data"
    },
    {
     "data": {
      "text/html": [
       "<pre>| 1m 44s                              | 63.5             | 16999           |</pre>"
      ],
      "text/plain": [
       "| 1m 44s                              | 63.5             | 16999           |"
      ]
     },
     "metadata": {},
     "output_type": "display_data"
    },
    {
     "data": {
      "text/html": [
       "<pre>| 1m 45s                              | 64               | 17122           |</pre>"
      ],
      "text/plain": [
       "| 1m 45s                              | 64               | 17122           |"
      ]
     },
     "metadata": {},
     "output_type": "display_data"
    },
    {
     "data": {
      "text/html": [
       "<pre>| 1m 46s                              | 64               | 17154           |</pre>"
      ],
      "text/plain": [
       "| 1m 46s                              | 64               | 17154           |"
      ]
     },
     "metadata": {},
     "output_type": "display_data"
    },
    {
     "data": {
      "text/html": [
       "<pre>| 1m 47s                              | 64.5             | 17262           |</pre>"
      ],
      "text/plain": [
       "| 1m 47s                              | 64.5             | 17262           |"
      ]
     },
     "metadata": {},
     "output_type": "display_data"
    },
    {
     "data": {
      "text/html": [
       "<pre>| 1m 48s                              | 65               | 17409           |</pre>"
      ],
      "text/plain": [
       "| 1m 48s                              | 65               | 17409           |"
      ]
     },
     "metadata": {},
     "output_type": "display_data"
    },
    {
     "data": {
      "text/html": [
       "<pre>| 1m 49s                              | 65.75            | 17604           |</pre>"
      ],
      "text/plain": [
       "| 1m 49s                              | 65.75            | 17604           |"
      ]
     },
     "metadata": {},
     "output_type": "display_data"
    },
    {
     "data": {
      "text/html": [
       "<pre>| 1m 50s                              | 66.25            | 17738           |</pre>"
      ],
      "text/plain": [
       "| 1m 50s                              | 66.25            | 17738           |"
      ]
     },
     "metadata": {},
     "output_type": "display_data"
    },
    {
     "data": {
      "text/html": [
       "<pre>| 1m 51s                              | 66.75            | 17856           |</pre>"
      ],
      "text/plain": [
       "| 1m 51s                              | 66.75            | 17856           |"
      ]
     },
     "metadata": {},
     "output_type": "display_data"
    },
    {
     "data": {
      "text/html": [
       "<pre>| 1m 52s                              | 67.25            | 17992           |</pre>"
      ],
      "text/plain": [
       "| 1m 52s                              | 67.25            | 17992           |"
      ]
     },
     "metadata": {},
     "output_type": "display_data"
    },
    {
     "data": {
      "text/html": [
       "<pre>| 1m 53s                              | 67.75            | 18149           |</pre>"
      ],
      "text/plain": [
       "| 1m 53s                              | 67.75            | 18149           |"
      ]
     },
     "metadata": {},
     "output_type": "display_data"
    },
    {
     "data": {
      "text/html": [
       "<pre>| 1m 54s                              | 68               | 18217           |</pre>"
      ],
      "text/plain": [
       "| 1m 54s                              | 68               | 18217           |"
      ]
     },
     "metadata": {},
     "output_type": "display_data"
    },
    {
     "data": {
      "text/html": [
       "<pre>| 1m 55s                              | 68.25            | 18319           |</pre>"
      ],
      "text/plain": [
       "| 1m 55s                              | 68.25            | 18319           |"
      ]
     },
     "metadata": {},
     "output_type": "display_data"
    },
    {
     "data": {
      "text/html": [
       "<pre>| 1m 56s                              | 68.75            | 18448           |</pre>"
      ],
      "text/plain": [
       "| 1m 56s                              | 68.75            | 18448           |"
      ]
     },
     "metadata": {},
     "output_type": "display_data"
    },
    {
     "data": {
      "text/html": [
       "<pre>| 1m 57s                              | 69.5             | 18589           |</pre>"
      ],
      "text/plain": [
       "| 1m 57s                              | 69.5             | 18589           |"
      ]
     },
     "metadata": {},
     "output_type": "display_data"
    },
    {
     "data": {
      "text/html": [
       "<pre>| 1m 58s                              | 70               | 18766           |</pre>"
      ],
      "text/plain": [
       "| 1m 58s                              | 70               | 18766           |"
      ]
     },
     "metadata": {},
     "output_type": "display_data"
    },
    {
     "data": {
      "text/html": [
       "<pre>| 1m 59s                              | 70.25            | 18852           |</pre>"
      ],
      "text/plain": [
       "| 1m 59s                              | 70.25            | 18852           |"
      ]
     },
     "metadata": {},
     "output_type": "display_data"
    },
    {
     "data": {
      "text/html": [
       "<pre>| 2m 0s                               | 71               | 18990           |</pre>"
      ],
      "text/plain": [
       "| 2m 0s                               | 71               | 18990           |"
      ]
     },
     "metadata": {},
     "output_type": "display_data"
    },
    {
     "data": {
      "text/html": [
       "<pre>| 2m 1s                               | 71.25            | 19119           |</pre>"
      ],
      "text/plain": [
       "| 2m 1s                               | 71.25            | 19119           |"
      ]
     },
     "metadata": {},
     "output_type": "display_data"
    },
    {
     "data": {
      "text/html": [
       "<pre>| 2m 2s                               | 72               | 19281           |</pre>"
      ],
      "text/plain": [
       "| 2m 2s                               | 72               | 19281           |"
      ]
     },
     "metadata": {},
     "output_type": "display_data"
    },
    {
     "data": {
      "text/html": [
       "<pre>| 2m 3s                               | 73               | 19529           |</pre>"
      ],
      "text/plain": [
       "| 2m 3s                               | 73               | 19529           |"
      ]
     },
     "metadata": {},
     "output_type": "display_data"
    },
    {
     "data": {
      "text/html": [
       "<pre>| 2m 4s                               | 73               | 19565           |</pre>"
      ],
      "text/plain": [
       "| 2m 4s                               | 73               | 19565           |"
      ]
     },
     "metadata": {},
     "output_type": "display_data"
    },
    {
     "data": {
      "text/html": [
       "<pre>| 2m 5s                               | 73.25            | 19652           |</pre>"
      ],
      "text/plain": [
       "| 2m 5s                               | 73.25            | 19652           |"
      ]
     },
     "metadata": {},
     "output_type": "display_data"
    },
    {
     "data": {
      "text/html": [
       "<pre>| 2m 6s                               | 73.75            | 19785           |</pre>"
      ],
      "text/plain": [
       "| 2m 6s                               | 73.75            | 19785           |"
      ]
     },
     "metadata": {},
     "output_type": "display_data"
    },
    {
     "data": {
      "text/html": [
       "<pre>| 2m 7s                               | 74.25            | 19894           |</pre>"
      ],
      "text/plain": [
       "| 2m 7s                               | 74.25            | 19894           |"
      ]
     },
     "metadata": {},
     "output_type": "display_data"
    },
    {
     "data": {
      "text/html": [
       "<pre>| 2m 8s                               | 74.75            | 20028           |</pre>"
      ],
      "text/plain": [
       "| 2m 8s                               | 74.75            | 20028           |"
      ]
     },
     "metadata": {},
     "output_type": "display_data"
    },
    {
     "data": {
      "text/html": [
       "<pre>| 2m 9s                               | 75.25            | 20166           |</pre>"
      ],
      "text/plain": [
       "| 2m 9s                               | 75.25            | 20166           |"
      ]
     },
     "metadata": {},
     "output_type": "display_data"
    },
    {
     "data": {
      "text/html": [
       "<pre>| 2m 10s                              | 75.75            | 20291           |</pre>"
      ],
      "text/plain": [
       "| 2m 10s                              | 75.75            | 20291           |"
      ]
     },
     "metadata": {},
     "output_type": "display_data"
    },
    {
     "data": {
      "text/html": [
       "<pre>| 2m 11s                              | 76               | 20356           |</pre>"
      ],
      "text/plain": [
       "| 2m 11s                              | 76               | 20356           |"
      ]
     },
     "metadata": {},
     "output_type": "display_data"
    },
    {
     "data": {
      "text/html": [
       "<pre>| 2m 12s                              | 76.25            | 20446           |</pre>"
      ],
      "text/plain": [
       "| 2m 12s                              | 76.25            | 20446           |"
      ]
     },
     "metadata": {},
     "output_type": "display_data"
    },
    {
     "data": {
      "text/html": [
       "<pre>| 2m 13s                              | 77               | 20596           |</pre>"
      ],
      "text/plain": [
       "| 2m 13s                              | 77               | 20596           |"
      ]
     },
     "metadata": {},
     "output_type": "display_data"
    },
    {
     "data": {
      "text/html": [
       "<pre>| 2m 14s                              | 77.25            | 20683           |</pre>"
      ],
      "text/plain": [
       "| 2m 14s                              | 77.25            | 20683           |"
      ]
     },
     "metadata": {},
     "output_type": "display_data"
    },
    {
     "data": {
      "text/html": [
       "<pre>| 2m 15s                              | 77.5             | 20783           |</pre>"
      ],
      "text/plain": [
       "| 2m 15s                              | 77.5             | 20783           |"
      ]
     },
     "metadata": {},
     "output_type": "display_data"
    },
    {
     "data": {
      "text/html": [
       "<pre>| 2m 16s                              | 78               | 20889           |</pre>"
      ],
      "text/plain": [
       "| 2m 16s                              | 78               | 20889           |"
      ]
     },
     "metadata": {},
     "output_type": "display_data"
    },
    {
     "data": {
      "text/html": [
       "<pre>| 2m 17s                              | 78.5             | 21019           |</pre>"
      ],
      "text/plain": [
       "| 2m 17s                              | 78.5             | 21019           |"
      ]
     },
     "metadata": {},
     "output_type": "display_data"
    },
    {
     "data": {
      "text/html": [
       "<pre>| 2m 18s                              | 78.75            | 21123           |</pre>"
      ],
      "text/plain": [
       "| 2m 18s                              | 78.75            | 21123           |"
      ]
     },
     "metadata": {},
     "output_type": "display_data"
    },
    {
     "data": {
      "text/html": [
       "<pre>| 2m 19s                              | 79.5             | 21285           |</pre>"
      ],
      "text/plain": [
       "| 2m 19s                              | 79.5             | 21285           |"
      ]
     },
     "metadata": {},
     "output_type": "display_data"
    },
    {
     "data": {
      "text/html": [
       "<pre>| 2m 20s                              | 79.75            | 21373           |</pre>"
      ],
      "text/plain": [
       "| 2m 20s                              | 79.75            | 21373           |"
      ]
     },
     "metadata": {},
     "output_type": "display_data"
    },
    {
     "data": {
      "text/html": [
       "<pre>| 2m 21s                              | 80.25            | 21472           |</pre>"
      ],
      "text/plain": [
       "| 2m 21s                              | 80.25            | 21472           |"
      ]
     },
     "metadata": {},
     "output_type": "display_data"
    },
    {
     "data": {
      "text/html": [
       "<pre>| 2m 22s                              | 80.5             | 21591           |</pre>"
      ],
      "text/plain": [
       "| 2m 22s                              | 80.5             | 21591           |"
      ]
     },
     "metadata": {},
     "output_type": "display_data"
    },
    {
     "data": {
      "text/html": [
       "<pre>| 2m 23s                              | 80.75            | 21631           |</pre>"
      ],
      "text/plain": [
       "| 2m 23s                              | 80.75            | 21631           |"
      ]
     },
     "metadata": {},
     "output_type": "display_data"
    },
    {
     "data": {
      "text/html": [
       "<pre>| 2m 24s                              | 81               | 21681           |</pre>"
      ],
      "text/plain": [
       "| 2m 24s                              | 81               | 21681           |"
      ]
     },
     "metadata": {},
     "output_type": "display_data"
    },
    {
     "data": {
      "text/html": [
       "<pre>| 2m 25s                              | 81.25            | 21756           |</pre>"
      ],
      "text/plain": [
       "| 2m 25s                              | 81.25            | 21756           |"
      ]
     },
     "metadata": {},
     "output_type": "display_data"
    },
    {
     "data": {
      "text/html": [
       "<pre>| 2m 26s                              | 81.75            | 21907           |</pre>"
      ],
      "text/plain": [
       "| 2m 26s                              | 81.75            | 21907           |"
      ]
     },
     "metadata": {},
     "output_type": "display_data"
    },
    {
     "data": {
      "text/html": [
       "<pre>| 2m 27s                              | 82.25            | 22006           |</pre>"
      ],
      "text/plain": [
       "| 2m 27s                              | 82.25            | 22006           |"
      ]
     },
     "metadata": {},
     "output_type": "display_data"
    },
    {
     "data": {
      "text/html": [
       "<pre>| 2m 28s                              | 82.75            | 22132           |</pre>"
      ],
      "text/plain": [
       "| 2m 28s                              | 82.75            | 22132           |"
      ]
     },
     "metadata": {},
     "output_type": "display_data"
    },
    {
     "data": {
      "text/html": [
       "<pre>| 2m 29s                              | 83               | 22223           |</pre>"
      ],
      "text/plain": [
       "| 2m 29s                              | 83               | 22223           |"
      ]
     },
     "metadata": {},
     "output_type": "display_data"
    },
    {
     "data": {
      "text/html": [
       "<pre>| 2m 30s                              | 83.25            | 22287           |</pre>"
      ],
      "text/plain": [
       "| 2m 30s                              | 83.25            | 22287           |"
      ]
     },
     "metadata": {},
     "output_type": "display_data"
    },
    {
     "data": {
      "text/html": [
       "<pre>| 2m 31s                              | 83.5             | 22362           |</pre>"
      ],
      "text/plain": [
       "| 2m 31s                              | 83.5             | 22362           |"
      ]
     },
     "metadata": {},
     "output_type": "display_data"
    },
    {
     "data": {
      "text/html": [
       "<pre>| 2m 33s                              | 83.75            | 22427           |</pre>"
      ],
      "text/plain": [
       "| 2m 33s                              | 83.75            | 22427           |"
      ]
     },
     "metadata": {},
     "output_type": "display_data"
    },
    {
     "data": {
      "text/html": [
       "<pre>| 2m 33s                              | 83.75            | 22458           |</pre>"
      ],
      "text/plain": [
       "| 2m 33s                              | 83.75            | 22458           |"
      ]
     },
     "metadata": {},
     "output_type": "display_data"
    },
    {
     "data": {
      "text/html": [
       "<pre>| 2m 34s                              | 84               | 22522           |</pre>"
      ],
      "text/plain": [
       "| 2m 34s                              | 84               | 22522           |"
      ]
     },
     "metadata": {},
     "output_type": "display_data"
    },
    {
     "data": {
      "text/html": [
       "<pre>| 2m 35s                              | 84.5             | 22624           |</pre>"
      ],
      "text/plain": [
       "| 2m 35s                              | 84.5             | 22624           |"
      ]
     },
     "metadata": {},
     "output_type": "display_data"
    },
    {
     "data": {
      "text/html": [
       "<pre>| 2m 36s                              | 85               | 22736           |</pre>"
      ],
      "text/plain": [
       "| 2m 36s                              | 85               | 22736           |"
      ]
     },
     "metadata": {},
     "output_type": "display_data"
    },
    {
     "data": {
      "text/html": [
       "<pre>| 2m 37s                              | 85.25            | 22826           |</pre>"
      ],
      "text/plain": [
       "| 2m 37s                              | 85.25            | 22826           |"
      ]
     },
     "metadata": {},
     "output_type": "display_data"
    },
    {
     "data": {
      "text/html": [
       "<pre>| 2m 38s                              | 85.5             | 22905           |</pre>"
      ],
      "text/plain": [
       "| 2m 38s                              | 85.5             | 22905           |"
      ]
     },
     "metadata": {},
     "output_type": "display_data"
    },
    {
     "data": {
      "text/html": [
       "<pre>| 2m 39s                              | 86               | 23026           |</pre>"
      ],
      "text/plain": [
       "| 2m 39s                              | 86               | 23026           |"
      ]
     },
     "metadata": {},
     "output_type": "display_data"
    },
    {
     "data": {
      "text/html": [
       "<pre>| 2m 40s                              | 86.5             | 23139           |</pre>"
      ],
      "text/plain": [
       "| 2m 40s                              | 86.5             | 23139           |"
      ]
     },
     "metadata": {},
     "output_type": "display_data"
    },
    {
     "data": {
      "text/html": [
       "<pre>| 2m 41s                              | 86.75            | 23229           |</pre>"
      ],
      "text/plain": [
       "| 2m 41s                              | 86.75            | 23229           |"
      ]
     },
     "metadata": {},
     "output_type": "display_data"
    },
    {
     "data": {
      "text/html": [
       "<pre>| 2m 42s                              | 87.25            | 23376           |</pre>"
      ],
      "text/plain": [
       "| 2m 42s                              | 87.25            | 23376           |"
      ]
     },
     "metadata": {},
     "output_type": "display_data"
    },
    {
     "data": {
      "text/html": [
       "<pre>| 2m 43s                              | 87.5             | 23437           |</pre>"
      ],
      "text/plain": [
       "| 2m 43s                              | 87.5             | 23437           |"
      ]
     },
     "metadata": {},
     "output_type": "display_data"
    },
    {
     "data": {
      "text/html": [
       "<pre>| 2m 44s                              | 87.75            | 23524           |</pre>"
      ],
      "text/plain": [
       "| 2m 44s                              | 87.75            | 23524           |"
      ]
     },
     "metadata": {},
     "output_type": "display_data"
    },
    {
     "data": {
      "text/html": [
       "<pre>| 2m 45s                              | 88.25            | 23647           |</pre>"
      ],
      "text/plain": [
       "| 2m 45s                              | 88.25            | 23647           |"
      ]
     },
     "metadata": {},
     "output_type": "display_data"
    },
    {
     "data": {
      "text/html": [
       "<pre>| 2m 46s                              | 88.5             | 23717           |</pre>"
      ],
      "text/plain": [
       "| 2m 46s                              | 88.5             | 23717           |"
      ]
     },
     "metadata": {},
     "output_type": "display_data"
    },
    {
     "data": {
      "text/html": [
       "<pre>| 2m 47s                              | 88.75            | 23798           |</pre>"
      ],
      "text/plain": [
       "| 2m 47s                              | 88.75            | 23798           |"
      ]
     },
     "metadata": {},
     "output_type": "display_data"
    },
    {
     "data": {
      "text/html": [
       "<pre>| 2m 48s                              | 89.25            | 23896           |</pre>"
      ],
      "text/plain": [
       "| 2m 48s                              | 89.25            | 23896           |"
      ]
     },
     "metadata": {},
     "output_type": "display_data"
    },
    {
     "data": {
      "text/html": [
       "<pre>| 2m 49s                              | 89.75            | 24016           |</pre>"
      ],
      "text/plain": [
       "| 2m 49s                              | 89.75            | 24016           |"
      ]
     },
     "metadata": {},
     "output_type": "display_data"
    },
    {
     "data": {
      "text/html": [
       "<pre>| 2m 50s                              | 90               | 24116           |</pre>"
      ],
      "text/plain": [
       "| 2m 50s                              | 90               | 24116           |"
      ]
     },
     "metadata": {},
     "output_type": "display_data"
    },
    {
     "data": {
      "text/html": [
       "<pre>| 2m 51s                              | 90.25            | 24183           |</pre>"
      ],
      "text/plain": [
       "| 2m 51s                              | 90.25            | 24183           |"
      ]
     },
     "metadata": {},
     "output_type": "display_data"
    },
    {
     "data": {
      "text/html": [
       "<pre>| 2m 53s                              | 90.5             | 24231           |</pre>"
      ],
      "text/plain": [
       "| 2m 53s                              | 90.5             | 24231           |"
      ]
     },
     "metadata": {},
     "output_type": "display_data"
    },
    {
     "data": {
      "text/html": [
       "<pre>| 2m 53s                              | 90.5             | 24252           |</pre>"
      ],
      "text/plain": [
       "| 2m 53s                              | 90.5             | 24252           |"
      ]
     },
     "metadata": {},
     "output_type": "display_data"
    },
    {
     "data": {
      "text/html": [
       "<pre>| 2m 55s                              | 90.75            | 24292           |</pre>"
      ],
      "text/plain": [
       "| 2m 55s                              | 90.75            | 24292           |"
      ]
     },
     "metadata": {},
     "output_type": "display_data"
    },
    {
     "data": {
      "text/html": [
       "<pre>| 2m 55s                              | 90.75            | 24301           |</pre>"
      ],
      "text/plain": [
       "| 2m 55s                              | 90.75            | 24301           |"
      ]
     },
     "metadata": {},
     "output_type": "display_data"
    },
    {
     "data": {
      "text/html": [
       "<pre>| 2m 57s                              | 90.75            | 24324           |</pre>"
      ],
      "text/plain": [
       "| 2m 57s                              | 90.75            | 24324           |"
      ]
     },
     "metadata": {},
     "output_type": "display_data"
    },
    {
     "data": {
      "text/html": [
       "<pre>| 2m 57s                              | 91               | 24370           |</pre>"
      ],
      "text/plain": [
       "| 2m 57s                              | 91               | 24370           |"
      ]
     },
     "metadata": {},
     "output_type": "display_data"
    },
    {
     "data": {
      "text/html": [
       "<pre>| 2m 58s                              | 91               | 24378           |</pre>"
      ],
      "text/plain": [
       "| 2m 58s                              | 91               | 24378           |"
      ]
     },
     "metadata": {},
     "output_type": "display_data"
    },
    {
     "data": {
      "text/html": [
       "<pre>| 2m 59s                              | 91               | 24400           |</pre>"
      ],
      "text/plain": [
       "| 2m 59s                              | 91               | 24400           |"
      ]
     },
     "metadata": {},
     "output_type": "display_data"
    },
    {
     "data": {
      "text/html": [
       "<pre>| 3m 0s                               | 91.25            | 24409           |</pre>"
      ],
      "text/plain": [
       "| 3m 0s                               | 91.25            | 24409           |"
      ]
     },
     "metadata": {},
     "output_type": "display_data"
    },
    {
     "data": {
      "text/html": [
       "<pre>| 3m 1s                               | 91.25            | 24423           |</pre>"
      ],
      "text/plain": [
       "| 3m 1s                               | 91.25            | 24423           |"
      ]
     },
     "metadata": {},
     "output_type": "display_data"
    },
    {
     "data": {
      "text/html": [
       "<pre>| 3m 2s                               | 91.25            | 24435           |</pre>"
      ],
      "text/plain": [
       "| 3m 2s                               | 91.25            | 24435           |"
      ]
     },
     "metadata": {},
     "output_type": "display_data"
    },
    {
     "data": {
      "text/html": [
       "<pre>| 3m 4s                               | 91.5             | 24520           |</pre>"
      ],
      "text/plain": [
       "| 3m 4s                               | 91.5             | 24520           |"
      ]
     },
     "metadata": {},
     "output_type": "display_data"
    },
    {
     "data": {
      "text/html": [
       "<pre>| 3m 5s                               | 91.75            | 24587           |</pre>"
      ],
      "text/plain": [
       "| 3m 5s                               | 91.75            | 24587           |"
      ]
     },
     "metadata": {},
     "output_type": "display_data"
    },
    {
     "data": {
      "text/html": [
       "<pre>| 3m 6s                               | 92               | 24628           |</pre>"
      ],
      "text/plain": [
       "| 3m 6s                               | 92               | 24628           |"
      ]
     },
     "metadata": {},
     "output_type": "display_data"
    },
    {
     "data": {
      "text/html": [
       "<pre>| 3m 7s                               | 92               | 24670           |</pre>"
      ],
      "text/plain": [
       "| 3m 7s                               | 92               | 24670           |"
      ]
     },
     "metadata": {},
     "output_type": "display_data"
    },
    {
     "data": {
      "text/html": [
       "<pre>| 3m 8s                               | 92.25            | 24736           |</pre>"
      ],
      "text/plain": [
       "| 3m 8s                               | 92.25            | 24736           |"
      ]
     },
     "metadata": {},
     "output_type": "display_data"
    },
    {
     "data": {
      "text/html": [
       "<pre>| 3m 9s                               | 92.5             | 24786           |</pre>"
      ],
      "text/plain": [
       "| 3m 9s                               | 92.5             | 24786           |"
      ]
     },
     "metadata": {},
     "output_type": "display_data"
    },
    {
     "data": {
      "text/html": [
       "<pre>| 3m 10s                              | 92.75            | 24846           |</pre>"
      ],
      "text/plain": [
       "| 3m 10s                              | 92.75            | 24846           |"
      ]
     },
     "metadata": {},
     "output_type": "display_data"
    },
    {
     "data": {
      "text/html": [
       "<pre>| 3m 11s                              | 93               | 24903           |</pre>"
      ],
      "text/plain": [
       "| 3m 11s                              | 93               | 24903           |"
      ]
     },
     "metadata": {},
     "output_type": "display_data"
    },
    {
     "data": {
      "text/html": [
       "<pre>| 3m 12s                              | 93.25            | 24960           |</pre>"
      ],
      "text/plain": [
       "| 3m 12s                              | 93.25            | 24960           |"
      ]
     },
     "metadata": {},
     "output_type": "display_data"
    },
    {
     "data": {
      "text/html": [
       "<pre>| 3m 13s                              | 93.25            | 25002           |</pre>"
      ],
      "text/plain": [
       "| 3m 13s                              | 93.25            | 25002           |"
      ]
     },
     "metadata": {},
     "output_type": "display_data"
    },
    {
     "data": {
      "text/html": [
       "<pre>| 3m 14s                              | 93.5             | 25043           |</pre>"
      ],
      "text/plain": [
       "| 3m 14s                              | 93.5             | 25043           |"
      ]
     },
     "metadata": {},
     "output_type": "display_data"
    },
    {
     "data": {
      "text/html": [
       "<pre>| 3m 15s                              | 93.5             | 25071           |</pre>"
      ],
      "text/plain": [
       "| 3m 15s                              | 93.5             | 25071           |"
      ]
     },
     "metadata": {},
     "output_type": "display_data"
    },
    {
     "data": {
      "text/html": [
       "<pre>| 3m 16s                              | 93.75            | 25089           |</pre>"
      ],
      "text/plain": [
       "| 3m 16s                              | 93.75            | 25089           |"
      ]
     },
     "metadata": {},
     "output_type": "display_data"
    },
    {
     "data": {
      "text/html": [
       "<pre>| 3m 17s                              | 93.75            | 25104           |</pre>"
      ],
      "text/plain": [
       "| 3m 17s                              | 93.75            | 25104           |"
      ]
     },
     "metadata": {},
     "output_type": "display_data"
    },
    {
     "data": {
      "text/html": [
       "<pre>| 3m 18s                              | 93.75            | 25110           |</pre>"
      ],
      "text/plain": [
       "| 3m 18s                              | 93.75            | 25110           |"
      ]
     },
     "metadata": {},
     "output_type": "display_data"
    },
    {
     "data": {
      "text/html": [
       "<pre>| 3m 19s                              | 93.75            | 25139           |</pre>"
      ],
      "text/plain": [
       "| 3m 19s                              | 93.75            | 25139           |"
      ]
     },
     "metadata": {},
     "output_type": "display_data"
    },
    {
     "data": {
      "text/html": [
       "<pre>| 3m 20s                              | 94               | 25140           |</pre>"
      ],
      "text/plain": [
       "| 3m 20s                              | 94               | 25140           |"
      ]
     },
     "metadata": {},
     "output_type": "display_data"
    },
    {
     "data": {
      "text/html": [
       "<pre>| 3m 21s                              | 94               | 25150           |</pre>"
      ],
      "text/plain": [
       "| 3m 21s                              | 94               | 25150           |"
      ]
     },
     "metadata": {},
     "output_type": "display_data"
    },
    {
     "data": {
      "text/html": [
       "<pre>| 3m 22s                              | 94               | 25159           |</pre>"
      ],
      "text/plain": [
       "| 3m 22s                              | 94               | 25159           |"
      ]
     },
     "metadata": {},
     "output_type": "display_data"
    },
    {
     "data": {
      "text/html": [
       "<pre>| 3m 23s                              | 94               | 25169           |</pre>"
      ],
      "text/plain": [
       "| 3m 23s                              | 94               | 25169           |"
      ]
     },
     "metadata": {},
     "output_type": "display_data"
    },
    {
     "data": {
      "text/html": [
       "<pre>| 3m 24s                              | 94               | 25180           |</pre>"
      ],
      "text/plain": [
       "| 3m 24s                              | 94               | 25180           |"
      ]
     },
     "metadata": {},
     "output_type": "display_data"
    },
    {
     "data": {
      "text/html": [
       "<pre>| 3m 25s                              | 94               | 25189           |</pre>"
      ],
      "text/plain": [
       "| 3m 25s                              | 94               | 25189           |"
      ]
     },
     "metadata": {},
     "output_type": "display_data"
    },
    {
     "data": {
      "text/html": [
       "<pre>| 3m 26s                              | 94               | 25191           |</pre>"
      ],
      "text/plain": [
       "| 3m 26s                              | 94               | 25191           |"
      ]
     },
     "metadata": {},
     "output_type": "display_data"
    },
    {
     "data": {
      "text/html": [
       "<pre>| 3m 27s                              | 94               | 25195           |</pre>"
      ],
      "text/plain": [
       "| 3m 27s                              | 94               | 25195           |"
      ]
     },
     "metadata": {},
     "output_type": "display_data"
    },
    {
     "data": {
      "text/html": [
       "<pre>| 3m 28s                              | 94.25            | 25219           |</pre>"
      ],
      "text/plain": [
       "| 3m 28s                              | 94.25            | 25219           |"
      ]
     },
     "metadata": {},
     "output_type": "display_data"
    },
    {
     "data": {
      "text/html": [
       "<pre>| 3m 29s                              | 94.25            | 25247           |</pre>"
      ],
      "text/plain": [
       "| 3m 29s                              | 94.25            | 25247           |"
      ]
     },
     "metadata": {},
     "output_type": "display_data"
    },
    {
     "data": {
      "text/html": [
       "<pre>| 3m 30s                              | 94.25            | 25258           |</pre>"
      ],
      "text/plain": [
       "| 3m 30s                              | 94.25            | 25258           |"
      ]
     },
     "metadata": {},
     "output_type": "display_data"
    },
    {
     "data": {
      "text/html": [
       "<pre>| 3m 31s                              | 94.5             | 25291           |</pre>"
      ],
      "text/plain": [
       "| 3m 31s                              | 94.5             | 25291           |"
      ]
     },
     "metadata": {},
     "output_type": "display_data"
    },
    {
     "data": {
      "text/html": [
       "<pre>| 3m 32s                              | 94.5             | 25295           |</pre>"
      ],
      "text/plain": [
       "| 3m 32s                              | 94.5             | 25295           |"
      ]
     },
     "metadata": {},
     "output_type": "display_data"
    },
    {
     "data": {
      "text/html": [
       "<pre>| 3m 33s                              | 94.5             | 25306           |</pre>"
      ],
      "text/plain": [
       "| 3m 33s                              | 94.5             | 25306           |"
      ]
     },
     "metadata": {},
     "output_type": "display_data"
    },
    {
     "data": {
      "text/html": [
       "<pre>| 3m 34s                              | 94.5             | 25318           |</pre>"
      ],
      "text/plain": [
       "| 3m 34s                              | 94.5             | 25318           |"
      ]
     },
     "metadata": {},
     "output_type": "display_data"
    },
    {
     "data": {
      "text/html": [
       "<pre>| 3m 35s                              | 94.5             | 25320           |</pre>"
      ],
      "text/plain": [
       "| 3m 35s                              | 94.5             | 25320           |"
      ]
     },
     "metadata": {},
     "output_type": "display_data"
    },
    {
     "data": {
      "text/html": [
       "<pre>| 3m 36s                              | 94.5             | 25320           |</pre>"
      ],
      "text/plain": [
       "| 3m 36s                              | 94.5             | 25320           |"
      ]
     },
     "metadata": {},
     "output_type": "display_data"
    },
    {
     "data": {
      "text/html": [
       "<pre>| 3m 37s                              | 94.5             | 25320           |</pre>"
      ],
      "text/plain": [
       "| 3m 37s                              | 94.5             | 25320           |"
      ]
     },
     "metadata": {},
     "output_type": "display_data"
    },
    {
     "data": {
      "text/html": [
       "<pre>| 3m 38s                              | 94.5             | 25321           |</pre>"
      ],
      "text/plain": [
       "| 3m 38s                              | 94.5             | 25321           |"
      ]
     },
     "metadata": {},
     "output_type": "display_data"
    },
    {
     "data": {
      "text/html": [
       "<pre>| 3m 39s                              | 94.5             | 25322           |</pre>"
      ],
      "text/plain": [
       "| 3m 39s                              | 94.5             | 25322           |"
      ]
     },
     "metadata": {},
     "output_type": "display_data"
    },
    {
     "data": {
      "text/html": [
       "<pre>| 3m 40s                              | 94.5             | 25334           |</pre>"
      ],
      "text/plain": [
       "| 3m 40s                              | 94.5             | 25334           |"
      ]
     },
     "metadata": {},
     "output_type": "display_data"
    },
    {
     "data": {
      "text/html": [
       "<pre>| 3m 41s                              | 94.75            | 25375           |</pre>"
      ],
      "text/plain": [
       "| 3m 41s                              | 94.75            | 25375           |"
      ]
     },
     "metadata": {},
     "output_type": "display_data"
    },
    {
     "data": {
      "text/html": [
       "<pre>| 3m 46s                              | 94.75            | 25375           |</pre>"
      ],
      "text/plain": [
       "| 3m 46s                              | 94.75            | 25375           |"
      ]
     },
     "metadata": {},
     "output_type": "display_data"
    },
    {
     "data": {
      "text/html": [
       "<pre>| 3m 49s                              | 94.75            | 25376           |</pre>"
      ],
      "text/plain": [
       "| 3m 49s                              | 94.75            | 25376           |"
      ]
     },
     "metadata": {},
     "output_type": "display_data"
    },
    {
     "data": {
      "text/html": [
       "<pre>| 3m 50s                              | 94.75            | 25379           |</pre>"
      ],
      "text/plain": [
       "| 3m 50s                              | 94.75            | 25379           |"
      ]
     },
     "metadata": {},
     "output_type": "display_data"
    },
    {
     "data": {
      "text/html": [
       "<pre>| 3m 51s                              | 94.75            | 25381           |</pre>"
      ],
      "text/plain": [
       "| 3m 51s                              | 94.75            | 25381           |"
      ]
     },
     "metadata": {},
     "output_type": "display_data"
    },
    {
     "data": {
      "text/html": [
       "<pre>| 3m 52s                              | 94.75            | 25385           |</pre>"
      ],
      "text/plain": [
       "| 3m 52s                              | 94.75            | 25385           |"
      ]
     },
     "metadata": {},
     "output_type": "display_data"
    },
    {
     "data": {
      "text/html": [
       "<pre>| 3m 53s                              | 94.75            | 25387           |</pre>"
      ],
      "text/plain": [
       "| 3m 53s                              | 94.75            | 25387           |"
      ]
     },
     "metadata": {},
     "output_type": "display_data"
    },
    {
     "data": {
      "text/html": [
       "<pre>| 3m 54s                              | 94.75            | 25390           |</pre>"
      ],
      "text/plain": [
       "| 3m 54s                              | 94.75            | 25390           |"
      ]
     },
     "metadata": {},
     "output_type": "display_data"
    },
    {
     "data": {
      "text/html": [
       "<pre>| 3m 55s                              | 94.75            | 25406           |</pre>"
      ],
      "text/plain": [
       "| 3m 55s                              | 94.75            | 25406           |"
      ]
     },
     "metadata": {},
     "output_type": "display_data"
    },
    {
     "data": {
      "text/html": [
       "<pre>| 3m 56s                              | 95               | 25424           |</pre>"
      ],
      "text/plain": [
       "| 3m 56s                              | 95               | 25424           |"
      ]
     },
     "metadata": {},
     "output_type": "display_data"
    },
    {
     "data": {
      "text/html": [
       "<pre>| 3m 57s                              | 95               | 25433           |</pre>"
      ],
      "text/plain": [
       "| 3m 57s                              | 95               | 25433           |"
      ]
     },
     "metadata": {},
     "output_type": "display_data"
    },
    {
     "data": {
      "text/html": [
       "<pre>| 3m 58s                              | 95               | 25441           |</pre>"
      ],
      "text/plain": [
       "| 3m 58s                              | 95               | 25441           |"
      ]
     },
     "metadata": {},
     "output_type": "display_data"
    },
    {
     "data": {
      "text/html": [
       "<pre>| 4m 1s                               | 95               | 25452           |</pre>"
      ],
      "text/plain": [
       "| 4m 1s                               | 95               | 25452           |"
      ]
     },
     "metadata": {},
     "output_type": "display_data"
    },
    {
     "data": {
      "text/html": [
       "<pre>| 4m 3s                               | 95               | 25454           |</pre>"
      ],
      "text/plain": [
       "| 4m 3s                               | 95               | 25454           |"
      ]
     },
     "metadata": {},
     "output_type": "display_data"
    },
    {
     "data": {
      "text/html": [
       "<pre>| 4m 3s                               | 95               | 25456           |</pre>"
      ],
      "text/plain": [
       "| 4m 3s                               | 95               | 25456           |"
      ]
     },
     "metadata": {},
     "output_type": "display_data"
    },
    {
     "data": {
      "text/html": [
       "<pre>| 4m 4s                               | 95               | 25457           |</pre>"
      ],
      "text/plain": [
       "| 4m 4s                               | 95               | 25457           |"
      ]
     },
     "metadata": {},
     "output_type": "display_data"
    },
    {
     "data": {
      "text/html": [
       "<pre>| 4m 6s                               | 95               | 25459           |</pre>"
      ],
      "text/plain": [
       "| 4m 6s                               | 95               | 25459           |"
      ]
     },
     "metadata": {},
     "output_type": "display_data"
    },
    {
     "data": {
      "text/html": [
       "<pre>| 4m 6s                               | 95               | 25459           |</pre>"
      ],
      "text/plain": [
       "| 4m 6s                               | 95               | 25459           |"
      ]
     },
     "metadata": {},
     "output_type": "display_data"
    },
    {
     "data": {
      "text/html": [
       "<pre>| 4m 7s                               | 95               | 25465           |</pre>"
      ],
      "text/plain": [
       "| 4m 7s                               | 95               | 25465           |"
      ]
     },
     "metadata": {},
     "output_type": "display_data"
    },
    {
     "data": {
      "text/html": [
       "<pre>| 4m 8s                               | 95               | 25470           |</pre>"
      ],
      "text/plain": [
       "| 4m 8s                               | 95               | 25470           |"
      ]
     },
     "metadata": {},
     "output_type": "display_data"
    },
    {
     "data": {
      "text/html": [
       "<pre>| 4m 10s                              | 95               | 25471           |</pre>"
      ],
      "text/plain": [
       "| 4m 10s                              | 95               | 25471           |"
      ]
     },
     "metadata": {},
     "output_type": "display_data"
    },
    {
     "data": {
      "text/html": [
       "<pre>| 4m 11s                              | 95               | 25472           |</pre>"
      ],
      "text/plain": [
       "| 4m 11s                              | 95               | 25472           |"
      ]
     },
     "metadata": {},
     "output_type": "display_data"
    },
    {
     "data": {
      "text/html": [
       "<pre>| 4m 11s                              | 95               | 25472           |</pre>"
      ],
      "text/plain": [
       "| 4m 11s                              | 95               | 25472           |"
      ]
     },
     "metadata": {},
     "output_type": "display_data"
    },
    {
     "data": {
      "text/html": [
       "<pre>| 4m 12s                              | 95               | 25472           |</pre>"
      ],
      "text/plain": [
       "| 4m 12s                              | 95               | 25472           |"
      ]
     },
     "metadata": {},
     "output_type": "display_data"
    },
    {
     "data": {
      "text/html": [
       "<pre>| 4m 14s                              | 95.25            | 25474           |</pre>"
      ],
      "text/plain": [
       "| 4m 14s                              | 95.25            | 25474           |"
      ]
     },
     "metadata": {},
     "output_type": "display_data"
    },
    {
     "data": {
      "text/html": [
       "<pre>| 4m 15s                              | 95.25            | 25474           |</pre>"
      ],
      "text/plain": [
       "| 4m 15s                              | 95.25            | 25474           |"
      ]
     },
     "metadata": {},
     "output_type": "display_data"
    },
    {
     "data": {
      "text/html": [
       "<pre>| 4m 16s                              | 95.25            | 25476           |</pre>"
      ],
      "text/plain": [
       "| 4m 16s                              | 95.25            | 25476           |"
      ]
     },
     "metadata": {},
     "output_type": "display_data"
    },
    {
     "data": {
      "text/html": [
       "<pre>| 4m 17s                              | 95.25            | 25476           |</pre>"
      ],
      "text/plain": [
       "| 4m 17s                              | 95.25            | 25476           |"
      ]
     },
     "metadata": {},
     "output_type": "display_data"
    },
    {
     "data": {
      "text/html": [
       "<pre>| 4m 20s                              | 95.25            | 25478           |</pre>"
      ],
      "text/plain": [
       "| 4m 20s                              | 95.25            | 25478           |"
      ]
     },
     "metadata": {},
     "output_type": "display_data"
    },
    {
     "data": {
      "text/html": [
       "<pre>| 4m 23s                              | 95.25            | 25482           |</pre>"
      ],
      "text/plain": [
       "| 4m 23s                              | 95.25            | 25482           |"
      ]
     },
     "metadata": {},
     "output_type": "display_data"
    },
    {
     "data": {
      "text/html": [
       "<pre>| 4m 25s                              | 95.25            | 25483           |</pre>"
      ],
      "text/plain": [
       "| 4m 25s                              | 95.25            | 25483           |"
      ]
     },
     "metadata": {},
     "output_type": "display_data"
    },
    {
     "data": {
      "text/html": [
       "<pre>| 4m 27s                              | 95.25            | 25485           |</pre>"
      ],
      "text/plain": [
       "| 4m 27s                              | 95.25            | 25485           |"
      ]
     },
     "metadata": {},
     "output_type": "display_data"
    },
    {
     "data": {
      "text/html": [
       "<pre>| 4m 28s                              | 95.25            | 25488           |</pre>"
      ],
      "text/plain": [
       "| 4m 28s                              | 95.25            | 25488           |"
      ]
     },
     "metadata": {},
     "output_type": "display_data"
    },
    {
     "data": {
      "text/html": [
       "<pre>| 4m 29s                              | 95.25            | 25489           |</pre>"
      ],
      "text/plain": [
       "| 4m 29s                              | 95.25            | 25489           |"
      ]
     },
     "metadata": {},
     "output_type": "display_data"
    },
    {
     "data": {
      "text/html": [
       "<pre>| 4m 30s                              | 95.25            | 25492           |</pre>"
      ],
      "text/plain": [
       "| 4m 30s                              | 95.25            | 25492           |"
      ]
     },
     "metadata": {},
     "output_type": "display_data"
    },
    {
     "data": {
      "text/html": [
       "<pre>| 4m 31s                              | 95.25            | 25504           |</pre>"
      ],
      "text/plain": [
       "| 4m 31s                              | 95.25            | 25504           |"
      ]
     },
     "metadata": {},
     "output_type": "display_data"
    },
    {
     "data": {
      "text/html": [
       "<pre>| 4m 32s                              | 95.25            | 25513           |</pre>"
      ],
      "text/plain": [
       "| 4m 32s                              | 95.25            | 25513           |"
      ]
     },
     "metadata": {},
     "output_type": "display_data"
    },
    {
     "data": {
      "text/html": [
       "<pre>| 4m 34s                              | 95.25            | 25515           |</pre>"
      ],
      "text/plain": [
       "| 4m 34s                              | 95.25            | 25515           |"
      ]
     },
     "metadata": {},
     "output_type": "display_data"
    },
    {
     "data": {
      "text/html": [
       "<pre>| 4m 34s                              | 95.25            | 25515           |</pre>"
      ],
      "text/plain": [
       "| 4m 34s                              | 95.25            | 25515           |"
      ]
     },
     "metadata": {},
     "output_type": "display_data"
    },
    {
     "data": {
      "text/html": [
       "<pre>| 4m 35s                              | 95.25            | 25533           |</pre>"
      ],
      "text/plain": [
       "| 4m 35s                              | 95.25            | 25533           |"
      ]
     },
     "metadata": {},
     "output_type": "display_data"
    },
    {
     "data": {
      "text/html": [
       "<pre>| 4m 36s                              | 95.25            | 25535           |</pre>"
      ],
      "text/plain": [
       "| 4m 36s                              | 95.25            | 25535           |"
      ]
     },
     "metadata": {},
     "output_type": "display_data"
    },
    {
     "data": {
      "text/html": [
       "<pre>| 4m 39s                              | 95.25            | 25538           |</pre>"
      ],
      "text/plain": [
       "| 4m 39s                              | 95.25            | 25538           |"
      ]
     },
     "metadata": {},
     "output_type": "display_data"
    },
    {
     "data": {
      "text/html": [
       "<pre>| 4m 40s                              | 95.25            | 25539           |</pre>"
      ],
      "text/plain": [
       "| 4m 40s                              | 95.25            | 25539           |"
      ]
     },
     "metadata": {},
     "output_type": "display_data"
    },
    {
     "data": {
      "text/html": [
       "<pre>| 4m 42s                              | 95.5             | 25541           |</pre>"
      ],
      "text/plain": [
       "| 4m 42s                              | 95.5             | 25541           |"
      ]
     },
     "metadata": {},
     "output_type": "display_data"
    },
    {
     "data": {
      "text/html": [
       "<pre>| 4m 42s                              | 95.5             | 25542           |</pre>"
      ],
      "text/plain": [
       "| 4m 42s                              | 95.5             | 25542           |"
      ]
     },
     "metadata": {},
     "output_type": "display_data"
    },
    {
     "data": {
      "text/html": [
       "<pre>| 4m 43s                              | 95.5             | 25562           |</pre>"
      ],
      "text/plain": [
       "| 4m 43s                              | 95.5             | 25562           |"
      ]
     },
     "metadata": {},
     "output_type": "display_data"
    },
    {
     "data": {
      "text/html": [
       "<pre>| 4m 45s                              | 95.5             | 25562           |</pre>"
      ],
      "text/plain": [
       "| 4m 45s                              | 95.5             | 25562           |"
      ]
     },
     "metadata": {},
     "output_type": "display_data"
    },
    {
     "data": {
      "text/html": [
       "<pre>| 4m 45s                              | 95.5             | 25563           |</pre>"
      ],
      "text/plain": [
       "| 4m 45s                              | 95.5             | 25563           |"
      ]
     },
     "metadata": {},
     "output_type": "display_data"
    },
    {
     "data": {
      "text/html": [
       "<pre>| 4m 46s                              | 95.5             | 25564           |</pre>"
      ],
      "text/plain": [
       "| 4m 46s                              | 95.5             | 25564           |"
      ]
     },
     "metadata": {},
     "output_type": "display_data"
    },
    {
     "data": {
      "text/html": [
       "<pre>| 4m 47s                              | 95.5             | 25565           |</pre>"
      ],
      "text/plain": [
       "| 4m 47s                              | 95.5             | 25565           |"
      ]
     },
     "metadata": {},
     "output_type": "display_data"
    },
    {
     "data": {
      "text/html": [
       "<pre>| 4m 48s                              | 95.5             | 25568           |</pre>"
      ],
      "text/plain": [
       "| 4m 48s                              | 95.5             | 25568           |"
      ]
     },
     "metadata": {},
     "output_type": "display_data"
    },
    {
     "data": {
      "text/html": [
       "<pre>| 4m 51s                              | 95.5             | 25578           |</pre>"
      ],
      "text/plain": [
       "| 4m 51s                              | 95.5             | 25578           |"
      ]
     },
     "metadata": {},
     "output_type": "display_data"
    },
    {
     "data": {
      "text/html": [
       "<pre>| 4m 54s                              | 95.5             | 25578           |</pre>"
      ],
      "text/plain": [
       "| 4m 54s                              | 95.5             | 25578           |"
      ]
     },
     "metadata": {},
     "output_type": "display_data"
    },
    {
     "data": {
      "text/html": [
       "<pre>| 4m 56s                              | 95.5             | 25580           |</pre>"
      ],
      "text/plain": [
       "| 4m 56s                              | 95.5             | 25580           |"
      ]
     },
     "metadata": {},
     "output_type": "display_data"
    },
    {
     "data": {
      "text/html": [
       "<pre>| 4m 56s                              | 95.5             | 25580           |</pre>"
      ],
      "text/plain": [
       "| 4m 56s                              | 95.5             | 25580           |"
      ]
     },
     "metadata": {},
     "output_type": "display_data"
    },
    {
     "data": {
      "text/html": [
       "<pre>| 4m 57s                              | 95.5             | 25581           |</pre>"
      ],
      "text/plain": [
       "| 4m 57s                              | 95.5             | 25581           |"
      ]
     },
     "metadata": {},
     "output_type": "display_data"
    },
    {
     "data": {
      "text/html": [
       "<pre>| 4m 58s                              | 95.5             | 25585           |</pre>"
      ],
      "text/plain": [
       "| 4m 58s                              | 95.5             | 25585           |"
      ]
     },
     "metadata": {},
     "output_type": "display_data"
    },
    {
     "data": {
      "text/html": [
       "<pre>| 5m 0s                               | 95.5             | 25589           |</pre>"
      ],
      "text/plain": [
       "| 5m 0s                               | 95.5             | 25589           |"
      ]
     },
     "metadata": {},
     "output_type": "display_data"
    },
    {
     "data": {
      "text/html": [
       "<pre>| 5m 4s                               | 95.75            | 25615           |</pre>"
      ],
      "text/plain": [
       "| 5m 4s                               | 95.75            | 25615           |"
      ]
     },
     "metadata": {},
     "output_type": "display_data"
    },
    {
     "data": {
      "text/html": [
       "<pre>| 5m 6s                               | 95.75            | 25620           |</pre>"
      ],
      "text/plain": [
       "| 5m 6s                               | 95.75            | 25620           |"
      ]
     },
     "metadata": {},
     "output_type": "display_data"
    },
    {
     "data": {
      "text/html": [
       "<pre>| 5m 7s                               | 95.75            | 25620           |</pre>"
      ],
      "text/plain": [
       "| 5m 7s                               | 95.75            | 25620           |"
      ]
     },
     "metadata": {},
     "output_type": "display_data"
    },
    {
     "data": {
      "text/html": [
       "<pre>| 5m 7s                               | 95.75            | 25620           |</pre>"
      ],
      "text/plain": [
       "| 5m 7s                               | 95.75            | 25620           |"
      ]
     },
     "metadata": {},
     "output_type": "display_data"
    },
    {
     "data": {
      "text/html": [
       "<pre>| 5m 8s                               | 95.75            | 25622           |</pre>"
      ],
      "text/plain": [
       "| 5m 8s                               | 95.75            | 25622           |"
      ]
     },
     "metadata": {},
     "output_type": "display_data"
    },
    {
     "data": {
      "text/html": [
       "<pre>| 5m 10s                              | 95.75            | 25627           |</pre>"
      ],
      "text/plain": [
       "| 5m 10s                              | 95.75            | 25627           |"
      ]
     },
     "metadata": {},
     "output_type": "display_data"
    },
    {
     "data": {
      "text/html": [
       "<pre>| 5m 10s                              | 95.75            | 25647           |</pre>"
      ],
      "text/plain": [
       "| 5m 10s                              | 95.75            | 25647           |"
      ]
     },
     "metadata": {},
     "output_type": "display_data"
    },
    {
     "data": {
      "text/html": [
       "<pre>| 5m 12s                              | 95.75            | 25650           |</pre>"
      ],
      "text/plain": [
       "| 5m 12s                              | 95.75            | 25650           |"
      ]
     },
     "metadata": {},
     "output_type": "display_data"
    },
    {
     "data": {
      "text/html": [
       "<pre>| 5m 15s                              | 95.75            | 25653           |</pre>"
      ],
      "text/plain": [
       "| 5m 15s                              | 95.75            | 25653           |"
      ]
     },
     "metadata": {},
     "output_type": "display_data"
    },
    {
     "data": {
      "text/html": [
       "<pre>| 5m 16s                              | 95.75            | 25657           |</pre>"
      ],
      "text/plain": [
       "| 5m 16s                              | 95.75            | 25657           |"
      ]
     },
     "metadata": {},
     "output_type": "display_data"
    },
    {
     "data": {
      "text/html": [
       "<pre>| 5m 17s                              | 95.75            | 25661           |</pre>"
      ],
      "text/plain": [
       "| 5m 17s                              | 95.75            | 25661           |"
      ]
     },
     "metadata": {},
     "output_type": "display_data"
    },
    {
     "data": {
      "text/html": [
       "<pre>| 5m 18s                              | 95.75            | 25664           |</pre>"
      ],
      "text/plain": [
       "| 5m 18s                              | 95.75            | 25664           |"
      ]
     },
     "metadata": {},
     "output_type": "display_data"
    },
    {
     "data": {
      "text/html": [
       "<pre>| 5m 19s                              | 95.75            | 25665           |</pre>"
      ],
      "text/plain": [
       "| 5m 19s                              | 95.75            | 25665           |"
      ]
     },
     "metadata": {},
     "output_type": "display_data"
    },
    {
     "data": {
      "text/html": [
       "<pre>| 5m 20s                              | 95.75            | 25666           |</pre>"
      ],
      "text/plain": [
       "| 5m 20s                              | 95.75            | 25666           |"
      ]
     },
     "metadata": {},
     "output_type": "display_data"
    },
    {
     "data": {
      "text/html": [
       "<pre>| 5m 22s                              | 95.75            | 25668           |</pre>"
      ],
      "text/plain": [
       "| 5m 22s                              | 95.75            | 25668           |"
      ]
     },
     "metadata": {},
     "output_type": "display_data"
    },
    {
     "data": {
      "text/html": [
       "<pre>| 5m 23s                              | 95.75            | 25670           |</pre>"
      ],
      "text/plain": [
       "| 5m 23s                              | 95.75            | 25670           |"
      ]
     },
     "metadata": {},
     "output_type": "display_data"
    },
    {
     "data": {
      "text/html": [
       "<pre>| 5m 24s                              | 96               | 25686           |</pre>"
      ],
      "text/plain": [
       "| 5m 24s                              | 96               | 25686           |"
      ]
     },
     "metadata": {},
     "output_type": "display_data"
    },
    {
     "data": {
      "text/html": [
       "<pre>| 5m 25s                              | 96               | 25687           |</pre>"
      ],
      "text/plain": [
       "| 5m 25s                              | 96               | 25687           |"
      ]
     },
     "metadata": {},
     "output_type": "display_data"
    },
    {
     "data": {
      "text/html": [
       "<pre>| 5m 26s                              | 96               | 25690           |</pre>"
      ],
      "text/plain": [
       "| 5m 26s                              | 96               | 25690           |"
      ]
     },
     "metadata": {},
     "output_type": "display_data"
    },
    {
     "data": {
      "text/html": [
       "<pre>| 5m 27s                              | 96               | 25691           |</pre>"
      ],
      "text/plain": [
       "| 5m 27s                              | 96               | 25691           |"
      ]
     },
     "metadata": {},
     "output_type": "display_data"
    },
    {
     "data": {
      "text/html": [
       "<pre>| 5m 31s                              | 96               | 25692           |</pre>"
      ],
      "text/plain": [
       "| 5m 31s                              | 96               | 25692           |"
      ]
     },
     "metadata": {},
     "output_type": "display_data"
    },
    {
     "data": {
      "text/html": [
       "<pre>| 5m 32s                              | 96               | 25693           |</pre>"
      ],
      "text/plain": [
       "| 5m 32s                              | 96               | 25693           |"
      ]
     },
     "metadata": {},
     "output_type": "display_data"
    },
    {
     "data": {
      "text/html": [
       "<pre>| 5m 33s                              | 96               | 25703           |</pre>"
      ],
      "text/plain": [
       "| 5m 33s                              | 96               | 25703           |"
      ]
     },
     "metadata": {},
     "output_type": "display_data"
    },
    {
     "data": {
      "text/html": [
       "<pre>| 5m 35s                              | 96               | 25707           |</pre>"
      ],
      "text/plain": [
       "| 5m 35s                              | 96               | 25707           |"
      ]
     },
     "metadata": {},
     "output_type": "display_data"
    },
    {
     "data": {
      "text/html": [
       "<pre>| 5m 35s                              | 96               | 25713           |</pre>"
      ],
      "text/plain": [
       "| 5m 35s                              | 96               | 25713           |"
      ]
     },
     "metadata": {},
     "output_type": "display_data"
    },
    {
     "data": {
      "text/html": [
       "<pre>| 5m 36s                              | 96               | 25718           |</pre>"
      ],
      "text/plain": [
       "| 5m 36s                              | 96               | 25718           |"
      ]
     },
     "metadata": {},
     "output_type": "display_data"
    },
    {
     "data": {
      "text/html": [
       "<pre>| 5m 38s                              | 96               | 25724           |</pre>"
      ],
      "text/plain": [
       "| 5m 38s                              | 96               | 25724           |"
      ]
     },
     "metadata": {},
     "output_type": "display_data"
    },
    {
     "data": {
      "text/html": [
       "<pre>| 5m 39s                              | 96               | 25724           |</pre>"
      ],
      "text/plain": [
       "| 5m 39s                              | 96               | 25724           |"
      ]
     },
     "metadata": {},
     "output_type": "display_data"
    },
    {
     "data": {
      "text/html": [
       "<pre>| 5m 40s                              | 96               | 25732           |</pre>"
      ],
      "text/plain": [
       "| 5m 40s                              | 96               | 25732           |"
      ]
     },
     "metadata": {},
     "output_type": "display_data"
    },
    {
     "data": {
      "text/html": [
       "<pre>| 5m 41s                              | 96               | 25734           |</pre>"
      ],
      "text/plain": [
       "| 5m 41s                              | 96               | 25734           |"
      ]
     },
     "metadata": {},
     "output_type": "display_data"
    },
    {
     "data": {
      "text/html": [
       "<pre>| 5m 42s                              | 96               | 25734           |</pre>"
      ],
      "text/plain": [
       "| 5m 42s                              | 96               | 25734           |"
      ]
     },
     "metadata": {},
     "output_type": "display_data"
    },
    {
     "data": {
      "text/html": [
       "<pre>| 5m 43s                              | 96               | 25737           |</pre>"
      ],
      "text/plain": [
       "| 5m 43s                              | 96               | 25737           |"
      ]
     },
     "metadata": {},
     "output_type": "display_data"
    },
    {
     "data": {
      "text/html": [
       "<pre>| 5m 44s                              | 96               | 25739           |</pre>"
      ],
      "text/plain": [
       "| 5m 44s                              | 96               | 25739           |"
      ]
     },
     "metadata": {},
     "output_type": "display_data"
    },
    {
     "data": {
      "text/html": [
       "<pre>| 5m 45s                              | 96.25            | 25750           |</pre>"
      ],
      "text/plain": [
       "| 5m 45s                              | 96.25            | 25750           |"
      ]
     },
     "metadata": {},
     "output_type": "display_data"
    },
    {
     "data": {
      "text/html": [
       "<pre>| 5m 45s                              | 96.25            | 25755           |</pre>"
      ],
      "text/plain": [
       "| 5m 45s                              | 96.25            | 25755           |"
      ]
     },
     "metadata": {},
     "output_type": "display_data"
    },
    {
     "data": {
      "text/html": [
       "<pre>| 5m 47s                              | 96.25            | 25767           |</pre>"
      ],
      "text/plain": [
       "| 5m 47s                              | 96.25            | 25767           |"
      ]
     },
     "metadata": {},
     "output_type": "display_data"
    },
    {
     "data": {
      "text/html": [
       "<pre>| 5m 48s                              | 96.25            | 25770           |</pre>"
      ],
      "text/plain": [
       "| 5m 48s                              | 96.25            | 25770           |"
      ]
     },
     "metadata": {},
     "output_type": "display_data"
    },
    {
     "data": {
      "text/html": [
       "<pre>| 5m 49s                              | 96.25            | 25770           |</pre>"
      ],
      "text/plain": [
       "| 5m 49s                              | 96.25            | 25770           |"
      ]
     },
     "metadata": {},
     "output_type": "display_data"
    },
    {
     "data": {
      "text/html": [
       "<pre>| 5m 50s                              | 96.25            | 25775           |</pre>"
      ],
      "text/plain": [
       "| 5m 50s                              | 96.25            | 25775           |"
      ]
     },
     "metadata": {},
     "output_type": "display_data"
    },
    {
     "data": {
      "text/html": [
       "<pre>| 5m 54s                              | 96.25            | 25777           |</pre>"
      ],
      "text/plain": [
       "| 5m 54s                              | 96.25            | 25777           |"
      ]
     },
     "metadata": {},
     "output_type": "display_data"
    },
    {
     "data": {
      "text/html": [
       "<pre>| 5m 56s                              | 96.25            | 25778           |</pre>"
      ],
      "text/plain": [
       "| 5m 56s                              | 96.25            | 25778           |"
      ]
     },
     "metadata": {},
     "output_type": "display_data"
    },
    {
     "data": {
      "text/html": [
       "<pre>| 5m 57s                              | 96.25            | 25780           |</pre>"
      ],
      "text/plain": [
       "| 5m 57s                              | 96.25            | 25780           |"
      ]
     },
     "metadata": {},
     "output_type": "display_data"
    },
    {
     "data": {
      "text/html": [
       "<pre>| 5m 58s                              | 96.25            | 25785           |</pre>"
      ],
      "text/plain": [
       "| 5m 58s                              | 96.25            | 25785           |"
      ]
     },
     "metadata": {},
     "output_type": "display_data"
    },
    {
     "data": {
      "text/html": [
       "<pre>| 5m 59s                              | 96.25            | 25788           |</pre>"
      ],
      "text/plain": [
       "| 5m 59s                              | 96.25            | 25788           |"
      ]
     },
     "metadata": {},
     "output_type": "display_data"
    },
    {
     "data": {
      "text/html": [
       "<pre>| 6m 0s                               | 96.25            | 25790           |</pre>"
      ],
      "text/plain": [
       "| 6m 0s                               | 96.25            | 25790           |"
      ]
     },
     "metadata": {},
     "output_type": "display_data"
    },
    {
     "data": {
      "text/html": [
       "<pre>| 6m 1s                               | 96.25            | 25791           |</pre>"
      ],
      "text/plain": [
       "| 6m 1s                               | 96.25            | 25791           |"
      ]
     },
     "metadata": {},
     "output_type": "display_data"
    },
    {
     "data": {
      "text/html": [
       "<pre>| 6m 2s                               | 96.25            | 25793           |</pre>"
      ],
      "text/plain": [
       "| 6m 2s                               | 96.25            | 25793           |"
      ]
     },
     "metadata": {},
     "output_type": "display_data"
    },
    {
     "data": {
      "text/html": [
       "<pre>| 6m 3s                               | 96.25            | 25795           |</pre>"
      ],
      "text/plain": [
       "| 6m 3s                               | 96.25            | 25795           |"
      ]
     },
     "metadata": {},
     "output_type": "display_data"
    },
    {
     "data": {
      "text/html": [
       "<pre>| 6m 4s                               | 96.25            | 25799           |</pre>"
      ],
      "text/plain": [
       "| 6m 4s                               | 96.25            | 25799           |"
      ]
     },
     "metadata": {},
     "output_type": "display_data"
    },
    {
     "data": {
      "text/html": [
       "<pre>| 6m 6s                               | 96.25            | 25803           |</pre>"
      ],
      "text/plain": [
       "| 6m 6s                               | 96.25            | 25803           |"
      ]
     },
     "metadata": {},
     "output_type": "display_data"
    },
    {
     "data": {
      "text/html": [
       "<pre>| 6m 7s                               | 96.25            | 25805           |</pre>"
      ],
      "text/plain": [
       "| 6m 7s                               | 96.25            | 25805           |"
      ]
     },
     "metadata": {},
     "output_type": "display_data"
    },
    {
     "data": {
      "text/html": [
       "<pre>| 6m 8s                               | 96.5             | 25808           |</pre>"
      ],
      "text/plain": [
       "| 6m 8s                               | 96.5             | 25808           |"
      ]
     },
     "metadata": {},
     "output_type": "display_data"
    },
    {
     "data": {
      "text/html": [
       "<pre>| 6m 9s                               | 96.5             | 25809           |</pre>"
      ],
      "text/plain": [
       "| 6m 9s                               | 96.5             | 25809           |"
      ]
     },
     "metadata": {},
     "output_type": "display_data"
    },
    {
     "data": {
      "text/html": [
       "<pre>| 6m 10s                              | 96.5             | 25813           |</pre>"
      ],
      "text/plain": [
       "| 6m 10s                              | 96.5             | 25813           |"
      ]
     },
     "metadata": {},
     "output_type": "display_data"
    },
    {
     "data": {
      "text/html": [
       "<pre>| 6m 11s                              | 96.5             | 25816           |</pre>"
      ],
      "text/plain": [
       "| 6m 11s                              | 96.5             | 25816           |"
      ]
     },
     "metadata": {},
     "output_type": "display_data"
    },
    {
     "data": {
      "text/html": [
       "<pre>| 6m 13s                              | 96.5             | 25818           |</pre>"
      ],
      "text/plain": [
       "| 6m 13s                              | 96.5             | 25818           |"
      ]
     },
     "metadata": {},
     "output_type": "display_data"
    },
    {
     "data": {
      "text/html": [
       "<pre>| 6m 13s                              | 96.5             | 25821           |</pre>"
      ],
      "text/plain": [
       "| 6m 13s                              | 96.5             | 25821           |"
      ]
     },
     "metadata": {},
     "output_type": "display_data"
    },
    {
     "data": {
      "text/html": [
       "<pre>| 6m 14s                              | 96.5             | 25824           |</pre>"
      ],
      "text/plain": [
       "| 6m 14s                              | 96.5             | 25824           |"
      ]
     },
     "metadata": {},
     "output_type": "display_data"
    },
    {
     "data": {
      "text/html": [
       "<pre>| 6m 15s                              | 96.5             | 25831           |</pre>"
      ],
      "text/plain": [
       "| 6m 15s                              | 96.5             | 25831           |"
      ]
     },
     "metadata": {},
     "output_type": "display_data"
    },
    {
     "data": {
      "text/html": [
       "<pre>| 6m 16s                              | 96.5             | 25834           |</pre>"
      ],
      "text/plain": [
       "| 6m 16s                              | 96.5             | 25834           |"
      ]
     },
     "metadata": {},
     "output_type": "display_data"
    },
    {
     "data": {
      "text/html": [
       "<pre>| 6m 19s                              | 96.5             | 25838           |</pre>"
      ],
      "text/plain": [
       "| 6m 19s                              | 96.5             | 25838           |"
      ]
     },
     "metadata": {},
     "output_type": "display_data"
    },
    {
     "data": {
      "text/html": [
       "<pre>| 6m 20s                              | 96.5             | 25840           |</pre>"
      ],
      "text/plain": [
       "| 6m 20s                              | 96.5             | 25840           |"
      ]
     },
     "metadata": {},
     "output_type": "display_data"
    },
    {
     "data": {
      "text/html": [
       "<pre>| 6m 21s                              | 96.5             | 25844           |</pre>"
      ],
      "text/plain": [
       "| 6m 21s                              | 96.5             | 25844           |"
      ]
     },
     "metadata": {},
     "output_type": "display_data"
    },
    {
     "data": {
      "text/html": [
       "<pre>| 6m 22s                              | 96.5             | 25865           |</pre>"
      ],
      "text/plain": [
       "| 6m 22s                              | 96.5             | 25865           |"
      ]
     },
     "metadata": {},
     "output_type": "display_data"
    },
    {
     "data": {
      "text/html": [
       "<pre>| 6m 23s                              | 96.5             | 25872           |</pre>"
      ],
      "text/plain": [
       "| 6m 23s                              | 96.5             | 25872           |"
      ]
     },
     "metadata": {},
     "output_type": "display_data"
    },
    {
     "data": {
      "text/html": [
       "<pre>| 6m 24s                              | 96.5             | 25873           |</pre>"
      ],
      "text/plain": [
       "| 6m 24s                              | 96.5             | 25873           |"
      ]
     },
     "metadata": {},
     "output_type": "display_data"
    },
    {
     "data": {
      "text/html": [
       "<pre>| 6m 26s                              | 96.75            | 25880           |</pre>"
      ],
      "text/plain": [
       "| 6m 26s                              | 96.75            | 25880           |"
      ]
     },
     "metadata": {},
     "output_type": "display_data"
    },
    {
     "data": {
      "text/html": [
       "<pre>| 6m 26s                              | 96.75            | 25882           |</pre>"
      ],
      "text/plain": [
       "| 6m 26s                              | 96.75            | 25882           |"
      ]
     },
     "metadata": {},
     "output_type": "display_data"
    },
    {
     "data": {
      "text/html": [
       "<pre>| 6m 27s                              | 96.75            | 25886           |</pre>"
      ],
      "text/plain": [
       "| 6m 27s                              | 96.75            | 25886           |"
      ]
     },
     "metadata": {},
     "output_type": "display_data"
    },
    {
     "data": {
      "text/html": [
       "<pre>| 6m 31s                              | 96.75            | 25887           |</pre>"
      ],
      "text/plain": [
       "| 6m 31s                              | 96.75            | 25887           |"
      ]
     },
     "metadata": {},
     "output_type": "display_data"
    },
    {
     "data": {
      "text/html": [
       "<pre>| 6m 34s                              | 96.75            | 25888           |</pre>"
      ],
      "text/plain": [
       "| 6m 34s                              | 96.75            | 25888           |"
      ]
     },
     "metadata": {},
     "output_type": "display_data"
    },
    {
     "data": {
      "text/html": [
       "<pre>| 6m 35s                              | 96.75            | 25890           |</pre>"
      ],
      "text/plain": [
       "| 6m 35s                              | 96.75            | 25890           |"
      ]
     },
     "metadata": {},
     "output_type": "display_data"
    },
    {
     "data": {
      "text/html": [
       "<pre>| 6m 36s                              | 96.75            | 25893           |</pre>"
      ],
      "text/plain": [
       "| 6m 36s                              | 96.75            | 25893           |"
      ]
     },
     "metadata": {},
     "output_type": "display_data"
    },
    {
     "data": {
      "text/html": [
       "<pre>| 6m 38s                              | 96.75            | 25904           |</pre>"
      ],
      "text/plain": [
       "| 6m 38s                              | 96.75            | 25904           |"
      ]
     },
     "metadata": {},
     "output_type": "display_data"
    },
    {
     "data": {
      "text/html": [
       "<pre>| 6m 39s                              | 96.75            | 25906           |</pre>"
      ],
      "text/plain": [
       "| 6m 39s                              | 96.75            | 25906           |"
      ]
     },
     "metadata": {},
     "output_type": "display_data"
    },
    {
     "data": {
      "text/html": [
       "<pre>| 6m 39s                              | 96.75            | 25909           |</pre>"
      ],
      "text/plain": [
       "| 6m 39s                              | 96.75            | 25909           |"
      ]
     },
     "metadata": {},
     "output_type": "display_data"
    },
    {
     "data": {
      "text/html": [
       "<pre>| 6m 40s                              | 96.75            | 25918           |</pre>"
      ],
      "text/plain": [
       "| 6m 40s                              | 96.75            | 25918           |"
      ]
     },
     "metadata": {},
     "output_type": "display_data"
    },
    {
     "data": {
      "text/html": [
       "<pre>| 6m 41s                              | 96.75            | 25922           |</pre>"
      ],
      "text/plain": [
       "| 6m 41s                              | 96.75            | 25922           |"
      ]
     },
     "metadata": {},
     "output_type": "display_data"
    },
    {
     "data": {
      "text/html": [
       "<pre>| 6m 43s                              | 96.75            | 25925           |</pre>"
      ],
      "text/plain": [
       "| 6m 43s                              | 96.75            | 25925           |"
      ]
     },
     "metadata": {},
     "output_type": "display_data"
    },
    {
     "data": {
      "text/html": [
       "<pre>| 6m 44s                              | 96.75            | 25927           |</pre>"
      ],
      "text/plain": [
       "| 6m 44s                              | 96.75            | 25927           |"
      ]
     },
     "metadata": {},
     "output_type": "display_data"
    },
    {
     "data": {
      "text/html": [
       "<pre>| 6m 44s                              | 96.75            | 25928           |</pre>"
      ],
      "text/plain": [
       "| 6m 44s                              | 96.75            | 25928           |"
      ]
     },
     "metadata": {},
     "output_type": "display_data"
    },
    {
     "data": {
      "text/html": [
       "<pre>| 6m 45s                              | 96.75            | 25930           |</pre>"
      ],
      "text/plain": [
       "| 6m 45s                              | 96.75            | 25930           |"
      ]
     },
     "metadata": {},
     "output_type": "display_data"
    },
    {
     "data": {
      "text/html": [
       "<pre>| 6m 46s                              | 97               | 25951           |</pre>"
      ],
      "text/plain": [
       "| 6m 46s                              | 97               | 25951           |"
      ]
     },
     "metadata": {},
     "output_type": "display_data"
    },
    {
     "data": {
      "text/html": [
       "<pre>| 6m 47s                              | 97               | 25954           |</pre>"
      ],
      "text/plain": [
       "| 6m 47s                              | 97               | 25954           |"
      ]
     },
     "metadata": {},
     "output_type": "display_data"
    },
    {
     "data": {
      "text/html": [
       "<pre>| 6m 48s                              | 97               | 25970           |</pre>"
      ],
      "text/plain": [
       "| 6m 48s                              | 97               | 25970           |"
      ]
     },
     "metadata": {},
     "output_type": "display_data"
    },
    {
     "data": {
      "text/html": [
       "<pre>| 6m 49s                              | 97               | 25971           |</pre>"
      ],
      "text/plain": [
       "| 6m 49s                              | 97               | 25971           |"
      ]
     },
     "metadata": {},
     "output_type": "display_data"
    },
    {
     "data": {
      "text/html": [
       "<pre>| 6m 50s                              | 97               | 25981           |</pre>"
      ],
      "text/plain": [
       "| 6m 50s                              | 97               | 25981           |"
      ]
     },
     "metadata": {},
     "output_type": "display_data"
    },
    {
     "data": {
      "text/html": [
       "<pre>| 6m 51s                              | 97               | 25988           |</pre>"
      ],
      "text/plain": [
       "| 6m 51s                              | 97               | 25988           |"
      ]
     },
     "metadata": {},
     "output_type": "display_data"
    },
    {
     "data": {
      "text/html": [
       "<pre>| 6m 53s                              | 97               | 26001           |</pre>"
      ],
      "text/plain": [
       "| 6m 53s                              | 97               | 26001           |"
      ]
     },
     "metadata": {},
     "output_type": "display_data"
    },
    {
     "data": {
      "text/html": [
       "<pre>| 6m 53s                              | 97               | 26004           |</pre>"
      ],
      "text/plain": [
       "| 6m 53s                              | 97               | 26004           |"
      ]
     },
     "metadata": {},
     "output_type": "display_data"
    },
    {
     "data": {
      "text/html": [
       "<pre>| 6m 54s                              | 97.25            | 26017           |</pre>"
      ],
      "text/plain": [
       "| 6m 54s                              | 97.25            | 26017           |"
      ]
     },
     "metadata": {},
     "output_type": "display_data"
    },
    {
     "data": {
      "text/html": [
       "<pre>| 6m 56s                              | 97.25            | 26023           |</pre>"
      ],
      "text/plain": [
       "| 6m 56s                              | 97.25            | 26023           |"
      ]
     },
     "metadata": {},
     "output_type": "display_data"
    },
    {
     "data": {
      "text/html": [
       "<pre>| 6m 57s                              | 97.25            | 26024           |</pre>"
      ],
      "text/plain": [
       "| 6m 57s                              | 97.25            | 26024           |"
      ]
     },
     "metadata": {},
     "output_type": "display_data"
    },
    {
     "data": {
      "text/html": [
       "<pre>| 6m 57s                              | 97.25            | 26027           |</pre>"
      ],
      "text/plain": [
       "| 6m 57s                              | 97.25            | 26027           |"
      ]
     },
     "metadata": {},
     "output_type": "display_data"
    },
    {
     "data": {
      "text/html": [
       "<pre>| 6m 58s                              | 97.25            | 26029           |</pre>"
      ],
      "text/plain": [
       "| 6m 58s                              | 97.25            | 26029           |"
      ]
     },
     "metadata": {},
     "output_type": "display_data"
    },
    {
     "data": {
      "text/html": [
       "<pre>| 7m 0s                               | 97.25            | 26032           |</pre>"
      ],
      "text/plain": [
       "| 7m 0s                               | 97.25            | 26032           |"
      ]
     },
     "metadata": {},
     "output_type": "display_data"
    },
    {
     "data": {
      "text/html": [
       "<pre>| 7m 0s                               | 97.25            | 26032           |</pre>"
      ],
      "text/plain": [
       "| 7m 0s                               | 97.25            | 26032           |"
      ]
     },
     "metadata": {},
     "output_type": "display_data"
    },
    {
     "data": {
      "text/html": [
       "<pre>| 7m 2s                               | 97.25            | 26036           |</pre>"
      ],
      "text/plain": [
       "| 7m 2s                               | 97.25            | 26036           |"
      ]
     },
     "metadata": {},
     "output_type": "display_data"
    },
    {
     "data": {
      "text/html": [
       "<pre>| 7m 3s                               | 97.25            | 26036           |</pre>"
      ],
      "text/plain": [
       "| 7m 3s                               | 97.25            | 26036           |"
      ]
     },
     "metadata": {},
     "output_type": "display_data"
    },
    {
     "data": {
      "text/html": [
       "<pre>| 7m 4s                               | 97.25            | 26050           |</pre>"
      ],
      "text/plain": [
       "| 7m 4s                               | 97.25            | 26050           |"
      ]
     },
     "metadata": {},
     "output_type": "display_data"
    },
    {
     "data": {
      "text/html": [
       "<pre>| 7m 4s                               | 97.25            | 26050           |</pre>"
      ],
      "text/plain": [
       "| 7m 4s                               | 97.25            | 26050           |"
      ]
     },
     "metadata": {},
     "output_type": "display_data"
    },
    {
     "data": {
      "text/html": [
       "<pre>| 7m 6s                               | 97.25            | 26052           |</pre>"
      ],
      "text/plain": [
       "| 7m 6s                               | 97.25            | 26052           |"
      ]
     },
     "metadata": {},
     "output_type": "display_data"
    },
    {
     "data": {
      "text/html": [
       "<pre>| 7m 6s                               | 97.25            | 26054           |</pre>"
      ],
      "text/plain": [
       "| 7m 6s                               | 97.25            | 26054           |"
      ]
     },
     "metadata": {},
     "output_type": "display_data"
    },
    {
     "data": {
      "text/html": [
       "<pre>| 7m 9s                               | 97.25            | 26060           |</pre>"
      ],
      "text/plain": [
       "| 7m 9s                               | 97.25            | 26060           |"
      ]
     },
     "metadata": {},
     "output_type": "display_data"
    },
    {
     "data": {
      "text/html": [
       "<pre>| 7m 10s                              | 97.25            | 26068           |</pre>"
      ],
      "text/plain": [
       "| 7m 10s                              | 97.25            | 26068           |"
      ]
     },
     "metadata": {},
     "output_type": "display_data"
    },
    {
     "data": {
      "text/html": [
       "<pre>| 7m 12s                              | 97.25            | 26069           |</pre>"
      ],
      "text/plain": [
       "| 7m 12s                              | 97.25            | 26069           |"
      ]
     },
     "metadata": {},
     "output_type": "display_data"
    },
    {
     "data": {
      "text/html": [
       "<pre>| 7m 13s                              | 97.25            | 26072           |</pre>"
      ],
      "text/plain": [
       "| 7m 13s                              | 97.25            | 26072           |"
      ]
     },
     "metadata": {},
     "output_type": "display_data"
    },
    {
     "data": {
      "text/html": [
       "<pre>| 7m 14s                              | 97.5             | 26107           |</pre>"
      ],
      "text/plain": [
       "| 7m 14s                              | 97.5             | 26107           |"
      ]
     },
     "metadata": {},
     "output_type": "display_data"
    },
    {
     "data": {
      "text/html": [
       "<pre>| 7m 15s                              | 97.5             | 26111           |</pre>"
      ],
      "text/plain": [
       "| 7m 15s                              | 97.5             | 26111           |"
      ]
     },
     "metadata": {},
     "output_type": "display_data"
    },
    {
     "data": {
      "text/html": [
       "<pre>| 7m 16s                              | 97.5             | 26116           |</pre>"
      ],
      "text/plain": [
       "| 7m 16s                              | 97.5             | 26116           |"
      ]
     },
     "metadata": {},
     "output_type": "display_data"
    },
    {
     "data": {
      "text/html": [
       "<pre>| 7m 17s                              | 97.5             | 26119           |</pre>"
      ],
      "text/plain": [
       "| 7m 17s                              | 97.5             | 26119           |"
      ]
     },
     "metadata": {},
     "output_type": "display_data"
    },
    {
     "data": {
      "text/html": [
       "<pre>| 7m 18s                              | 97.5             | 26126           |</pre>"
      ],
      "text/plain": [
       "| 7m 18s                              | 97.5             | 26126           |"
      ]
     },
     "metadata": {},
     "output_type": "display_data"
    },
    {
     "data": {
      "text/html": [
       "<pre>| 7m 20s                              | 97.5             | 26127           |</pre>"
      ],
      "text/plain": [
       "| 7m 20s                              | 97.5             | 26127           |"
      ]
     },
     "metadata": {},
     "output_type": "display_data"
    },
    {
     "data": {
      "text/html": [
       "<pre>| 7m 20s                              | 97.5             | 26127           |</pre>"
      ],
      "text/plain": [
       "| 7m 20s                              | 97.5             | 26127           |"
      ]
     },
     "metadata": {},
     "output_type": "display_data"
    },
    {
     "data": {
      "text/html": [
       "<pre>| 7m 21s                              | 97.5             | 26128           |</pre>"
      ],
      "text/plain": [
       "| 7m 21s                              | 97.5             | 26128           |"
      ]
     },
     "metadata": {},
     "output_type": "display_data"
    },
    {
     "data": {
      "text/html": [
       "<pre>| 7m 22s                              | 97.5             | 26129           |</pre>"
      ],
      "text/plain": [
       "| 7m 22s                              | 97.5             | 26129           |"
      ]
     },
     "metadata": {},
     "output_type": "display_data"
    },
    {
     "data": {
      "text/html": [
       "<pre>| 7m 28s                              | 97.75            | 26152           |</pre>"
      ],
      "text/plain": [
       "| 7m 28s                              | 97.75            | 26152           |"
      ]
     },
     "metadata": {},
     "output_type": "display_data"
    },
    {
     "data": {
      "text/html": [
       "<pre>| 7m 30s                              | 97.75            | 26153           |</pre>"
      ],
      "text/plain": [
       "| 7m 30s                              | 97.75            | 26153           |"
      ]
     },
     "metadata": {},
     "output_type": "display_data"
    },
    {
     "data": {
      "text/html": [
       "<pre>| 7m 30s                              | 97.75            | 26154           |</pre>"
      ],
      "text/plain": [
       "| 7m 30s                              | 97.75            | 26154           |"
      ]
     },
     "metadata": {},
     "output_type": "display_data"
    },
    {
     "data": {
      "text/html": [
       "<pre>| 7m 31s                              | 97.75            | 26155           |</pre>"
      ],
      "text/plain": [
       "| 7m 31s                              | 97.75            | 26155           |"
      ]
     },
     "metadata": {},
     "output_type": "display_data"
    },
    {
     "data": {
      "text/html": [
       "<pre>| 7m 32s                              | 97.75            | 26157           |</pre>"
      ],
      "text/plain": [
       "| 7m 32s                              | 97.75            | 26157           |"
      ]
     },
     "metadata": {},
     "output_type": "display_data"
    },
    {
     "data": {
      "text/html": [
       "<pre>| 7m 33s                              | 97.75            | 26158           |</pre>"
      ],
      "text/plain": [
       "| 7m 33s                              | 97.75            | 26158           |"
      ]
     },
     "metadata": {},
     "output_type": "display_data"
    },
    {
     "data": {
      "text/html": [
       "<pre>| 7m 34s                              | 97.75            | 26159           |</pre>"
      ],
      "text/plain": [
       "| 7m 34s                              | 97.75            | 26159           |"
      ]
     },
     "metadata": {},
     "output_type": "display_data"
    },
    {
     "data": {
      "text/html": [
       "<pre>| 7m 35s                              | 97.75            | 26160           |</pre>"
      ],
      "text/plain": [
       "| 7m 35s                              | 97.75            | 26160           |"
      ]
     },
     "metadata": {},
     "output_type": "display_data"
    },
    {
     "data": {
      "text/html": [
       "<pre>| 7m 43s                              | 97.75            | 26166           |</pre>"
      ],
      "text/plain": [
       "| 7m 43s                              | 97.75            | 26166           |"
      ]
     },
     "metadata": {},
     "output_type": "display_data"
    },
    {
     "data": {
      "text/html": [
       "<pre>| 7m 45s                              | 97.75            | 26169           |</pre>"
      ],
      "text/plain": [
       "| 7m 45s                              | 97.75            | 26169           |"
      ]
     },
     "metadata": {},
     "output_type": "display_data"
    },
    {
     "data": {
      "text/html": [
       "<pre>| 7m 46s                              | 97.75            | 26171           |</pre>"
      ],
      "text/plain": [
       "| 7m 46s                              | 97.75            | 26171           |"
      ]
     },
     "metadata": {},
     "output_type": "display_data"
    },
    {
     "data": {
      "text/html": [
       "<pre>| 7m 47s                              | 97.75            | 26172           |</pre>"
      ],
      "text/plain": [
       "| 7m 47s                              | 97.75            | 26172           |"
      ]
     },
     "metadata": {},
     "output_type": "display_data"
    },
    {
     "data": {
      "text/html": [
       "<pre>| 7m 48s                              | 97.75            | 26174           |</pre>"
      ],
      "text/plain": [
       "| 7m 48s                              | 97.75            | 26174           |"
      ]
     },
     "metadata": {},
     "output_type": "display_data"
    },
    {
     "data": {
      "text/html": [
       "<pre>| 7m 51s                              | 97.75            | 26179           |</pre>"
      ],
      "text/plain": [
       "| 7m 51s                              | 97.75            | 26179           |"
      ]
     },
     "metadata": {},
     "output_type": "display_data"
    },
    {
     "data": {
      "text/html": [
       "<pre>| 7m 52s                              | 97.75            | 26187           |</pre>"
      ],
      "text/plain": [
       "| 7m 52s                              | 97.75            | 26187           |"
      ]
     },
     "metadata": {},
     "output_type": "display_data"
    },
    {
     "data": {
      "text/html": [
       "<pre>| 7m 53s                              | 97.75            | 26195           |</pre>"
      ],
      "text/plain": [
       "| 7m 53s                              | 97.75            | 26195           |"
      ]
     },
     "metadata": {},
     "output_type": "display_data"
    },
    {
     "data": {
      "text/html": [
       "<pre>| 7m 55s                              | 97.75            | 26208           |</pre>"
      ],
      "text/plain": [
       "| 7m 55s                              | 97.75            | 26208           |"
      ]
     },
     "metadata": {},
     "output_type": "display_data"
    },
    {
     "data": {
      "text/html": [
       "<pre>| 7m 56s                              | 97.75            | 26208           |</pre>"
      ],
      "text/plain": [
       "| 7m 56s                              | 97.75            | 26208           |"
      ]
     },
     "metadata": {},
     "output_type": "display_data"
    },
    {
     "data": {
      "text/html": [
       "<pre>| 7m 56s                              | 98               | 26213           |</pre>"
      ],
      "text/plain": [
       "| 7m 56s                              | 98               | 26213           |"
      ]
     },
     "metadata": {},
     "output_type": "display_data"
    },
    {
     "data": {
      "text/html": [
       "<pre>| 7m 57s                              | 98               | 26218           |</pre>"
      ],
      "text/plain": [
       "| 7m 57s                              | 98               | 26218           |"
      ]
     },
     "metadata": {},
     "output_type": "display_data"
    },
    {
     "data": {
      "text/html": [
       "<pre>| 8m 1s                               | 98               | 26222           |</pre>"
      ],
      "text/plain": [
       "| 8m 1s                               | 98               | 26222           |"
      ]
     },
     "metadata": {},
     "output_type": "display_data"
    },
    {
     "data": {
      "text/html": [
       "<pre>| 8m 4s                               | 98               | 26226           |</pre>"
      ],
      "text/plain": [
       "| 8m 4s                               | 98               | 26226           |"
      ]
     },
     "metadata": {},
     "output_type": "display_data"
    },
    {
     "data": {
      "text/html": [
       "<pre>| 8m 7s                               | 98               | 26229           |</pre>"
      ],
      "text/plain": [
       "| 8m 7s                               | 98               | 26229           |"
      ]
     },
     "metadata": {},
     "output_type": "display_data"
    },
    {
     "data": {
      "text/html": [
       "<pre>| 8m 11s                              | 98               | 26233           |</pre>"
      ],
      "text/plain": [
       "| 8m 11s                              | 98               | 26233           |"
      ]
     },
     "metadata": {},
     "output_type": "display_data"
    },
    {
     "data": {
      "text/html": [
       "<pre>| 8m 12s                              | 98               | 26236           |</pre>"
      ],
      "text/plain": [
       "| 8m 12s                              | 98               | 26236           |"
      ]
     },
     "metadata": {},
     "output_type": "display_data"
    },
    {
     "data": {
      "text/html": [
       "<pre>| 8m 13s                              | 98               | 26237           |</pre>"
      ],
      "text/plain": [
       "| 8m 13s                              | 98               | 26237           |"
      ]
     },
     "metadata": {},
     "output_type": "display_data"
    },
    {
     "data": {
      "text/html": [
       "<pre>| 8m 14s                              | 98               | 26244           |</pre>"
      ],
      "text/plain": [
       "| 8m 14s                              | 98               | 26244           |"
      ]
     },
     "metadata": {},
     "output_type": "display_data"
    },
    {
     "data": {
      "text/html": [
       "<pre>| 8m 15s                              | 98               | 26255           |</pre>"
      ],
      "text/plain": [
       "| 8m 15s                              | 98               | 26255           |"
      ]
     },
     "metadata": {},
     "output_type": "display_data"
    },
    {
     "data": {
      "text/html": [
       "<pre>| 8m 16s                              | 98               | 26271           |</pre>"
      ],
      "text/plain": [
       "| 8m 16s                              | 98               | 26271           |"
      ]
     },
     "metadata": {},
     "output_type": "display_data"
    },
    {
     "data": {
      "text/html": [
       "<pre>| 8m 17s                              | 98               | 26275           |</pre>"
      ],
      "text/plain": [
       "| 8m 17s                              | 98               | 26275           |"
      ]
     },
     "metadata": {},
     "output_type": "display_data"
    },
    {
     "data": {
      "text/html": [
       "<pre>| 8m 18s                              | 98               | 26275           |</pre>"
      ],
      "text/plain": [
       "| 8m 18s                              | 98               | 26275           |"
      ]
     },
     "metadata": {},
     "output_type": "display_data"
    },
    {
     "data": {
      "text/html": [
       "<pre>| 8m 20s                              | 98.25            | 26276           |</pre>"
      ],
      "text/plain": [
       "| 8m 20s                              | 98.25            | 26276           |"
      ]
     },
     "metadata": {},
     "output_type": "display_data"
    },
    {
     "data": {
      "text/html": [
       "<pre>| 8m 20s                              | 98.25            | 26276           |</pre>"
      ],
      "text/plain": [
       "| 8m 20s                              | 98.25            | 26276           |"
      ]
     },
     "metadata": {},
     "output_type": "display_data"
    },
    {
     "data": {
      "text/html": [
       "<pre>| 8m 21s                              | 98.25            | 26281           |</pre>"
      ],
      "text/plain": [
       "| 8m 21s                              | 98.25            | 26281           |"
      ]
     },
     "metadata": {},
     "output_type": "display_data"
    },
    {
     "data": {
      "text/html": [
       "<pre>| 8m 22s                              | 98.25            | 26289           |</pre>"
      ],
      "text/plain": [
       "| 8m 22s                              | 98.25            | 26289           |"
      ]
     },
     "metadata": {},
     "output_type": "display_data"
    },
    {
     "data": {
      "text/html": [
       "<pre>| 8m 24s                              | 98.25            | 26318           |</pre>"
      ],
      "text/plain": [
       "| 8m 24s                              | 98.25            | 26318           |"
      ]
     },
     "metadata": {},
     "output_type": "display_data"
    },
    {
     "data": {
      "text/html": [
       "<pre>| 8m 26s                              | 98.25            | 26328           |</pre>"
      ],
      "text/plain": [
       "| 8m 26s                              | 98.25            | 26328           |"
      ]
     },
     "metadata": {},
     "output_type": "display_data"
    },
    {
     "data": {
      "text/html": [
       "<pre>| 8m 26s                              | 98.25            | 26329           |</pre>"
      ],
      "text/plain": [
       "| 8m 26s                              | 98.25            | 26329           |"
      ]
     },
     "metadata": {},
     "output_type": "display_data"
    },
    {
     "data": {
      "text/html": [
       "<pre>| 8m 27s                              | 98.5             | 26346           |</pre>"
      ],
      "text/plain": [
       "| 8m 27s                              | 98.5             | 26346           |"
      ]
     },
     "metadata": {},
     "output_type": "display_data"
    },
    {
     "data": {
      "text/html": [
       "<pre>| 8m 29s                              | 98.5             | 26350           |</pre>"
      ],
      "text/plain": [
       "| 8m 29s                              | 98.5             | 26350           |"
      ]
     },
     "metadata": {},
     "output_type": "display_data"
    },
    {
     "data": {
      "text/html": [
       "<pre>| 8m 30s                              | 98.5             | 26351           |</pre>"
      ],
      "text/plain": [
       "| 8m 30s                              | 98.5             | 26351           |"
      ]
     },
     "metadata": {},
     "output_type": "display_data"
    },
    {
     "data": {
      "text/html": [
       "<pre>| 8m 31s                              | 98.5             | 26355           |</pre>"
      ],
      "text/plain": [
       "| 8m 31s                              | 98.5             | 26355           |"
      ]
     },
     "metadata": {},
     "output_type": "display_data"
    },
    {
     "data": {
      "text/html": [
       "<pre>| 8m 32s                              | 98.5             | 26361           |</pre>"
      ],
      "text/plain": [
       "| 8m 32s                              | 98.5             | 26361           |"
      ]
     },
     "metadata": {},
     "output_type": "display_data"
    },
    {
     "data": {
      "text/html": [
       "<pre>| 8m 33s                              | 98.5             | 26361           |</pre>"
      ],
      "text/plain": [
       "| 8m 33s                              | 98.5             | 26361           |"
      ]
     },
     "metadata": {},
     "output_type": "display_data"
    },
    {
     "data": {
      "text/html": [
       "<pre>| 8m 33s                              | 98.5             | 26364           |</pre>"
      ],
      "text/plain": [
       "| 8m 33s                              | 98.5             | 26364           |"
      ]
     },
     "metadata": {},
     "output_type": "display_data"
    },
    {
     "data": {
      "text/html": [
       "<pre>| 8m 34s                              | 98.5             | 26372           |</pre>"
      ],
      "text/plain": [
       "| 8m 34s                              | 98.5             | 26372           |"
      ]
     },
     "metadata": {},
     "output_type": "display_data"
    },
    {
     "data": {
      "text/html": [
       "<pre>| 8m 35s                              | 98.5             | 26391           |</pre>"
      ],
      "text/plain": [
       "| 8m 35s                              | 98.5             | 26391           |"
      ]
     },
     "metadata": {},
     "output_type": "display_data"
    },
    {
     "data": {
      "text/html": [
       "<pre>| 8m 38s                              | 98.5             | 26398           |</pre>"
      ],
      "text/plain": [
       "| 8m 38s                              | 98.5             | 26398           |"
      ]
     },
     "metadata": {},
     "output_type": "display_data"
    },
    {
     "data": {
      "text/html": [
       "<pre>| 8m 40s                              | 98.5             | 26401           |</pre>"
      ],
      "text/plain": [
       "| 8m 40s                              | 98.5             | 26401           |"
      ]
     },
     "metadata": {},
     "output_type": "display_data"
    },
    {
     "data": {
      "text/html": [
       "<pre>| 8m 41s                              | 98.5             | 26402           |</pre>"
      ],
      "text/plain": [
       "| 8m 41s                              | 98.5             | 26402           |"
      ]
     },
     "metadata": {},
     "output_type": "display_data"
    },
    {
     "data": {
      "text/html": [
       "<pre>| 8m 46s                              | 98.75            | 26409           |</pre>"
      ],
      "text/plain": [
       "| 8m 46s                              | 98.75            | 26409           |"
      ]
     },
     "metadata": {},
     "output_type": "display_data"
    },
    {
     "data": {
      "text/html": [
       "<pre>| 8m 47s                              | 98.75            | 26413           |</pre>"
      ],
      "text/plain": [
       "| 8m 47s                              | 98.75            | 26413           |"
      ]
     },
     "metadata": {},
     "output_type": "display_data"
    },
    {
     "data": {
      "text/html": [
       "<pre>| 8m 50s                              | 98.75            | 26419           |</pre>"
      ],
      "text/plain": [
       "| 8m 50s                              | 98.75            | 26419           |"
      ]
     },
     "metadata": {},
     "output_type": "display_data"
    },
    {
     "data": {
      "text/html": [
       "<pre>| 8m 52s                              | 98.75            | 26422           |</pre>"
      ],
      "text/plain": [
       "| 8m 52s                              | 98.75            | 26422           |"
      ]
     },
     "metadata": {},
     "output_type": "display_data"
    },
    {
     "data": {
      "text/html": [
       "<pre>| 8m 54s                              | 98.75            | 26426           |</pre>"
      ],
      "text/plain": [
       "| 8m 54s                              | 98.75            | 26426           |"
      ]
     },
     "metadata": {},
     "output_type": "display_data"
    },
    {
     "data": {
      "text/html": [
       "<pre>| 8m 55s                              | 98.75            | 26427           |</pre>"
      ],
      "text/plain": [
       "| 8m 55s                              | 98.75            | 26427           |"
      ]
     },
     "metadata": {},
     "output_type": "display_data"
    },
    {
     "data": {
      "text/html": [
       "<pre>| 8m 56s                              | 98.75            | 26428           |</pre>"
      ],
      "text/plain": [
       "| 8m 56s                              | 98.75            | 26428           |"
      ]
     },
     "metadata": {},
     "output_type": "display_data"
    },
    {
     "data": {
      "text/html": [
       "<pre>| 8m 57s                              | 98.75            | 26431           |</pre>"
      ],
      "text/plain": [
       "| 8m 57s                              | 98.75            | 26431           |"
      ]
     },
     "metadata": {},
     "output_type": "display_data"
    },
    {
     "data": {
      "text/html": [
       "<pre>| 8m 58s                              | 98.75            | 26436           |</pre>"
      ],
      "text/plain": [
       "| 8m 58s                              | 98.75            | 26436           |"
      ]
     },
     "metadata": {},
     "output_type": "display_data"
    },
    {
     "data": {
      "text/html": [
       "<pre>| 8m 58s                              | 98.75            | 26451           |</pre>"
      ],
      "text/plain": [
       "| 8m 58s                              | 98.75            | 26451           |"
      ]
     },
     "metadata": {},
     "output_type": "display_data"
    },
    {
     "data": {
      "text/html": [
       "<pre>| 9m 0s                               | 98.75            | 26455           |</pre>"
      ],
      "text/plain": [
       "| 9m 0s                               | 98.75            | 26455           |"
      ]
     },
     "metadata": {},
     "output_type": "display_data"
    },
    {
     "data": {
      "text/html": [
       "<pre>| 9m 1s                               | 98.75            | 26461           |</pre>"
      ],
      "text/plain": [
       "| 9m 1s                               | 98.75            | 26461           |"
      ]
     },
     "metadata": {},
     "output_type": "display_data"
    },
    {
     "data": {
      "text/html": [
       "<pre>| 9m 2s                               | 98.75            | 26462           |</pre>"
      ],
      "text/plain": [
       "| 9m 2s                               | 98.75            | 26462           |"
      ]
     },
     "metadata": {},
     "output_type": "display_data"
    },
    {
     "data": {
      "text/html": [
       "<pre>| 9m 3s                               | 98.75            | 26465           |</pre>"
      ],
      "text/plain": [
       "| 9m 3s                               | 98.75            | 26465           |"
      ]
     },
     "metadata": {},
     "output_type": "display_data"
    },
    {
     "data": {
      "text/html": [
       "<pre>| 9m 4s                               | 98.75            | 26468           |</pre>"
      ],
      "text/plain": [
       "| 9m 4s                               | 98.75            | 26468           |"
      ]
     },
     "metadata": {},
     "output_type": "display_data"
    },
    {
     "data": {
      "text/html": [
       "<pre>| 9m 4s                               | 98.75            | 26474           |</pre>"
      ],
      "text/plain": [
       "| 9m 4s                               | 98.75            | 26474           |"
      ]
     },
     "metadata": {},
     "output_type": "display_data"
    },
    {
     "data": {
      "text/html": [
       "<pre>| 9m 6s                               | 99               | 26498           |</pre>"
      ],
      "text/plain": [
       "| 9m 6s                               | 99               | 26498           |"
      ]
     },
     "metadata": {},
     "output_type": "display_data"
    },
    {
     "data": {
      "text/html": [
       "<pre>| 9m 7s                               | 99               | 26502           |</pre>"
      ],
      "text/plain": [
       "| 9m 7s                               | 99               | 26502           |"
      ]
     },
     "metadata": {},
     "output_type": "display_data"
    },
    {
     "data": {
      "text/html": [
       "<pre>| 9m 8s                               | 99               | 26508           |</pre>"
      ],
      "text/plain": [
       "| 9m 8s                               | 99               | 26508           |"
      ]
     },
     "metadata": {},
     "output_type": "display_data"
    },
    {
     "data": {
      "text/html": [
       "<pre>| 9m 9s                               | 99               | 26516           |</pre>"
      ],
      "text/plain": [
       "| 9m 9s                               | 99               | 26516           |"
      ]
     },
     "metadata": {},
     "output_type": "display_data"
    },
    {
     "data": {
      "text/html": [
       "<pre>| 9m 10s                              | 99               | 26527           |</pre>"
      ],
      "text/plain": [
       "| 9m 10s                              | 99               | 26527           |"
      ]
     },
     "metadata": {},
     "output_type": "display_data"
    },
    {
     "data": {
      "text/html": [
       "<pre>| 9m 11s                              | 99.25            | 26548           |</pre>"
      ],
      "text/plain": [
       "| 9m 11s                              | 99.25            | 26548           |"
      ]
     },
     "metadata": {},
     "output_type": "display_data"
    },
    {
     "data": {
      "text/html": [
       "<pre>| 9m 12s                              | 99.25            | 26560           |</pre>"
      ],
      "text/plain": [
       "| 9m 12s                              | 99.25            | 26560           |"
      ]
     },
     "metadata": {},
     "output_type": "display_data"
    },
    {
     "data": {
      "text/html": [
       "<pre>| 9m 13s                              | 99.25            | 26568           |</pre>"
      ],
      "text/plain": [
       "| 9m 13s                              | 99.25            | 26568           |"
      ]
     },
     "metadata": {},
     "output_type": "display_data"
    },
    {
     "data": {
      "text/html": [
       "<pre>| 9m 14s                              | 99.25            | 26594           |</pre>"
      ],
      "text/plain": [
       "| 9m 14s                              | 99.25            | 26594           |"
      ]
     },
     "metadata": {},
     "output_type": "display_data"
    },
    {
     "data": {
      "text/html": [
       "<pre>| 9m 15s                              | 99.25            | 26595           |</pre>"
      ],
      "text/plain": [
       "| 9m 15s                              | 99.25            | 26595           |"
      ]
     },
     "metadata": {},
     "output_type": "display_data"
    },
    {
     "data": {
      "text/html": [
       "<pre>| 9m 16s                              | 99.25            | 26595           |</pre>"
      ],
      "text/plain": [
       "| 9m 16s                              | 99.25            | 26595           |"
      ]
     },
     "metadata": {},
     "output_type": "display_data"
    },
    {
     "data": {
      "text/html": [
       "<pre>| 9m 17s                              | 99.25            | 26598           |</pre>"
      ],
      "text/plain": [
       "| 9m 17s                              | 99.25            | 26598           |"
      ]
     },
     "metadata": {},
     "output_type": "display_data"
    },
    {
     "data": {
      "text/html": [
       "<pre>| 9m 18s                              | 99.25            | 26604           |</pre>"
      ],
      "text/plain": [
       "| 9m 18s                              | 99.25            | 26604           |"
      ]
     },
     "metadata": {},
     "output_type": "display_data"
    },
    {
     "data": {
      "text/html": [
       "<pre>| 9m 20s                              | 99.5             | 26611           |</pre>"
      ],
      "text/plain": [
       "| 9m 20s                              | 99.5             | 26611           |"
      ]
     },
     "metadata": {},
     "output_type": "display_data"
    },
    {
     "data": {
      "text/html": [
       "<pre>| 9m 22s                              | 99.5             | 26611           |</pre>"
      ],
      "text/plain": [
       "| 9m 22s                              | 99.5             | 26611           |"
      ]
     },
     "metadata": {},
     "output_type": "display_data"
    },
    {
     "data": {
      "text/html": [
       "<pre>| 9m 22s                              | 99.5             | 26615           |</pre>"
      ],
      "text/plain": [
       "| 9m 22s                              | 99.5             | 26615           |"
      ]
     },
     "metadata": {},
     "output_type": "display_data"
    },
    {
     "data": {
      "text/html": [
       "<pre>| 9m 25s                              | 99.5             | 26627           |</pre>"
      ],
      "text/plain": [
       "| 9m 25s                              | 99.5             | 26627           |"
      ]
     },
     "metadata": {},
     "output_type": "display_data"
    },
    {
     "data": {
      "text/html": [
       "<pre>| 9m 27s                              | 99.5             | 26630           |</pre>"
      ],
      "text/plain": [
       "| 9m 27s                              | 99.5             | 26630           |"
      ]
     },
     "metadata": {},
     "output_type": "display_data"
    },
    {
     "data": {
      "text/html": [
       "<pre>| 9m 27s                              | 99.5             | 26631           |</pre>"
      ],
      "text/plain": [
       "| 9m 27s                              | 99.5             | 26631           |"
      ]
     },
     "metadata": {},
     "output_type": "display_data"
    },
    {
     "data": {
      "text/html": [
       "<pre>| 9m 29s                              | 99.5             | 26634           |</pre>"
      ],
      "text/plain": [
       "| 9m 29s                              | 99.5             | 26634           |"
      ]
     },
     "metadata": {},
     "output_type": "display_data"
    },
    {
     "data": {
      "text/html": [
       "<pre>| 9m 30s                              | 99.5             | 26637           |</pre>"
      ],
      "text/plain": [
       "| 9m 30s                              | 99.5             | 26637           |"
      ]
     },
     "metadata": {},
     "output_type": "display_data"
    },
    {
     "data": {
      "text/html": [
       "<pre>| 9m 31s                              | 99.5             | 26641           |</pre>"
      ],
      "text/plain": [
       "| 9m 31s                              | 99.5             | 26641           |"
      ]
     },
     "metadata": {},
     "output_type": "display_data"
    },
    {
     "data": {
      "text/html": [
       "<pre>| 9m 32s                              | 99.5             | 26645           |</pre>"
      ],
      "text/plain": [
       "| 9m 32s                              | 99.5             | 26645           |"
      ]
     },
     "metadata": {},
     "output_type": "display_data"
    },
    {
     "data": {
      "text/html": [
       "<pre>| 9m 32s                              | 99.5             | 26649           |</pre>"
      ],
      "text/plain": [
       "| 9m 32s                              | 99.5             | 26649           |"
      ]
     },
     "metadata": {},
     "output_type": "display_data"
    },
    {
     "data": {
      "text/html": [
       "<pre>| 9m 33s                              | 99.5             | 26653           |</pre>"
      ],
      "text/plain": [
       "| 9m 33s                              | 99.5             | 26653           |"
      ]
     },
     "metadata": {},
     "output_type": "display_data"
    },
    {
     "data": {
      "text/html": [
       "<pre>| 9m 34s                              | 99.5             | 26657           |</pre>"
      ],
      "text/plain": [
       "| 9m 34s                              | 99.5             | 26657           |"
      ]
     },
     "metadata": {},
     "output_type": "display_data"
    },
    {
     "data": {
      "text/html": [
       "<pre>| 9m 35s                              | 99.5             | 26667           |</pre>"
      ],
      "text/plain": [
       "| 9m 35s                              | 99.5             | 26667           |"
      ]
     },
     "metadata": {},
     "output_type": "display_data"
    },
    {
     "data": {
      "text/html": [
       "<pre>| 9m 37s                              | 99.5             | 26672           |</pre>"
      ],
      "text/plain": [
       "| 9m 37s                              | 99.5             | 26672           |"
      ]
     },
     "metadata": {},
     "output_type": "display_data"
    },
    {
     "data": {
      "text/html": [
       "<pre>| 9m 37s                              | 99.5             | 26675           |</pre>"
      ],
      "text/plain": [
       "| 9m 37s                              | 99.5             | 26675           |"
      ]
     },
     "metadata": {},
     "output_type": "display_data"
    },
    {
     "data": {
      "text/html": [
       "<pre>| 9m 38s                              | 99.75            | 26680           |</pre>"
      ],
      "text/plain": [
       "| 9m 38s                              | 99.75            | 26680           |"
      ]
     },
     "metadata": {},
     "output_type": "display_data"
    },
    {
     "data": {
      "text/html": [
       "<pre>| 9m 40s                              | 99.75            | 26685           |</pre>"
      ],
      "text/plain": [
       "| 9m 40s                              | 99.75            | 26685           |"
      ]
     },
     "metadata": {},
     "output_type": "display_data"
    },
    {
     "data": {
      "text/html": [
       "<pre>| 9m 40s                              | 99.75            | 26688           |</pre>"
      ],
      "text/plain": [
       "| 9m 40s                              | 99.75            | 26688           |"
      ]
     },
     "metadata": {},
     "output_type": "display_data"
    },
    {
     "data": {
      "text/html": [
       "<pre>| 9m 42s                              | 99.75            | 26697           |</pre>"
      ],
      "text/plain": [
       "| 9m 42s                              | 99.75            | 26697           |"
      ]
     },
     "metadata": {},
     "output_type": "display_data"
    },
    {
     "data": {
      "text/html": [
       "<pre>| 9m 42s                              | 99.75            | 26699           |</pre>"
      ],
      "text/plain": [
       "| 9m 42s                              | 99.75            | 26699           |"
      ]
     },
     "metadata": {},
     "output_type": "display_data"
    },
    {
     "data": {
      "text/html": [
       "<pre>| 9m 43s                              | 99.75            | 26709           |</pre>"
      ],
      "text/plain": [
       "| 9m 43s                              | 99.75            | 26709           |"
      ]
     },
     "metadata": {},
     "output_type": "display_data"
    },
    {
     "data": {
      "text/html": [
       "<pre>| 9m 45s                              | 99.75            | 26718           |</pre>"
      ],
      "text/plain": [
       "| 9m 45s                              | 99.75            | 26718           |"
      ]
     },
     "metadata": {},
     "output_type": "display_data"
    },
    {
     "data": {
      "text/html": [
       "<pre>| 9m 45s                              | 99.75            | 26723           |</pre>"
      ],
      "text/plain": [
       "| 9m 45s                              | 99.75            | 26723           |"
      ]
     },
     "metadata": {},
     "output_type": "display_data"
    },
    {
     "data": {
      "text/html": [
       "<pre>| 9m 46s                              | 99.75            | 26731           |</pre>"
      ],
      "text/plain": [
       "| 9m 46s                              | 99.75            | 26731           |"
      ]
     },
     "metadata": {},
     "output_type": "display_data"
    },
    {
     "data": {
      "text/html": [
       "<pre>| 9m 48s                              | 99.75            | 26735           |</pre>"
      ],
      "text/plain": [
       "| 9m 48s                              | 99.75            | 26735           |"
      ]
     },
     "metadata": {},
     "output_type": "display_data"
    },
    {
     "data": {
      "text/html": [
       "<pre>| 9m 51s                              | 99.75            | 26738           |</pre>"
      ],
      "text/plain": [
       "| 9m 51s                              | 99.75            | 26738           |"
      ]
     },
     "metadata": {},
     "output_type": "display_data"
    },
    {
     "data": {
      "text/html": [
       "<pre>| 9m 52s                              | 99.75            | 26739           |</pre>"
      ],
      "text/plain": [
       "| 9m 52s                              | 99.75            | 26739           |"
      ]
     },
     "metadata": {},
     "output_type": "display_data"
    },
    {
     "data": {
      "text/html": [
       "<pre>| 9m 53s                              | 99.75            | 26741           |</pre>"
      ],
      "text/plain": [
       "| 9m 53s                              | 99.75            | 26741           |"
      ]
     },
     "metadata": {},
     "output_type": "display_data"
    },
    {
     "data": {
      "text/html": [
       "<pre>| 11m 18s                             | 100              | 26744           |</pre>"
      ],
      "text/plain": [
       "| 11m 18s                             | 100              | 26744           |"
      ]
     },
     "metadata": {},
     "output_type": "display_data"
    },
    {
     "data": {
      "text/html": [
       "<pre>+-------------------------------------+------------------+-----------------+</pre>"
      ],
      "text/plain": [
       "+-------------------------------------+------------------+-----------------+"
      ]
     },
     "metadata": {},
     "output_type": "display_data"
    },
    {
     "data": {
      "text/html": [
       "<pre>Finalizing lookup tables.</pre>"
      ],
      "text/plain": [
       "Finalizing lookup tables."
      ]
     },
     "metadata": {},
     "output_type": "display_data"
    },
    {
     "data": {
      "text/html": [
       "<pre>Generating candidate set for working with new users.</pre>"
      ],
      "text/plain": [
       "Generating candidate set for working with new users."
      ]
     },
     "metadata": {},
     "output_type": "display_data"
    },
    {
     "data": {
      "text/html": [
       "<pre>Finished training in 683.666s</pre>"
      ],
      "text/plain": [
       "Finished training in 683.666s"
      ]
     },
     "metadata": {},
     "output_type": "display_data"
    }
   ],
   "source": [
    "model_cosine = graphlab.item_similarity_recommender.create(training_data, user_id=\"userId\", item_id=\"movieId\", target=\"rating\",\n",
    "                                                           similarity_type=\"cosine\")"
   ]
  },
  {
   "cell_type": "code",
   "execution_count": 45,
   "metadata": {
    "collapsed": false
   },
   "outputs": [
    {
     "data": {
      "text/html": [
       "<pre>Finished parsing file /Users/haripadbharti/Desktop/proj/dataset/proj/ratings.csv</pre>"
      ],
      "text/plain": [
       "Finished parsing file /Users/haripadbharti/Desktop/proj/dataset/proj/ratings.csv"
      ]
     },
     "metadata": {},
     "output_type": "display_data"
    },
    {
     "data": {
      "text/html": [
       "<pre>Parsing completed. Parsed 100 lines in 3.15093 secs.</pre>"
      ],
      "text/plain": [
       "Parsing completed. Parsed 100 lines in 3.15093 secs."
      ]
     },
     "metadata": {},
     "output_type": "display_data"
    },
    {
     "data": {
      "text/html": [
       "<pre>Read 2042753 lines. Lines per second: 556776</pre>"
      ],
      "text/plain": [
       "Read 2042753 lines. Lines per second: 556776"
      ]
     },
     "metadata": {},
     "output_type": "display_data"
    },
    {
     "data": {
      "text/html": [
       "<pre>Read 9960799 lines. Lines per second: 1.14933e+06</pre>"
      ],
      "text/plain": [
       "Read 9960799 lines. Lines per second: 1.14933e+06"
      ]
     },
     "metadata": {},
     "output_type": "display_data"
    },
    {
     "data": {
      "text/html": [
       "<pre>Read 17758054 lines. Lines per second: 1.28646e+06</pre>"
      ],
      "text/plain": [
       "Read 17758054 lines. Lines per second: 1.28646e+06"
      ]
     },
     "metadata": {},
     "output_type": "display_data"
    },
    {
     "data": {
      "text/html": [
       "<pre>Finished parsing file /Users/haripadbharti/Desktop/proj/dataset/proj/ratings.csv</pre>"
      ],
      "text/plain": [
       "Finished parsing file /Users/haripadbharti/Desktop/proj/dataset/proj/ratings.csv"
      ]
     },
     "metadata": {},
     "output_type": "display_data"
    },
    {
     "data": {
      "text/html": [
       "<pre>Parsing completed. Parsed 20000263 lines in 14.3883 secs.</pre>"
      ],
      "text/plain": [
       "Parsing completed. Parsed 20000263 lines in 14.3883 secs."
      ]
     },
     "metadata": {},
     "output_type": "display_data"
    }
   ],
   "source": [
    "query_data = graphlab.SFrame.read_csv(\"ratings.csv\", column_type_hints={\"rating\":int})\n"
   ]
  },
  {
   "cell_type": "code",
   "execution_count": 49,
   "metadata": {
    "collapsed": false
   },
   "outputs": [
    {
     "data": {
      "text/plain": [
       "dtype: float\n",
       "Rows: 10\n",
       "[0.014635625907352992, 0.007144683429173061, 0.044251173564365934, 0.059225494180406846, 0.053856753962380544, 0.007474443571908134, 0.006548361437661307, 0.018071659973689487, 0.02575364453451974, 0.07083079235894339]"
      ]
     },
     "execution_count": 49,
     "metadata": {},
     "output_type": "execute_result"
    }
   ],
   "source": [
    "query_result = model.predict(query_data)\n",
    "query_result.head()"
   ]
  },
  {
   "cell_type": "code",
   "execution_count": 47,
   "metadata": {
    "collapsed": false
   },
   "outputs": [
    {
     "data": {
      "text/plain": [
       "dtype: float\n",
       "Rows: 10\n",
       "[0.16340891492308457, 0.07977144086769491, 0.4940708584655217, 0.6612613496045627, 0.6013185757809407, 0.083453261341266, 0.07311341816374262, 0.20177274042484955, 0.2875432274192247, 0.7908362099295143]"
      ]
     },
     "execution_count": 47,
     "metadata": {},
     "output_type": "execute_result"
    }
   ],
   "source": [
    "# Scaling the results to be on the same scale as the original ratings\n",
    "scaled_result = (query_result - query_result.min())/(query_result.max() - query_result.min()) * query_data['rating'].max()\n",
    "scaled_result.head()"
   ]
  },
  {
   "cell_type": "code",
   "execution_count": 50,
   "metadata": {
    "collapsed": false
   },
   "outputs": [
    {
     "data": {
      "text/html": [
       "<pre>recommendations finished on 1000/138493 queries. users per second: 2165.15</pre>"
      ],
      "text/plain": [
       "recommendations finished on 1000/138493 queries. users per second: 2165.15"
      ]
     },
     "metadata": {},
     "output_type": "display_data"
    },
    {
     "data": {
      "text/html": [
       "<pre>recommendations finished on 2000/138493 queries. users per second: 2488.88</pre>"
      ],
      "text/plain": [
       "recommendations finished on 2000/138493 queries. users per second: 2488.88"
      ]
     },
     "metadata": {},
     "output_type": "display_data"
    },
    {
     "data": {
      "text/html": [
       "<pre>recommendations finished on 3000/138493 queries. users per second: 2718.33</pre>"
      ],
      "text/plain": [
       "recommendations finished on 3000/138493 queries. users per second: 2718.33"
      ]
     },
     "metadata": {},
     "output_type": "display_data"
    },
    {
     "data": {
      "text/html": [
       "<pre>recommendations finished on 4000/138493 queries. users per second: 2967.06</pre>"
      ],
      "text/plain": [
       "recommendations finished on 4000/138493 queries. users per second: 2967.06"
      ]
     },
     "metadata": {},
     "output_type": "display_data"
    },
    {
     "data": {
      "text/html": [
       "<pre>recommendations finished on 5000/138493 queries. users per second: 2877.34</pre>"
      ],
      "text/plain": [
       "recommendations finished on 5000/138493 queries. users per second: 2877.34"
      ]
     },
     "metadata": {},
     "output_type": "display_data"
    },
    {
     "data": {
      "text/html": [
       "<pre>recommendations finished on 6000/138493 queries. users per second: 3009.78</pre>"
      ],
      "text/plain": [
       "recommendations finished on 6000/138493 queries. users per second: 3009.78"
      ]
     },
     "metadata": {},
     "output_type": "display_data"
    },
    {
     "data": {
      "text/html": [
       "<pre>recommendations finished on 7000/138493 queries. users per second: 3002.52</pre>"
      ],
      "text/plain": [
       "recommendations finished on 7000/138493 queries. users per second: 3002.52"
      ]
     },
     "metadata": {},
     "output_type": "display_data"
    },
    {
     "data": {
      "text/html": [
       "<pre>recommendations finished on 8000/138493 queries. users per second: 3124.93</pre>"
      ],
      "text/plain": [
       "recommendations finished on 8000/138493 queries. users per second: 3124.93"
      ]
     },
     "metadata": {},
     "output_type": "display_data"
    },
    {
     "data": {
      "text/html": [
       "<pre>recommendations finished on 9000/138493 queries. users per second: 3231.27</pre>"
      ],
      "text/plain": [
       "recommendations finished on 9000/138493 queries. users per second: 3231.27"
      ]
     },
     "metadata": {},
     "output_type": "display_data"
    },
    {
     "data": {
      "text/html": [
       "<pre>recommendations finished on 10000/138493 queries. users per second: 3174.44</pre>"
      ],
      "text/plain": [
       "recommendations finished on 10000/138493 queries. users per second: 3174.44"
      ]
     },
     "metadata": {},
     "output_type": "display_data"
    },
    {
     "data": {
      "text/html": [
       "<pre>recommendations finished on 11000/138493 queries. users per second: 3255.34</pre>"
      ],
      "text/plain": [
       "recommendations finished on 11000/138493 queries. users per second: 3255.34"
      ]
     },
     "metadata": {},
     "output_type": "display_data"
    },
    {
     "data": {
      "text/html": [
       "<pre>recommendations finished on 12000/138493 queries. users per second: 3356.96</pre>"
      ],
      "text/plain": [
       "recommendations finished on 12000/138493 queries. users per second: 3356.96"
      ]
     },
     "metadata": {},
     "output_type": "display_data"
    },
    {
     "data": {
      "text/html": [
       "<pre>recommendations finished on 13000/138493 queries. users per second: 3428.03</pre>"
      ],
      "text/plain": [
       "recommendations finished on 13000/138493 queries. users per second: 3428.03"
      ]
     },
     "metadata": {},
     "output_type": "display_data"
    },
    {
     "data": {
      "text/html": [
       "<pre>recommendations finished on 14000/138493 queries. users per second: 3371.12</pre>"
      ],
      "text/plain": [
       "recommendations finished on 14000/138493 queries. users per second: 3371.12"
      ]
     },
     "metadata": {},
     "output_type": "display_data"
    },
    {
     "data": {
      "text/html": [
       "<pre>recommendations finished on 15000/138493 queries. users per second: 3393.99</pre>"
      ],
      "text/plain": [
       "recommendations finished on 15000/138493 queries. users per second: 3393.99"
      ]
     },
     "metadata": {},
     "output_type": "display_data"
    },
    {
     "data": {
      "text/html": [
       "<pre>recommendations finished on 16000/138493 queries. users per second: 3461.95</pre>"
      ],
      "text/plain": [
       "recommendations finished on 16000/138493 queries. users per second: 3461.95"
      ]
     },
     "metadata": {},
     "output_type": "display_data"
    },
    {
     "data": {
      "text/html": [
       "<pre>recommendations finished on 17000/138493 queries. users per second: 3443.61</pre>"
      ],
      "text/plain": [
       "recommendations finished on 17000/138493 queries. users per second: 3443.61"
      ]
     },
     "metadata": {},
     "output_type": "display_data"
    },
    {
     "data": {
      "text/html": [
       "<pre>recommendations finished on 18000/138493 queries. users per second: 3506.41</pre>"
      ],
      "text/plain": [
       "recommendations finished on 18000/138493 queries. users per second: 3506.41"
      ]
     },
     "metadata": {},
     "output_type": "display_data"
    },
    {
     "data": {
      "text/html": [
       "<pre>recommendations finished on 19000/138493 queries. users per second: 3562.84</pre>"
      ],
      "text/plain": [
       "recommendations finished on 19000/138493 queries. users per second: 3562.84"
      ]
     },
     "metadata": {},
     "output_type": "display_data"
    },
    {
     "data": {
      "text/html": [
       "<pre>recommendations finished on 20000/138493 queries. users per second: 3584.93</pre>"
      ],
      "text/plain": [
       "recommendations finished on 20000/138493 queries. users per second: 3584.93"
      ]
     },
     "metadata": {},
     "output_type": "display_data"
    },
    {
     "data": {
      "text/html": [
       "<pre>recommendations finished on 21000/138493 queries. users per second: 3505.82</pre>"
      ],
      "text/plain": [
       "recommendations finished on 21000/138493 queries. users per second: 3505.82"
      ]
     },
     "metadata": {},
     "output_type": "display_data"
    },
    {
     "data": {
      "text/html": [
       "<pre>recommendations finished on 22000/138493 queries. users per second: 3469.56</pre>"
      ],
      "text/plain": [
       "recommendations finished on 22000/138493 queries. users per second: 3469.56"
      ]
     },
     "metadata": {},
     "output_type": "display_data"
    },
    {
     "data": {
      "text/html": [
       "<pre>recommendations finished on 23000/138493 queries. users per second: 3396.78</pre>"
      ],
      "text/plain": [
       "recommendations finished on 23000/138493 queries. users per second: 3396.78"
      ]
     },
     "metadata": {},
     "output_type": "display_data"
    },
    {
     "data": {
      "text/html": [
       "<pre>recommendations finished on 24000/138493 queries. users per second: 3426.6</pre>"
      ],
      "text/plain": [
       "recommendations finished on 24000/138493 queries. users per second: 3426.6"
      ]
     },
     "metadata": {},
     "output_type": "display_data"
    },
    {
     "data": {
      "text/html": [
       "<pre>recommendations finished on 25000/138493 queries. users per second: 3405.58</pre>"
      ],
      "text/plain": [
       "recommendations finished on 25000/138493 queries. users per second: 3405.58"
      ]
     },
     "metadata": {},
     "output_type": "display_data"
    },
    {
     "data": {
      "text/html": [
       "<pre>recommendations finished on 26000/138493 queries. users per second: 3423.77</pre>"
      ],
      "text/plain": [
       "recommendations finished on 26000/138493 queries. users per second: 3423.77"
      ]
     },
     "metadata": {},
     "output_type": "display_data"
    },
    {
     "data": {
      "text/html": [
       "<pre>recommendations finished on 27000/138493 queries. users per second: 3470.74</pre>"
      ],
      "text/plain": [
       "recommendations finished on 27000/138493 queries. users per second: 3470.74"
      ]
     },
     "metadata": {},
     "output_type": "display_data"
    },
    {
     "data": {
      "text/html": [
       "<pre>recommendations finished on 28000/138493 queries. users per second: 3510.11</pre>"
      ],
      "text/plain": [
       "recommendations finished on 28000/138493 queries. users per second: 3510.11"
      ]
     },
     "metadata": {},
     "output_type": "display_data"
    },
    {
     "data": {
      "text/html": [
       "<pre>recommendations finished on 29000/138493 queries. users per second: 3520.79</pre>"
      ],
      "text/plain": [
       "recommendations finished on 29000/138493 queries. users per second: 3520.79"
      ]
     },
     "metadata": {},
     "output_type": "display_data"
    },
    {
     "data": {
      "text/html": [
       "<pre>recommendations finished on 30000/138493 queries. users per second: 3528.76</pre>"
      ],
      "text/plain": [
       "recommendations finished on 30000/138493 queries. users per second: 3528.76"
      ]
     },
     "metadata": {},
     "output_type": "display_data"
    },
    {
     "data": {
      "text/html": [
       "<pre>recommendations finished on 31000/138493 queries. users per second: 3552.37</pre>"
      ],
      "text/plain": [
       "recommendations finished on 31000/138493 queries. users per second: 3552.37"
      ]
     },
     "metadata": {},
     "output_type": "display_data"
    },
    {
     "data": {
      "text/html": [
       "<pre>recommendations finished on 32000/138493 queries. users per second: 3576.45</pre>"
      ],
      "text/plain": [
       "recommendations finished on 32000/138493 queries. users per second: 3576.45"
      ]
     },
     "metadata": {},
     "output_type": "display_data"
    },
    {
     "data": {
      "text/html": [
       "<pre>recommendations finished on 33000/138493 queries. users per second: 3555.09</pre>"
      ],
      "text/plain": [
       "recommendations finished on 33000/138493 queries. users per second: 3555.09"
      ]
     },
     "metadata": {},
     "output_type": "display_data"
    },
    {
     "data": {
      "text/html": [
       "<pre>recommendations finished on 34000/138493 queries. users per second: 3552.64</pre>"
      ],
      "text/plain": [
       "recommendations finished on 34000/138493 queries. users per second: 3552.64"
      ]
     },
     "metadata": {},
     "output_type": "display_data"
    },
    {
     "data": {
      "text/html": [
       "<pre>recommendations finished on 35000/138493 queries. users per second: 3560.66</pre>"
      ],
      "text/plain": [
       "recommendations finished on 35000/138493 queries. users per second: 3560.66"
      ]
     },
     "metadata": {},
     "output_type": "display_data"
    },
    {
     "data": {
      "text/html": [
       "<pre>recommendations finished on 36000/138493 queries. users per second: 3546.93</pre>"
      ],
      "text/plain": [
       "recommendations finished on 36000/138493 queries. users per second: 3546.93"
      ]
     },
     "metadata": {},
     "output_type": "display_data"
    },
    {
     "data": {
      "text/html": [
       "<pre>recommendations finished on 37000/138493 queries. users per second: 3559.54</pre>"
      ],
      "text/plain": [
       "recommendations finished on 37000/138493 queries. users per second: 3559.54"
      ]
     },
     "metadata": {},
     "output_type": "display_data"
    },
    {
     "data": {
      "text/html": [
       "<pre>recommendations finished on 38000/138493 queries. users per second: 3580.83</pre>"
      ],
      "text/plain": [
       "recommendations finished on 38000/138493 queries. users per second: 3580.83"
      ]
     },
     "metadata": {},
     "output_type": "display_data"
    },
    {
     "data": {
      "text/html": [
       "<pre>recommendations finished on 39000/138493 queries. users per second: 3413.76</pre>"
      ],
      "text/plain": [
       "recommendations finished on 39000/138493 queries. users per second: 3413.76"
      ]
     },
     "metadata": {},
     "output_type": "display_data"
    },
    {
     "data": {
      "text/html": [
       "<pre>recommendations finished on 40000/138493 queries. users per second: 3329.66</pre>"
      ],
      "text/plain": [
       "recommendations finished on 40000/138493 queries. users per second: 3329.66"
      ]
     },
     "metadata": {},
     "output_type": "display_data"
    },
    {
     "data": {
      "text/html": [
       "<pre>recommendations finished on 41000/138493 queries. users per second: 3317.64</pre>"
      ],
      "text/plain": [
       "recommendations finished on 41000/138493 queries. users per second: 3317.64"
      ]
     },
     "metadata": {},
     "output_type": "display_data"
    },
    {
     "data": {
      "text/html": [
       "<pre>recommendations finished on 42000/138493 queries. users per second: 3306.23</pre>"
      ],
      "text/plain": [
       "recommendations finished on 42000/138493 queries. users per second: 3306.23"
      ]
     },
     "metadata": {},
     "output_type": "display_data"
    },
    {
     "data": {
      "text/html": [
       "<pre>recommendations finished on 43000/138493 queries. users per second: 3320.35</pre>"
      ],
      "text/plain": [
       "recommendations finished on 43000/138493 queries. users per second: 3320.35"
      ]
     },
     "metadata": {},
     "output_type": "display_data"
    },
    {
     "data": {
      "text/html": [
       "<pre>recommendations finished on 44000/138493 queries. users per second: 3345.47</pre>"
      ],
      "text/plain": [
       "recommendations finished on 44000/138493 queries. users per second: 3345.47"
      ]
     },
     "metadata": {},
     "output_type": "display_data"
    },
    {
     "data": {
      "text/html": [
       "<pre>recommendations finished on 45000/138493 queries. users per second: 3336.69</pre>"
      ],
      "text/plain": [
       "recommendations finished on 45000/138493 queries. users per second: 3336.69"
      ]
     },
     "metadata": {},
     "output_type": "display_data"
    },
    {
     "data": {
      "text/html": [
       "<pre>recommendations finished on 46000/138493 queries. users per second: 3342.09</pre>"
      ],
      "text/plain": [
       "recommendations finished on 46000/138493 queries. users per second: 3342.09"
      ]
     },
     "metadata": {},
     "output_type": "display_data"
    },
    {
     "data": {
      "text/html": [
       "<pre>recommendations finished on 47000/138493 queries. users per second: 3369.94</pre>"
      ],
      "text/plain": [
       "recommendations finished on 47000/138493 queries. users per second: 3369.94"
      ]
     },
     "metadata": {},
     "output_type": "display_data"
    },
    {
     "data": {
      "text/html": [
       "<pre>recommendations finished on 48000/138493 queries. users per second: 3332.83</pre>"
      ],
      "text/plain": [
       "recommendations finished on 48000/138493 queries. users per second: 3332.83"
      ]
     },
     "metadata": {},
     "output_type": "display_data"
    },
    {
     "data": {
      "text/html": [
       "<pre>recommendations finished on 49000/138493 queries. users per second: 3306.57</pre>"
      ],
      "text/plain": [
       "recommendations finished on 49000/138493 queries. users per second: 3306.57"
      ]
     },
     "metadata": {},
     "output_type": "display_data"
    },
    {
     "data": {
      "text/html": [
       "<pre>recommendations finished on 50000/138493 queries. users per second: 3287.54</pre>"
      ],
      "text/plain": [
       "recommendations finished on 50000/138493 queries. users per second: 3287.54"
      ]
     },
     "metadata": {},
     "output_type": "display_data"
    },
    {
     "data": {
      "text/html": [
       "<pre>recommendations finished on 51000/138493 queries. users per second: 3279.11</pre>"
      ],
      "text/plain": [
       "recommendations finished on 51000/138493 queries. users per second: 3279.11"
      ]
     },
     "metadata": {},
     "output_type": "display_data"
    },
    {
     "data": {
      "text/html": [
       "<pre>recommendations finished on 52000/138493 queries. users per second: 3235.37</pre>"
      ],
      "text/plain": [
       "recommendations finished on 52000/138493 queries. users per second: 3235.37"
      ]
     },
     "metadata": {},
     "output_type": "display_data"
    },
    {
     "data": {
      "text/html": [
       "<pre>recommendations finished on 53000/138493 queries. users per second: 3181.01</pre>"
      ],
      "text/plain": [
       "recommendations finished on 53000/138493 queries. users per second: 3181.01"
      ]
     },
     "metadata": {},
     "output_type": "display_data"
    },
    {
     "data": {
      "text/html": [
       "<pre>recommendations finished on 54000/138493 queries. users per second: 3141.14</pre>"
      ],
      "text/plain": [
       "recommendations finished on 54000/138493 queries. users per second: 3141.14"
      ]
     },
     "metadata": {},
     "output_type": "display_data"
    },
    {
     "data": {
      "text/html": [
       "<pre>recommendations finished on 55000/138493 queries. users per second: 3150.55</pre>"
      ],
      "text/plain": [
       "recommendations finished on 55000/138493 queries. users per second: 3150.55"
      ]
     },
     "metadata": {},
     "output_type": "display_data"
    },
    {
     "data": {
      "text/html": [
       "<pre>recommendations finished on 56000/138493 queries. users per second: 3159</pre>"
      ],
      "text/plain": [
       "recommendations finished on 56000/138493 queries. users per second: 3159"
      ]
     },
     "metadata": {},
     "output_type": "display_data"
    },
    {
     "data": {
      "text/html": [
       "<pre>recommendations finished on 57000/138493 queries. users per second: 3165.35</pre>"
      ],
      "text/plain": [
       "recommendations finished on 57000/138493 queries. users per second: 3165.35"
      ]
     },
     "metadata": {},
     "output_type": "display_data"
    },
    {
     "data": {
      "text/html": [
       "<pre>recommendations finished on 58000/138493 queries. users per second: 3189.08</pre>"
      ],
      "text/plain": [
       "recommendations finished on 58000/138493 queries. users per second: 3189.08"
      ]
     },
     "metadata": {},
     "output_type": "display_data"
    },
    {
     "data": {
      "text/html": [
       "<pre>recommendations finished on 59000/138493 queries. users per second: 3206.36</pre>"
      ],
      "text/plain": [
       "recommendations finished on 59000/138493 queries. users per second: 3206.36"
      ]
     },
     "metadata": {},
     "output_type": "display_data"
    },
    {
     "data": {
      "text/html": [
       "<pre>recommendations finished on 60000/138493 queries. users per second: 3222.06</pre>"
      ],
      "text/plain": [
       "recommendations finished on 60000/138493 queries. users per second: 3222.06"
      ]
     },
     "metadata": {},
     "output_type": "display_data"
    },
    {
     "data": {
      "text/html": [
       "<pre>recommendations finished on 61000/138493 queries. users per second: 3241.75</pre>"
      ],
      "text/plain": [
       "recommendations finished on 61000/138493 queries. users per second: 3241.75"
      ]
     },
     "metadata": {},
     "output_type": "display_data"
    },
    {
     "data": {
      "text/html": [
       "<pre>recommendations finished on 62000/138493 queries. users per second: 3257.07</pre>"
      ],
      "text/plain": [
       "recommendations finished on 62000/138493 queries. users per second: 3257.07"
      ]
     },
     "metadata": {},
     "output_type": "display_data"
    },
    {
     "data": {
      "text/html": [
       "<pre>recommendations finished on 63000/138493 queries. users per second: 3279.4</pre>"
      ],
      "text/plain": [
       "recommendations finished on 63000/138493 queries. users per second: 3279.4"
      ]
     },
     "metadata": {},
     "output_type": "display_data"
    },
    {
     "data": {
      "text/html": [
       "<pre>recommendations finished on 64000/138493 queries. users per second: 3297.61</pre>"
      ],
      "text/plain": [
       "recommendations finished on 64000/138493 queries. users per second: 3297.61"
      ]
     },
     "metadata": {},
     "output_type": "display_data"
    },
    {
     "data": {
      "text/html": [
       "<pre>recommendations finished on 65000/138493 queries. users per second: 3317.07</pre>"
      ],
      "text/plain": [
       "recommendations finished on 65000/138493 queries. users per second: 3317.07"
      ]
     },
     "metadata": {},
     "output_type": "display_data"
    },
    {
     "data": {
      "text/html": [
       "<pre>recommendations finished on 66000/138493 queries. users per second: 3329.32</pre>"
      ],
      "text/plain": [
       "recommendations finished on 66000/138493 queries. users per second: 3329.32"
      ]
     },
     "metadata": {},
     "output_type": "display_data"
    },
    {
     "data": {
      "text/html": [
       "<pre>recommendations finished on 67000/138493 queries. users per second: 3348.37</pre>"
      ],
      "text/plain": [
       "recommendations finished on 67000/138493 queries. users per second: 3348.37"
      ]
     },
     "metadata": {},
     "output_type": "display_data"
    },
    {
     "data": {
      "text/html": [
       "<pre>recommendations finished on 68000/138493 queries. users per second: 3364.82</pre>"
      ],
      "text/plain": [
       "recommendations finished on 68000/138493 queries. users per second: 3364.82"
      ]
     },
     "metadata": {},
     "output_type": "display_data"
    },
    {
     "data": {
      "text/html": [
       "<pre>recommendations finished on 69000/138493 queries. users per second: 3375.37</pre>"
      ],
      "text/plain": [
       "recommendations finished on 69000/138493 queries. users per second: 3375.37"
      ]
     },
     "metadata": {},
     "output_type": "display_data"
    },
    {
     "data": {
      "text/html": [
       "<pre>recommendations finished on 70000/138493 queries. users per second: 3378.09</pre>"
      ],
      "text/plain": [
       "recommendations finished on 70000/138493 queries. users per second: 3378.09"
      ]
     },
     "metadata": {},
     "output_type": "display_data"
    },
    {
     "data": {
      "text/html": [
       "<pre>recommendations finished on 71000/138493 queries. users per second: 3391.18</pre>"
      ],
      "text/plain": [
       "recommendations finished on 71000/138493 queries. users per second: 3391.18"
      ]
     },
     "metadata": {},
     "output_type": "display_data"
    },
    {
     "data": {
      "text/html": [
       "<pre>recommendations finished on 72000/138493 queries. users per second: 3395.88</pre>"
      ],
      "text/plain": [
       "recommendations finished on 72000/138493 queries. users per second: 3395.88"
      ]
     },
     "metadata": {},
     "output_type": "display_data"
    },
    {
     "data": {
      "text/html": [
       "<pre>recommendations finished on 73000/138493 queries. users per second: 3410.93</pre>"
      ],
      "text/plain": [
       "recommendations finished on 73000/138493 queries. users per second: 3410.93"
      ]
     },
     "metadata": {},
     "output_type": "display_data"
    },
    {
     "data": {
      "text/html": [
       "<pre>recommendations finished on 74000/138493 queries. users per second: 3415.62</pre>"
      ],
      "text/plain": [
       "recommendations finished on 74000/138493 queries. users per second: 3415.62"
      ]
     },
     "metadata": {},
     "output_type": "display_data"
    },
    {
     "data": {
      "text/html": [
       "<pre>recommendations finished on 75000/138493 queries. users per second: 3428.37</pre>"
      ],
      "text/plain": [
       "recommendations finished on 75000/138493 queries. users per second: 3428.37"
      ]
     },
     "metadata": {},
     "output_type": "display_data"
    },
    {
     "data": {
      "text/html": [
       "<pre>recommendations finished on 76000/138493 queries. users per second: 3439.77</pre>"
      ],
      "text/plain": [
       "recommendations finished on 76000/138493 queries. users per second: 3439.77"
      ]
     },
     "metadata": {},
     "output_type": "display_data"
    },
    {
     "data": {
      "text/html": [
       "<pre>recommendations finished on 77000/138493 queries. users per second: 3417.85</pre>"
      ],
      "text/plain": [
       "recommendations finished on 77000/138493 queries. users per second: 3417.85"
      ]
     },
     "metadata": {},
     "output_type": "display_data"
    },
    {
     "data": {
      "text/html": [
       "<pre>recommendations finished on 78000/138493 queries. users per second: 3423.03</pre>"
      ],
      "text/plain": [
       "recommendations finished on 78000/138493 queries. users per second: 3423.03"
      ]
     },
     "metadata": {},
     "output_type": "display_data"
    },
    {
     "data": {
      "text/html": [
       "<pre>recommendations finished on 79000/138493 queries. users per second: 3422.15</pre>"
      ],
      "text/plain": [
       "recommendations finished on 79000/138493 queries. users per second: 3422.15"
      ]
     },
     "metadata": {},
     "output_type": "display_data"
    },
    {
     "data": {
      "text/html": [
       "<pre>recommendations finished on 80000/138493 queries. users per second: 3430.08</pre>"
      ],
      "text/plain": [
       "recommendations finished on 80000/138493 queries. users per second: 3430.08"
      ]
     },
     "metadata": {},
     "output_type": "display_data"
    },
    {
     "data": {
      "text/html": [
       "<pre>recommendations finished on 81000/138493 queries. users per second: 3425.29</pre>"
      ],
      "text/plain": [
       "recommendations finished on 81000/138493 queries. users per second: 3425.29"
      ]
     },
     "metadata": {},
     "output_type": "display_data"
    },
    {
     "data": {
      "text/html": [
       "<pre>recommendations finished on 82000/138493 queries. users per second: 3410.04</pre>"
      ],
      "text/plain": [
       "recommendations finished on 82000/138493 queries. users per second: 3410.04"
      ]
     },
     "metadata": {},
     "output_type": "display_data"
    },
    {
     "data": {
      "text/html": [
       "<pre>recommendations finished on 83000/138493 queries. users per second: 3383.8</pre>"
      ],
      "text/plain": [
       "recommendations finished on 83000/138493 queries. users per second: 3383.8"
      ]
     },
     "metadata": {},
     "output_type": "display_data"
    },
    {
     "data": {
      "text/html": [
       "<pre>recommendations finished on 84000/138493 queries. users per second: 3385.69</pre>"
      ],
      "text/plain": [
       "recommendations finished on 84000/138493 queries. users per second: 3385.69"
      ]
     },
     "metadata": {},
     "output_type": "display_data"
    },
    {
     "data": {
      "text/html": [
       "<pre>recommendations finished on 85000/138493 queries. users per second: 3390.48</pre>"
      ],
      "text/plain": [
       "recommendations finished on 85000/138493 queries. users per second: 3390.48"
      ]
     },
     "metadata": {},
     "output_type": "display_data"
    },
    {
     "data": {
      "text/html": [
       "<pre>recommendations finished on 86000/138493 queries. users per second: 3401.01</pre>"
      ],
      "text/plain": [
       "recommendations finished on 86000/138493 queries. users per second: 3401.01"
      ]
     },
     "metadata": {},
     "output_type": "display_data"
    },
    {
     "data": {
      "text/html": [
       "<pre>recommendations finished on 87000/138493 queries. users per second: 3405.23</pre>"
      ],
      "text/plain": [
       "recommendations finished on 87000/138493 queries. users per second: 3405.23"
      ]
     },
     "metadata": {},
     "output_type": "display_data"
    },
    {
     "data": {
      "text/html": [
       "<pre>recommendations finished on 88000/138493 queries. users per second: 3405.54</pre>"
      ],
      "text/plain": [
       "recommendations finished on 88000/138493 queries. users per second: 3405.54"
      ]
     },
     "metadata": {},
     "output_type": "display_data"
    },
    {
     "data": {
      "text/html": [
       "<pre>recommendations finished on 89000/138493 queries. users per second: 3417.93</pre>"
      ],
      "text/plain": [
       "recommendations finished on 89000/138493 queries. users per second: 3417.93"
      ]
     },
     "metadata": {},
     "output_type": "display_data"
    },
    {
     "data": {
      "text/html": [
       "<pre>recommendations finished on 90000/138493 queries. users per second: 3428.56</pre>"
      ],
      "text/plain": [
       "recommendations finished on 90000/138493 queries. users per second: 3428.56"
      ]
     },
     "metadata": {},
     "output_type": "display_data"
    },
    {
     "data": {
      "text/html": [
       "<pre>recommendations finished on 91000/138493 queries. users per second: 3423.16</pre>"
      ],
      "text/plain": [
       "recommendations finished on 91000/138493 queries. users per second: 3423.16"
      ]
     },
     "metadata": {},
     "output_type": "display_data"
    },
    {
     "data": {
      "text/html": [
       "<pre>recommendations finished on 92000/138493 queries. users per second: 3434.43</pre>"
      ],
      "text/plain": [
       "recommendations finished on 92000/138493 queries. users per second: 3434.43"
      ]
     },
     "metadata": {},
     "output_type": "display_data"
    },
    {
     "data": {
      "text/html": [
       "<pre>recommendations finished on 93000/138493 queries. users per second: 3446.68</pre>"
      ],
      "text/plain": [
       "recommendations finished on 93000/138493 queries. users per second: 3446.68"
      ]
     },
     "metadata": {},
     "output_type": "display_data"
    },
    {
     "data": {
      "text/html": [
       "<pre>recommendations finished on 94000/138493 queries. users per second: 3458.1</pre>"
      ],
      "text/plain": [
       "recommendations finished on 94000/138493 queries. users per second: 3458.1"
      ]
     },
     "metadata": {},
     "output_type": "display_data"
    },
    {
     "data": {
      "text/html": [
       "<pre>recommendations finished on 95000/138493 queries. users per second: 3469.73</pre>"
      ],
      "text/plain": [
       "recommendations finished on 95000/138493 queries. users per second: 3469.73"
      ]
     },
     "metadata": {},
     "output_type": "display_data"
    },
    {
     "data": {
      "text/html": [
       "<pre>recommendations finished on 96000/138493 queries. users per second: 3482.47</pre>"
      ],
      "text/plain": [
       "recommendations finished on 96000/138493 queries. users per second: 3482.47"
      ]
     },
     "metadata": {},
     "output_type": "display_data"
    },
    {
     "data": {
      "text/html": [
       "<pre>recommendations finished on 97000/138493 queries. users per second: 3489.19</pre>"
      ],
      "text/plain": [
       "recommendations finished on 97000/138493 queries. users per second: 3489.19"
      ]
     },
     "metadata": {},
     "output_type": "display_data"
    },
    {
     "data": {
      "text/html": [
       "<pre>recommendations finished on 98000/138493 queries. users per second: 3494.85</pre>"
      ],
      "text/plain": [
       "recommendations finished on 98000/138493 queries. users per second: 3494.85"
      ]
     },
     "metadata": {},
     "output_type": "display_data"
    },
    {
     "data": {
      "text/html": [
       "<pre>recommendations finished on 99000/138493 queries. users per second: 3505.75</pre>"
      ],
      "text/plain": [
       "recommendations finished on 99000/138493 queries. users per second: 3505.75"
      ]
     },
     "metadata": {},
     "output_type": "display_data"
    },
    {
     "data": {
      "text/html": [
       "<pre>recommendations finished on 100000/138493 queries. users per second: 3486.91</pre>"
      ],
      "text/plain": [
       "recommendations finished on 100000/138493 queries. users per second: 3486.91"
      ]
     },
     "metadata": {},
     "output_type": "display_data"
    },
    {
     "data": {
      "text/html": [
       "<pre>recommendations finished on 101000/138493 queries. users per second: 3493.36</pre>"
      ],
      "text/plain": [
       "recommendations finished on 101000/138493 queries. users per second: 3493.36"
      ]
     },
     "metadata": {},
     "output_type": "display_data"
    },
    {
     "data": {
      "text/html": [
       "<pre>recommendations finished on 102000/138493 queries. users per second: 3501.73</pre>"
      ],
      "text/plain": [
       "recommendations finished on 102000/138493 queries. users per second: 3501.73"
      ]
     },
     "metadata": {},
     "output_type": "display_data"
    },
    {
     "data": {
      "text/html": [
       "<pre>recommendations finished on 103000/138493 queries. users per second: 3507.38</pre>"
      ],
      "text/plain": [
       "recommendations finished on 103000/138493 queries. users per second: 3507.38"
      ]
     },
     "metadata": {},
     "output_type": "display_data"
    },
    {
     "data": {
      "text/html": [
       "<pre>recommendations finished on 104000/138493 queries. users per second: 3501.13</pre>"
      ],
      "text/plain": [
       "recommendations finished on 104000/138493 queries. users per second: 3501.13"
      ]
     },
     "metadata": {},
     "output_type": "display_data"
    },
    {
     "data": {
      "text/html": [
       "<pre>recommendations finished on 105000/138493 queries. users per second: 3509.85</pre>"
      ],
      "text/plain": [
       "recommendations finished on 105000/138493 queries. users per second: 3509.85"
      ]
     },
     "metadata": {},
     "output_type": "display_data"
    },
    {
     "data": {
      "text/html": [
       "<pre>recommendations finished on 106000/138493 queries. users per second: 3520.33</pre>"
      ],
      "text/plain": [
       "recommendations finished on 106000/138493 queries. users per second: 3520.33"
      ]
     },
     "metadata": {},
     "output_type": "display_data"
    },
    {
     "data": {
      "text/html": [
       "<pre>recommendations finished on 107000/138493 queries. users per second: 3512.4</pre>"
      ],
      "text/plain": [
       "recommendations finished on 107000/138493 queries. users per second: 3512.4"
      ]
     },
     "metadata": {},
     "output_type": "display_data"
    },
    {
     "data": {
      "text/html": [
       "<pre>recommendations finished on 108000/138493 queries. users per second: 3519.14</pre>"
      ],
      "text/plain": [
       "recommendations finished on 108000/138493 queries. users per second: 3519.14"
      ]
     },
     "metadata": {},
     "output_type": "display_data"
    },
    {
     "data": {
      "text/html": [
       "<pre>recommendations finished on 109000/138493 queries. users per second: 3527.21</pre>"
      ],
      "text/plain": [
       "recommendations finished on 109000/138493 queries. users per second: 3527.21"
      ]
     },
     "metadata": {},
     "output_type": "display_data"
    },
    {
     "data": {
      "text/html": [
       "<pre>recommendations finished on 110000/138493 queries. users per second: 3534.6</pre>"
      ],
      "text/plain": [
       "recommendations finished on 110000/138493 queries. users per second: 3534.6"
      ]
     },
     "metadata": {},
     "output_type": "display_data"
    },
    {
     "data": {
      "text/html": [
       "<pre>recommendations finished on 111000/138493 queries. users per second: 3536.5</pre>"
      ],
      "text/plain": [
       "recommendations finished on 111000/138493 queries. users per second: 3536.5"
      ]
     },
     "metadata": {},
     "output_type": "display_data"
    },
    {
     "data": {
      "text/html": [
       "<pre>recommendations finished on 112000/138493 queries. users per second: 3540.24</pre>"
      ],
      "text/plain": [
       "recommendations finished on 112000/138493 queries. users per second: 3540.24"
      ]
     },
     "metadata": {},
     "output_type": "display_data"
    },
    {
     "data": {
      "text/html": [
       "<pre>recommendations finished on 113000/138493 queries. users per second: 3550.89</pre>"
      ],
      "text/plain": [
       "recommendations finished on 113000/138493 queries. users per second: 3550.89"
      ]
     },
     "metadata": {},
     "output_type": "display_data"
    },
    {
     "data": {
      "text/html": [
       "<pre>recommendations finished on 114000/138493 queries. users per second: 3559.16</pre>"
      ],
      "text/plain": [
       "recommendations finished on 114000/138493 queries. users per second: 3559.16"
      ]
     },
     "metadata": {},
     "output_type": "display_data"
    },
    {
     "data": {
      "text/html": [
       "<pre>recommendations finished on 115000/138493 queries. users per second: 3559.43</pre>"
      ],
      "text/plain": [
       "recommendations finished on 115000/138493 queries. users per second: 3559.43"
      ]
     },
     "metadata": {},
     "output_type": "display_data"
    },
    {
     "data": {
      "text/html": [
       "<pre>recommendations finished on 116000/138493 queries. users per second: 3568.36</pre>"
      ],
      "text/plain": [
       "recommendations finished on 116000/138493 queries. users per second: 3568.36"
      ]
     },
     "metadata": {},
     "output_type": "display_data"
    },
    {
     "data": {
      "text/html": [
       "<pre>recommendations finished on 117000/138493 queries. users per second: 3578.21</pre>"
      ],
      "text/plain": [
       "recommendations finished on 117000/138493 queries. users per second: 3578.21"
      ]
     },
     "metadata": {},
     "output_type": "display_data"
    },
    {
     "data": {
      "text/html": [
       "<pre>recommendations finished on 118000/138493 queries. users per second: 3585.97</pre>"
      ],
      "text/plain": [
       "recommendations finished on 118000/138493 queries. users per second: 3585.97"
      ]
     },
     "metadata": {},
     "output_type": "display_data"
    },
    {
     "data": {
      "text/html": [
       "<pre>recommendations finished on 119000/138493 queries. users per second: 3594.03</pre>"
      ],
      "text/plain": [
       "recommendations finished on 119000/138493 queries. users per second: 3594.03"
      ]
     },
     "metadata": {},
     "output_type": "display_data"
    },
    {
     "data": {
      "text/html": [
       "<pre>recommendations finished on 120000/138493 queries. users per second: 3604.09</pre>"
      ],
      "text/plain": [
       "recommendations finished on 120000/138493 queries. users per second: 3604.09"
      ]
     },
     "metadata": {},
     "output_type": "display_data"
    },
    {
     "data": {
      "text/html": [
       "<pre>recommendations finished on 121000/138493 queries. users per second: 3602.7</pre>"
      ],
      "text/plain": [
       "recommendations finished on 121000/138493 queries. users per second: 3602.7"
      ]
     },
     "metadata": {},
     "output_type": "display_data"
    },
    {
     "data": {
      "text/html": [
       "<pre>recommendations finished on 122000/138493 queries. users per second: 3608.8</pre>"
      ],
      "text/plain": [
       "recommendations finished on 122000/138493 queries. users per second: 3608.8"
      ]
     },
     "metadata": {},
     "output_type": "display_data"
    },
    {
     "data": {
      "text/html": [
       "<pre>recommendations finished on 123000/138493 queries. users per second: 3612.1</pre>"
      ],
      "text/plain": [
       "recommendations finished on 123000/138493 queries. users per second: 3612.1"
      ]
     },
     "metadata": {},
     "output_type": "display_data"
    },
    {
     "data": {
      "text/html": [
       "<pre>recommendations finished on 124000/138493 queries. users per second: 3613.2</pre>"
      ],
      "text/plain": [
       "recommendations finished on 124000/138493 queries. users per second: 3613.2"
      ]
     },
     "metadata": {},
     "output_type": "display_data"
    },
    {
     "data": {
      "text/html": [
       "<pre>recommendations finished on 125000/138493 queries. users per second: 3614.64</pre>"
      ],
      "text/plain": [
       "recommendations finished on 125000/138493 queries. users per second: 3614.64"
      ]
     },
     "metadata": {},
     "output_type": "display_data"
    },
    {
     "data": {
      "text/html": [
       "<pre>recommendations finished on 126000/138493 queries. users per second: 3607.02</pre>"
      ],
      "text/plain": [
       "recommendations finished on 126000/138493 queries. users per second: 3607.02"
      ]
     },
     "metadata": {},
     "output_type": "display_data"
    },
    {
     "data": {
      "text/html": [
       "<pre>recommendations finished on 127000/138493 queries. users per second: 3610.65</pre>"
      ],
      "text/plain": [
       "recommendations finished on 127000/138493 queries. users per second: 3610.65"
      ]
     },
     "metadata": {},
     "output_type": "display_data"
    },
    {
     "data": {
      "text/html": [
       "<pre>recommendations finished on 128000/138493 queries. users per second: 3615.95</pre>"
      ],
      "text/plain": [
       "recommendations finished on 128000/138493 queries. users per second: 3615.95"
      ]
     },
     "metadata": {},
     "output_type": "display_data"
    },
    {
     "data": {
      "text/html": [
       "<pre>recommendations finished on 129000/138493 queries. users per second: 3618.44</pre>"
      ],
      "text/plain": [
       "recommendations finished on 129000/138493 queries. users per second: 3618.44"
      ]
     },
     "metadata": {},
     "output_type": "display_data"
    },
    {
     "data": {
      "text/html": [
       "<pre>recommendations finished on 130000/138493 queries. users per second: 3620.99</pre>"
      ],
      "text/plain": [
       "recommendations finished on 130000/138493 queries. users per second: 3620.99"
      ]
     },
     "metadata": {},
     "output_type": "display_data"
    },
    {
     "data": {
      "text/html": [
       "<pre>recommendations finished on 131000/138493 queries. users per second: 3626.99</pre>"
      ],
      "text/plain": [
       "recommendations finished on 131000/138493 queries. users per second: 3626.99"
      ]
     },
     "metadata": {},
     "output_type": "display_data"
    },
    {
     "data": {
      "text/html": [
       "<pre>recommendations finished on 132000/138493 queries. users per second: 3617.77</pre>"
      ],
      "text/plain": [
       "recommendations finished on 132000/138493 queries. users per second: 3617.77"
      ]
     },
     "metadata": {},
     "output_type": "display_data"
    },
    {
     "data": {
      "text/html": [
       "<pre>recommendations finished on 133000/138493 queries. users per second: 3622.38</pre>"
      ],
      "text/plain": [
       "recommendations finished on 133000/138493 queries. users per second: 3622.38"
      ]
     },
     "metadata": {},
     "output_type": "display_data"
    },
    {
     "data": {
      "text/html": [
       "<pre>recommendations finished on 134000/138493 queries. users per second: 3627.45</pre>"
      ],
      "text/plain": [
       "recommendations finished on 134000/138493 queries. users per second: 3627.45"
      ]
     },
     "metadata": {},
     "output_type": "display_data"
    },
    {
     "data": {
      "text/html": [
       "<pre>recommendations finished on 135000/138493 queries. users per second: 3629.71</pre>"
      ],
      "text/plain": [
       "recommendations finished on 135000/138493 queries. users per second: 3629.71"
      ]
     },
     "metadata": {},
     "output_type": "display_data"
    },
    {
     "data": {
      "text/html": [
       "<pre>recommendations finished on 136000/138493 queries. users per second: 3628.47</pre>"
      ],
      "text/plain": [
       "recommendations finished on 136000/138493 queries. users per second: 3628.47"
      ]
     },
     "metadata": {},
     "output_type": "display_data"
    },
    {
     "data": {
      "text/html": [
       "<pre>recommendations finished on 137000/138493 queries. users per second: 3633.2</pre>"
      ],
      "text/plain": [
       "recommendations finished on 137000/138493 queries. users per second: 3633.2"
      ]
     },
     "metadata": {},
     "output_type": "display_data"
    },
    {
     "data": {
      "text/html": [
       "<pre>recommendations finished on 138000/138493 queries. users per second: 3639.12</pre>"
      ],
      "text/plain": [
       "recommendations finished on 138000/138493 queries. users per second: 3639.12"
      ]
     },
     "metadata": {},
     "output_type": "display_data"
    },
    {
     "data": {
      "text/html": [
       "<div style=\"max-height:1000px;max-width:1500px;overflow:auto;\"><table frame=\"box\" rules=\"cols\">\n",
       "    <tr>\n",
       "        <th style=\"padding-left: 1em; padding-right: 1em; text-align: center\">userId</th>\n",
       "        <th style=\"padding-left: 1em; padding-right: 1em; text-align: center\">movieId</th>\n",
       "        <th style=\"padding-left: 1em; padding-right: 1em; text-align: center\">score</th>\n",
       "        <th style=\"padding-left: 1em; padding-right: 1em; text-align: center\">rank</th>\n",
       "    </tr>\n",
       "    <tr>\n",
       "        <td style=\"padding-left: 1em; padding-right: 1em; text-align: center; vertical-align: top\">1</td>\n",
       "        <td style=\"padding-left: 1em; padding-right: 1em; text-align: center; vertical-align: top\">1682</td>\n",
       "        <td style=\"padding-left: 1em; padding-right: 1em; text-align: center; vertical-align: top\">0.0902351249967</td>\n",
       "        <td style=\"padding-left: 1em; padding-right: 1em; text-align: center; vertical-align: top\">1</td>\n",
       "    </tr>\n",
       "    <tr>\n",
       "        <td style=\"padding-left: 1em; padding-right: 1em; text-align: center; vertical-align: top\">1</td>\n",
       "        <td style=\"padding-left: 1em; padding-right: 1em; text-align: center; vertical-align: top\">2115</td>\n",
       "        <td style=\"padding-left: 1em; padding-right: 1em; text-align: center; vertical-align: top\">0.0871301868984</td>\n",
       "        <td style=\"padding-left: 1em; padding-right: 1em; text-align: center; vertical-align: top\">2</td>\n",
       "    </tr>\n",
       "    <tr>\n",
       "        <td style=\"padding-left: 1em; padding-right: 1em; text-align: center; vertical-align: top\">1</td>\n",
       "        <td style=\"padding-left: 1em; padding-right: 1em; text-align: center; vertical-align: top\">3578</td>\n",
       "        <td style=\"padding-left: 1em; padding-right: 1em; text-align: center; vertical-align: top\">0.0842838634763</td>\n",
       "        <td style=\"padding-left: 1em; padding-right: 1em; text-align: center; vertical-align: top\">3</td>\n",
       "    </tr>\n",
       "    <tr>\n",
       "        <td style=\"padding-left: 1em; padding-right: 1em; text-align: center; vertical-align: top\">1</td>\n",
       "        <td style=\"padding-left: 1em; padding-right: 1em; text-align: center; vertical-align: top\">1265</td>\n",
       "        <td style=\"padding-left: 1em; padding-right: 1em; text-align: center; vertical-align: top\">0.0842146590778</td>\n",
       "        <td style=\"padding-left: 1em; padding-right: 1em; text-align: center; vertical-align: top\">4</td>\n",
       "    </tr>\n",
       "    <tr>\n",
       "        <td style=\"padding-left: 1em; padding-right: 1em; text-align: center; vertical-align: top\">1</td>\n",
       "        <td style=\"padding-left: 1em; padding-right: 1em; text-align: center; vertical-align: top\">1580</td>\n",
       "        <td style=\"padding-left: 1em; padding-right: 1em; text-align: center; vertical-align: top\">0.0836513924599</td>\n",
       "        <td style=\"padding-left: 1em; padding-right: 1em; text-align: center; vertical-align: top\">5</td>\n",
       "    </tr>\n",
       "    <tr>\n",
       "        <td style=\"padding-left: 1em; padding-right: 1em; text-align: center; vertical-align: top\">2</td>\n",
       "        <td style=\"padding-left: 1em; padding-right: 1em; text-align: center; vertical-align: top\">1240</td>\n",
       "        <td style=\"padding-left: 1em; padding-right: 1em; text-align: center; vertical-align: top\">0.123930284234</td>\n",
       "        <td style=\"padding-left: 1em; padding-right: 1em; text-align: center; vertical-align: top\">1</td>\n",
       "    </tr>\n",
       "    <tr>\n",
       "        <td style=\"padding-left: 1em; padding-right: 1em; text-align: center; vertical-align: top\">2</td>\n",
       "        <td style=\"padding-left: 1em; padding-right: 1em; text-align: center; vertical-align: top\">1097</td>\n",
       "        <td style=\"padding-left: 1em; padding-right: 1em; text-align: center; vertical-align: top\">0.100960136437</td>\n",
       "        <td style=\"padding-left: 1em; padding-right: 1em; text-align: center; vertical-align: top\">2</td>\n",
       "    </tr>\n",
       "    <tr>\n",
       "        <td style=\"padding-left: 1em; padding-right: 1em; text-align: center; vertical-align: top\">2</td>\n",
       "        <td style=\"padding-left: 1em; padding-right: 1em; text-align: center; vertical-align: top\">1291</td>\n",
       "        <td style=\"padding-left: 1em; padding-right: 1em; text-align: center; vertical-align: top\">0.0992199524504</td>\n",
       "        <td style=\"padding-left: 1em; padding-right: 1em; text-align: center; vertical-align: top\">3</td>\n",
       "    </tr>\n",
       "    <tr>\n",
       "        <td style=\"padding-left: 1em; padding-right: 1em; text-align: center; vertical-align: top\">2</td>\n",
       "        <td style=\"padding-left: 1em; padding-right: 1em; text-align: center; vertical-align: top\">1036</td>\n",
       "        <td style=\"padding-left: 1em; padding-right: 1em; text-align: center; vertical-align: top\">0.0960697727125</td>\n",
       "        <td style=\"padding-left: 1em; padding-right: 1em; text-align: center; vertical-align: top\">4</td>\n",
       "    </tr>\n",
       "    <tr>\n",
       "        <td style=\"padding-left: 1em; padding-right: 1em; text-align: center; vertical-align: top\">2</td>\n",
       "        <td style=\"padding-left: 1em; padding-right: 1em; text-align: center; vertical-align: top\">1387</td>\n",
       "        <td style=\"padding-left: 1em; padding-right: 1em; text-align: center; vertical-align: top\">0.088467875465</td>\n",
       "        <td style=\"padding-left: 1em; padding-right: 1em; text-align: center; vertical-align: top\">5</td>\n",
       "    </tr>\n",
       "</table>\n",
       "[10 rows x 4 columns]<br/>\n",
       "</div>"
      ],
      "text/plain": [
       "Columns:\n",
       "\tuserId\tint\n",
       "\tmovieId\tint\n",
       "\tscore\tfloat\n",
       "\trank\tint\n",
       "\n",
       "Rows: 10\n",
       "\n",
       "Data:\n",
       "+--------+---------+-----------------+------+\n",
       "| userId | movieId |      score      | rank |\n",
       "+--------+---------+-----------------+------+\n",
       "|   1    |   1682  | 0.0902351249967 |  1   |\n",
       "|   1    |   2115  | 0.0871301868984 |  2   |\n",
       "|   1    |   3578  | 0.0842838634763 |  3   |\n",
       "|   1    |   1265  | 0.0842146590778 |  4   |\n",
       "|   1    |   1580  | 0.0836513924599 |  5   |\n",
       "|   2    |   1240  |  0.123930284234 |  1   |\n",
       "|   2    |   1097  |  0.100960136437 |  2   |\n",
       "|   2    |   1291  | 0.0992199524504 |  3   |\n",
       "|   2    |   1036  | 0.0960697727125 |  4   |\n",
       "|   2    |   1387  |  0.088467875465 |  5   |\n",
       "+--------+---------+-----------------+------+\n",
       "[10 rows x 4 columns]"
      ]
     },
     "execution_count": 50,
     "metadata": {},
     "output_type": "execute_result"
    }
   ],
   "source": [
    "recommend_result = model.recommend(users=None, k=5)\n",
    "recommend_result.head()"
   ]
  },
  {
   "cell_type": "code",
   "execution_count": 51,
   "metadata": {
    "collapsed": true
   },
   "outputs": [],
   "source": [
    "training_subset, validation_subset = graphlab.recommender.util.random_split_by_user(training_data,\n",
    "                                                                                    user_id=\"userId\", item_id=\"movieId\",\n",
    "                                                                                    max_num_users=100, item_test_proportion=0.3)"
   ]
  },
  {
   "cell_type": "code",
   "execution_count": 52,
   "metadata": {
    "collapsed": false
   },
   "outputs": [
    {
     "data": {
      "text/html": [
       "<pre>Recsys training: model = ranking_factorization_recommender</pre>"
      ],
      "text/plain": [
       "Recsys training: model = ranking_factorization_recommender"
      ]
     },
     "metadata": {},
     "output_type": "display_data"
    },
    {
     "data": {
      "text/html": [
       "<pre>Preparing data set.</pre>"
      ],
      "text/plain": [
       "Preparing data set."
      ]
     },
     "metadata": {},
     "output_type": "display_data"
    },
    {
     "data": {
      "text/html": [
       "<pre>    Data has 19995759 observations with 138493 users and 26744 items.</pre>"
      ],
      "text/plain": [
       "    Data has 19995759 observations with 138493 users and 26744 items."
      ]
     },
     "metadata": {},
     "output_type": "display_data"
    },
    {
     "data": {
      "text/html": [
       "<pre>    Data prepared in: 45.115s</pre>"
      ],
      "text/plain": [
       "    Data prepared in: 45.115s"
      ]
     },
     "metadata": {},
     "output_type": "display_data"
    },
    {
     "data": {
      "text/html": [
       "<pre>Training ranking_factorization_recommender for recommendations.</pre>"
      ],
      "text/plain": [
       "Training ranking_factorization_recommender for recommendations."
      ]
     },
     "metadata": {},
     "output_type": "display_data"
    },
    {
     "data": {
      "text/html": [
       "<pre>+--------------------------------+--------------------------------------------------+----------+</pre>"
      ],
      "text/plain": [
       "+--------------------------------+--------------------------------------------------+----------+"
      ]
     },
     "metadata": {},
     "output_type": "display_data"
    },
    {
     "data": {
      "text/html": [
       "<pre>| Parameter                      | Description                                      | Value    |</pre>"
      ],
      "text/plain": [
       "| Parameter                      | Description                                      | Value    |"
      ]
     },
     "metadata": {},
     "output_type": "display_data"
    },
    {
     "data": {
      "text/html": [
       "<pre>+--------------------------------+--------------------------------------------------+----------+</pre>"
      ],
      "text/plain": [
       "+--------------------------------+--------------------------------------------------+----------+"
      ]
     },
     "metadata": {},
     "output_type": "display_data"
    },
    {
     "data": {
      "text/html": [
       "<pre>| num_factors                    | Factor Dimension                                 | 32       |</pre>"
      ],
      "text/plain": [
       "| num_factors                    | Factor Dimension                                 | 32       |"
      ]
     },
     "metadata": {},
     "output_type": "display_data"
    },
    {
     "data": {
      "text/html": [
       "<pre>| regularization                 | L2 Regularization on Factors                     | 1e-09    |</pre>"
      ],
      "text/plain": [
       "| regularization                 | L2 Regularization on Factors                     | 1e-09    |"
      ]
     },
     "metadata": {},
     "output_type": "display_data"
    },
    {
     "data": {
      "text/html": [
       "<pre>| solver                         | Solver used for training                         | adagrad  |</pre>"
      ],
      "text/plain": [
       "| solver                         | Solver used for training                         | adagrad  |"
      ]
     },
     "metadata": {},
     "output_type": "display_data"
    },
    {
     "data": {
      "text/html": [
       "<pre>| linear_regularization          | L2 Regularization on Linear Coefficients         | 1e-09    |</pre>"
      ],
      "text/plain": [
       "| linear_regularization          | L2 Regularization on Linear Coefficients         | 1e-09    |"
      ]
     },
     "metadata": {},
     "output_type": "display_data"
    },
    {
     "data": {
      "text/html": [
       "<pre>| ranking_regularization         | Rank-based Regularization Weight                 | 0.25     |</pre>"
      ],
      "text/plain": [
       "| ranking_regularization         | Rank-based Regularization Weight                 | 0.25     |"
      ]
     },
     "metadata": {},
     "output_type": "display_data"
    },
    {
     "data": {
      "text/html": [
       "<pre>| max_iterations                 | Maximum Number of Iterations                     | 25       |</pre>"
      ],
      "text/plain": [
       "| max_iterations                 | Maximum Number of Iterations                     | 25       |"
      ]
     },
     "metadata": {},
     "output_type": "display_data"
    },
    {
     "data": {
      "text/html": [
       "<pre>+--------------------------------+--------------------------------------------------+----------+</pre>"
      ],
      "text/plain": [
       "+--------------------------------+--------------------------------------------------+----------+"
      ]
     },
     "metadata": {},
     "output_type": "display_data"
    },
    {
     "data": {
      "text/html": [
       "<pre>  Optimizing model using SGD; tuning step size.</pre>"
      ],
      "text/plain": [
       "  Optimizing model using SGD; tuning step size."
      ]
     },
     "metadata": {},
     "output_type": "display_data"
    },
    {
     "data": {
      "text/html": [
       "<pre>  Using 2499469 / 19995759 points for tuning the step size.</pre>"
      ],
      "text/plain": [
       "  Using 2499469 / 19995759 points for tuning the step size."
      ]
     },
     "metadata": {},
     "output_type": "display_data"
    },
    {
     "data": {
      "text/html": [
       "<pre>+---------+-------------------+------------------------------------------+</pre>"
      ],
      "text/plain": [
       "+---------+-------------------+------------------------------------------+"
      ]
     },
     "metadata": {},
     "output_type": "display_data"
    },
    {
     "data": {
      "text/html": [
       "<pre>| Attempt | Initial Step Size | Estimated Objective Value                |</pre>"
      ],
      "text/plain": [
       "| Attempt | Initial Step Size | Estimated Objective Value                |"
      ]
     },
     "metadata": {},
     "output_type": "display_data"
    },
    {
     "data": {
      "text/html": [
       "<pre>+---------+-------------------+------------------------------------------+</pre>"
      ],
      "text/plain": [
       "+---------+-------------------+------------------------------------------+"
      ]
     },
     "metadata": {},
     "output_type": "display_data"
    },
    {
     "data": {
      "text/html": [
       "<pre>| 0       | 16.6667           | Not Viable                               |</pre>"
      ],
      "text/plain": [
       "| 0       | 16.6667           | Not Viable                               |"
      ]
     },
     "metadata": {},
     "output_type": "display_data"
    },
    {
     "data": {
      "text/html": [
       "<pre>| 1       | 4.16667           | Not Viable                               |</pre>"
      ],
      "text/plain": [
       "| 1       | 4.16667           | Not Viable                               |"
      ]
     },
     "metadata": {},
     "output_type": "display_data"
    },
    {
     "data": {
      "text/html": [
       "<pre>| 2       | 1.04167           | Not Viable                               |</pre>"
      ],
      "text/plain": [
       "| 2       | 1.04167           | Not Viable                               |"
      ]
     },
     "metadata": {},
     "output_type": "display_data"
    },
    {
     "data": {
      "text/html": [
       "<pre>| 3       | 0.260417          | Not Viable                               |</pre>"
      ],
      "text/plain": [
       "| 3       | 0.260417          | Not Viable                               |"
      ]
     },
     "metadata": {},
     "output_type": "display_data"
    },
    {
     "data": {
      "text/html": [
       "<pre>| 4       | 0.0651042         | 1.60112                                  |</pre>"
      ],
      "text/plain": [
       "| 4       | 0.0651042         | 1.60112                                  |"
      ]
     },
     "metadata": {},
     "output_type": "display_data"
    },
    {
     "data": {
      "text/html": [
       "<pre>| 5       | 0.0325521         | 1.44983                                  |</pre>"
      ],
      "text/plain": [
       "| 5       | 0.0325521         | 1.44983                                  |"
      ]
     },
     "metadata": {},
     "output_type": "display_data"
    },
    {
     "data": {
      "text/html": [
       "<pre>| 6       | 0.016276          | 1.54058                                  |</pre>"
      ],
      "text/plain": [
       "| 6       | 0.016276          | 1.54058                                  |"
      ]
     },
     "metadata": {},
     "output_type": "display_data"
    },
    {
     "data": {
      "text/html": [
       "<pre>| 7       | 0.00813802        | 1.64708                                  |</pre>"
      ],
      "text/plain": [
       "| 7       | 0.00813802        | 1.64708                                  |"
      ]
     },
     "metadata": {},
     "output_type": "display_data"
    },
    {
     "data": {
      "text/html": [
       "<pre>| 8       | 0.00406901        | 1.76723                                  |</pre>"
      ],
      "text/plain": [
       "| 8       | 0.00406901        | 1.76723                                  |"
      ]
     },
     "metadata": {},
     "output_type": "display_data"
    },
    {
     "data": {
      "text/html": [
       "<pre>+---------+-------------------+------------------------------------------+</pre>"
      ],
      "text/plain": [
       "+---------+-------------------+------------------------------------------+"
      ]
     },
     "metadata": {},
     "output_type": "display_data"
    },
    {
     "data": {
      "text/html": [
       "<pre>| Final   | 0.0325521         | 1.44983                                  |</pre>"
      ],
      "text/plain": [
       "| Final   | 0.0325521         | 1.44983                                  |"
      ]
     },
     "metadata": {},
     "output_type": "display_data"
    },
    {
     "data": {
      "text/html": [
       "<pre>+---------+-------------------+------------------------------------------+</pre>"
      ],
      "text/plain": [
       "+---------+-------------------+------------------------------------------+"
      ]
     },
     "metadata": {},
     "output_type": "display_data"
    },
    {
     "data": {
      "text/html": [
       "<pre>Starting Optimization.</pre>"
      ],
      "text/plain": [
       "Starting Optimization."
      ]
     },
     "metadata": {},
     "output_type": "display_data"
    },
    {
     "data": {
      "text/html": [
       "<pre>+---------+--------------+-------------------+-----------------------+-------------+</pre>"
      ],
      "text/plain": [
       "+---------+--------------+-------------------+-----------------------+-------------+"
      ]
     },
     "metadata": {},
     "output_type": "display_data"
    },
    {
     "data": {
      "text/html": [
       "<pre>| Iter.   | Elapsed Time | Approx. Objective | Approx. Training RMSE | Step Size   |</pre>"
      ],
      "text/plain": [
       "| Iter.   | Elapsed Time | Approx. Objective | Approx. Training RMSE | Step Size   |"
      ]
     },
     "metadata": {},
     "output_type": "display_data"
    },
    {
     "data": {
      "text/html": [
       "<pre>+---------+--------------+-------------------+-----------------------+-------------+</pre>"
      ],
      "text/plain": [
       "+---------+--------------+-------------------+-----------------------+-------------+"
      ]
     },
     "metadata": {},
     "output_type": "display_data"
    },
    {
     "data": {
      "text/html": [
       "<pre>| Initial | 3.609ms      | 2.33753           | 1.0919                |             |</pre>"
      ],
      "text/plain": [
       "| Initial | 3.609ms      | 2.33753           | 1.0919                |             |"
      ]
     },
     "metadata": {},
     "output_type": "display_data"
    },
    {
     "data": {
      "text/html": [
       "<pre>+---------+--------------+-------------------+-----------------------+-------------+</pre>"
      ],
      "text/plain": [
       "+---------+--------------+-------------------+-----------------------+-------------+"
      ]
     },
     "metadata": {},
     "output_type": "display_data"
    },
    {
     "data": {
      "text/html": [
       "<pre>| 1       | 57.25s       | 1.52736           | 1.03618               | 0.0325521   |</pre>"
      ],
      "text/plain": [
       "| 1       | 57.25s       | 1.52736           | 1.03618               | 0.0325521   |"
      ]
     },
     "metadata": {},
     "output_type": "display_data"
    },
    {
     "data": {
      "text/html": [
       "<pre>| 2       | 1m 44s       | 1.42663           | 1.01091               | 0.0325521   |</pre>"
      ],
      "text/plain": [
       "| 2       | 1m 44s       | 1.42663           | 1.01091               | 0.0325521   |"
      ]
     },
     "metadata": {},
     "output_type": "display_data"
    },
    {
     "data": {
      "text/html": [
       "<pre>| 3       | 2m 30s       | 1.35426           | 0.990663              | 0.0325521   |</pre>"
      ],
      "text/plain": [
       "| 3       | 2m 30s       | 1.35426           | 0.990663              | 0.0325521   |"
      ]
     },
     "metadata": {},
     "output_type": "display_data"
    },
    {
     "data": {
      "text/html": [
       "<pre>| 4       | 3m 16s       | 1.33816           | 0.988037              | 0.0325521   |</pre>"
      ],
      "text/plain": [
       "| 4       | 3m 16s       | 1.33816           | 0.988037              | 0.0325521   |"
      ]
     },
     "metadata": {},
     "output_type": "display_data"
    },
    {
     "data": {
      "text/html": [
       "<pre>| 5       | 4m 9s        | 1.32886           | 0.985919              | 0.0325521   |</pre>"
      ],
      "text/plain": [
       "| 5       | 4m 9s        | 1.32886           | 0.985919              | 0.0325521   |"
      ]
     },
     "metadata": {},
     "output_type": "display_data"
    },
    {
     "data": {
      "text/html": [
       "<pre>| 6       | 4m 55s       | 1.32193           | 0.984533              | 0.0325521   |</pre>"
      ],
      "text/plain": [
       "| 6       | 4m 55s       | 1.32193           | 0.984533              | 0.0325521   |"
      ]
     },
     "metadata": {},
     "output_type": "display_data"
    },
    {
     "data": {
      "text/html": [
       "<pre>| 7       | 5m 42s       | 1.31655           | 0.983494              | 0.0325521   |</pre>"
      ],
      "text/plain": [
       "| 7       | 5m 42s       | 1.31655           | 0.983494              | 0.0325521   |"
      ]
     },
     "metadata": {},
     "output_type": "display_data"
    },
    {
     "data": {
      "text/html": [
       "<pre>| 8       | 6m 31s       | 1.31257           | 0.982438              | 0.0325521   |</pre>"
      ],
      "text/plain": [
       "| 8       | 6m 31s       | 1.31257           | 0.982438              | 0.0325521   |"
      ]
     },
     "metadata": {},
     "output_type": "display_data"
    },
    {
     "data": {
      "text/html": [
       "<pre>| 9       | 7m 16s       | 1.30921           | 0.981383              | 0.0325521   |</pre>"
      ],
      "text/plain": [
       "| 9       | 7m 16s       | 1.30921           | 0.981383              | 0.0325521   |"
      ]
     },
     "metadata": {},
     "output_type": "display_data"
    },
    {
     "data": {
      "text/html": [
       "<pre>| 10      | 8m 3s        | 1.306             | 0.980651              | 0.0325521   |</pre>"
      ],
      "text/plain": [
       "| 10      | 8m 3s        | 1.306             | 0.980651              | 0.0325521   |"
      ]
     },
     "metadata": {},
     "output_type": "display_data"
    },
    {
     "data": {
      "text/html": [
       "<pre>| 11      | 8m 51s       | 1.30351           | 0.98021               | 0.0325521   |</pre>"
      ],
      "text/plain": [
       "| 11      | 8m 51s       | 1.30351           | 0.98021               | 0.0325521   |"
      ]
     },
     "metadata": {},
     "output_type": "display_data"
    },
    {
     "data": {
      "text/html": [
       "<pre>| 12      | 9m 44s       | 1.30102           | 0.979286              | 0.0325521   |</pre>"
      ],
      "text/plain": [
       "| 12      | 9m 44s       | 1.30102           | 0.979286              | 0.0325521   |"
      ]
     },
     "metadata": {},
     "output_type": "display_data"
    },
    {
     "data": {
      "text/html": [
       "<pre>| 13      | 10m 33s      | 1.29842           | 0.978494              | 0.0325521   |</pre>"
      ],
      "text/plain": [
       "| 13      | 10m 33s      | 1.29842           | 0.978494              | 0.0325521   |"
      ]
     },
     "metadata": {},
     "output_type": "display_data"
    },
    {
     "data": {
      "text/html": [
       "<pre>| 14      | 11m 22s      | 1.29673           | 0.978131              | 0.0325521   |</pre>"
      ],
      "text/plain": [
       "| 14      | 11m 22s      | 1.29673           | 0.978131              | 0.0325521   |"
      ]
     },
     "metadata": {},
     "output_type": "display_data"
    },
    {
     "data": {
      "text/html": [
       "<pre>| 15      | 12m 7s       | 1.29469           | 0.977483              | 0.0325521   |</pre>"
      ],
      "text/plain": [
       "| 15      | 12m 7s       | 1.29469           | 0.977483              | 0.0325521   |"
      ]
     },
     "metadata": {},
     "output_type": "display_data"
    },
    {
     "data": {
      "text/html": [
       "<pre>| 16      | 12m 53s      | 1.29261           | 0.976825              | 0.0325521   |</pre>"
      ],
      "text/plain": [
       "| 16      | 12m 53s      | 1.29261           | 0.976825              | 0.0325521   |"
      ]
     },
     "metadata": {},
     "output_type": "display_data"
    },
    {
     "data": {
      "text/html": [
       "<pre>| 17      | 13m 40s      | 1.29112           | 0.976482              | 0.0325521   |</pre>"
      ],
      "text/plain": [
       "| 17      | 13m 40s      | 1.29112           | 0.976482              | 0.0325521   |"
      ]
     },
     "metadata": {},
     "output_type": "display_data"
    },
    {
     "data": {
      "text/html": [
       "<pre>| 18      | 14m 28s      | 1.29012           | 0.976213              | 0.0325521   |</pre>"
      ],
      "text/plain": [
       "| 18      | 14m 28s      | 1.29012           | 0.976213              | 0.0325521   |"
      ]
     },
     "metadata": {},
     "output_type": "display_data"
    },
    {
     "data": {
      "text/html": [
       "<pre>| 19      | 15m 13s      | 1.28905           | 0.975788              | 0.0325521   |</pre>"
      ],
      "text/plain": [
       "| 19      | 15m 13s      | 1.28905           | 0.975788              | 0.0325521   |"
      ]
     },
     "metadata": {},
     "output_type": "display_data"
    },
    {
     "data": {
      "text/html": [
       "<pre>| 20      | 16m 0s       | 1.28784           | 0.975562              | 0.0325521   |</pre>"
      ],
      "text/plain": [
       "| 20      | 16m 0s       | 1.28784           | 0.975562              | 0.0325521   |"
      ]
     },
     "metadata": {},
     "output_type": "display_data"
    },
    {
     "data": {
      "text/html": [
       "<pre>| 21      | 16m 47s      | 1.28651           | 0.975154              | 0.0325521   |</pre>"
      ],
      "text/plain": [
       "| 21      | 16m 47s      | 1.28651           | 0.975154              | 0.0325521   |"
      ]
     },
     "metadata": {},
     "output_type": "display_data"
    },
    {
     "data": {
      "text/html": [
       "<pre>| 22      | 17m 32s      | 1.28553           | 0.974805              | 0.0325521   |</pre>"
      ],
      "text/plain": [
       "| 22      | 17m 32s      | 1.28553           | 0.974805              | 0.0325521   |"
      ]
     },
     "metadata": {},
     "output_type": "display_data"
    },
    {
     "data": {
      "text/html": [
       "<pre>| 23      | 18m 17s      | 1.28447           | 0.974492              | 0.0325521   |</pre>"
      ],
      "text/plain": [
       "| 23      | 18m 17s      | 1.28447           | 0.974492              | 0.0325521   |"
      ]
     },
     "metadata": {},
     "output_type": "display_data"
    },
    {
     "data": {
      "text/html": [
       "<pre>| 24      | 19m 3s       | 1.28352           | 0.974228              | 0.0325521   |</pre>"
      ],
      "text/plain": [
       "| 24      | 19m 3s       | 1.28352           | 0.974228              | 0.0325521   |"
      ]
     },
     "metadata": {},
     "output_type": "display_data"
    },
    {
     "data": {
      "text/html": [
       "<pre>| 25      | 19m 50s      | 1.2825            | 0.973874              | 0.0325521   |</pre>"
      ],
      "text/plain": [
       "| 25      | 19m 50s      | 1.2825            | 0.973874              | 0.0325521   |"
      ]
     },
     "metadata": {},
     "output_type": "display_data"
    },
    {
     "data": {
      "text/html": [
       "<pre>+---------+--------------+-------------------+-----------------------+-------------+</pre>"
      ],
      "text/plain": [
       "+---------+--------------+-------------------+-----------------------+-------------+"
      ]
     },
     "metadata": {},
     "output_type": "display_data"
    },
    {
     "data": {
      "text/html": [
       "<pre>Optimization Complete: Maximum number of passes through the data reached.</pre>"
      ],
      "text/plain": [
       "Optimization Complete: Maximum number of passes through the data reached."
      ]
     },
     "metadata": {},
     "output_type": "display_data"
    },
    {
     "data": {
      "text/html": [
       "<pre>Computing final objective value and training RMSE.</pre>"
      ],
      "text/plain": [
       "Computing final objective value and training RMSE."
      ]
     },
     "metadata": {},
     "output_type": "display_data"
    },
    {
     "data": {
      "text/html": [
       "<pre>       Final objective value: 1.279</pre>"
      ],
      "text/plain": [
       "       Final objective value: 1.279"
      ]
     },
     "metadata": {},
     "output_type": "display_data"
    },
    {
     "data": {
      "text/html": [
       "<pre>       Final training RMSE: 0.969009</pre>"
      ],
      "text/plain": [
       "       Final training RMSE: 0.969009"
      ]
     },
     "metadata": {},
     "output_type": "display_data"
    }
   ],
   "source": [
    "model = graphlab.recommender.create(training_subset, user_id=\"userId\", item_id=\"movieId\", target=\"rating\")"
   ]
  },
  {
   "cell_type": "code",
   "execution_count": 54,
   "metadata": {
    "collapsed": false
   },
   "outputs": [
    {
     "name": "stdout",
     "output_type": "stream",
     "text": [
      "\n",
      "Precision and recall summary statistics by cutoff\n",
      "+--------+----------------+------------------+\n",
      "| cutoff | mean_precision |   mean_recall    |\n",
      "+--------+----------------+------------------+\n",
      "|   1    |      0.24      | 0.00779930216852 |\n",
      "|   2    |      0.21      |  0.012901394018  |\n",
      "|   3    |      0.19      | 0.0178578991142  |\n",
      "|   4    |     0.1875     | 0.0262666505357  |\n",
      "|   5    |     0.178      | 0.0309822064235  |\n",
      "|   6    | 0.171666666667 | 0.0342393542171  |\n",
      "|   7    | 0.171428571429 | 0.0407194576716  |\n",
      "|   8    |    0.17375     | 0.0472908745975  |\n",
      "|   9    | 0.173333333333 | 0.0525709562356  |\n",
      "|   10   |     0.165      | 0.0561106528482  |\n",
      "+--------+----------------+------------------+\n",
      "[10 rows x 3 columns]\n",
      "\n",
      "('\\nOverall RMSE: ', 1.0039974263651024)\n",
      "\n",
      "Per User RMSE (best)\n",
      "+--------+-------+----------------+\n",
      "| userId | count |      rmse      |\n",
      "+--------+-------+----------------+\n",
      "| 44174  |   3   | 0.267144600837 |\n",
      "+--------+-------+----------------+\n",
      "[1 rows x 3 columns]\n",
      "\n",
      "\n",
      "Per User RMSE (worst)\n",
      "+--------+-------+--------------+\n",
      "| userId | count |     rmse     |\n",
      "+--------+-------+--------------+\n",
      "| 71502  |   14  | 1.7285782623 |\n",
      "+--------+-------+--------------+\n",
      "[1 rows x 3 columns]\n",
      "\n",
      "\n",
      "Per Item RMSE (best)\n",
      "+---------+-------+-----------------+\n",
      "| movieId | count |       rmse      |\n",
      "+---------+-------+-----------------+\n",
      "|  88744  |   1   | 0.0018737646082 |\n",
      "+---------+-------+-----------------+\n",
      "[1 rows x 3 columns]\n",
      "\n",
      "\n",
      "Per Item RMSE (worst)\n",
      "+---------+-------+---------------+\n",
      "| movieId | count |      rmse     |\n",
      "+---------+-------+---------------+\n",
      "|   3360  |   1   | 3.52896520293 |\n",
      "+---------+-------+---------------+\n",
      "[1 rows x 3 columns]\n",
      "\n"
     ]
    },
    {
     "data": {
      "text/plain": [
       "{'precision_recall_by_user': Columns:\n",
       " \tuserId\tint\n",
       " \tcutoff\tint\n",
       " \tprecision\tfloat\n",
       " \trecall\tfloat\n",
       " \tcount\tint\n",
       " \n",
       " Rows: 1800\n",
       " \n",
       " Data:\n",
       " +--------+--------+-----------+--------+-------+\n",
       " | userId | cutoff | precision | recall | count |\n",
       " +--------+--------+-----------+--------+-------+\n",
       " |  239   |   1    |    0.0    |  0.0   |   78  |\n",
       " |  239   |   2    |    0.0    |  0.0   |   78  |\n",
       " |  239   |   3    |    0.0    |  0.0   |   78  |\n",
       " |  239   |   4    |    0.0    |  0.0   |   78  |\n",
       " |  239   |   5    |    0.0    |  0.0   |   78  |\n",
       " |  239   |   6    |    0.0    |  0.0   |   78  |\n",
       " |  239   |   7    |    0.0    |  0.0   |   78  |\n",
       " |  239   |   8    |    0.0    |  0.0   |   78  |\n",
       " |  239   |   9    |    0.0    |  0.0   |   78  |\n",
       " |  239   |   10   |    0.0    |  0.0   |   78  |\n",
       " +--------+--------+-----------+--------+-------+\n",
       " [1800 rows x 5 columns]\n",
       " Note: Only the head of the SFrame is printed.\n",
       " You can use print_rows(num_rows=m, num_columns=n) to print more rows and columns.,\n",
       " 'precision_recall_overall': Columns:\n",
       " \tcutoff\tint\n",
       " \tprecision\tfloat\n",
       " \trecall\tfloat\n",
       " \n",
       " Rows: 18\n",
       " \n",
       " Data:\n",
       " +--------+----------------+------------------+\n",
       " | cutoff |   precision    |      recall      |\n",
       " +--------+----------------+------------------+\n",
       " |   1    |      0.24      | 0.00779930216852 |\n",
       " |   2    |      0.21      |  0.012901394018  |\n",
       " |   3    |      0.19      | 0.0178578991142  |\n",
       " |   4    |     0.1875     | 0.0262666505357  |\n",
       " |   5    |     0.178      | 0.0309822064235  |\n",
       " |   6    | 0.171666666667 | 0.0342393542171  |\n",
       " |   7    | 0.171428571429 | 0.0407194576716  |\n",
       " |   8    |    0.17375     | 0.0472908745975  |\n",
       " |   9    | 0.173333333333 | 0.0525709562356  |\n",
       " |   10   |     0.165      | 0.0561106528482  |\n",
       " +--------+----------------+------------------+\n",
       " [18 rows x 3 columns]\n",
       " Note: Only the head of the SFrame is printed.\n",
       " You can use print_rows(num_rows=m, num_columns=n) to print more rows and columns.,\n",
       " 'rmse_by_item': Columns:\n",
       " \tmovieId\tint\n",
       " \tcount\tint\n",
       " \trmse\tfloat\n",
       " \n",
       " Rows: 2267\n",
       " \n",
       " Data:\n",
       " +---------+-------+----------------+\n",
       " | movieId | count |      rmse      |\n",
       " +---------+-------+----------------+\n",
       " |   2779  |   1   | 0.028330187002 |\n",
       " |  64614  |   2   | 1.54963127561  |\n",
       " |   2871  |   3   | 0.299601018245 |\n",
       " |   1029  |   1   | 0.798567486632 |\n",
       " |   435   |   3   | 0.93555446729  |\n",
       " |   1517  |   4   | 1.32726851017  |\n",
       " |   537   |   1   | 1.06406647334  |\n",
       " |   2011  |   3   | 0.567893087351 |\n",
       " |  89774  |   1   | 1.06534666816  |\n",
       " |   5667  |   2   | 0.279635590516 |\n",
       " +---------+-------+----------------+\n",
       " [2267 rows x 3 columns]\n",
       " Note: Only the head of the SFrame is printed.\n",
       " You can use print_rows(num_rows=m, num_columns=n) to print more rows and columns.,\n",
       " 'rmse_by_user': Columns:\n",
       " \tuserId\tint\n",
       " \tcount\tint\n",
       " \trmse\tfloat\n",
       " \n",
       " Rows: 100\n",
       " \n",
       " Data:\n",
       " +--------+-------+----------------+\n",
       " | userId | count |      rmse      |\n",
       " +--------+-------+----------------+\n",
       " | 125612 |   15  | 0.862626107104 |\n",
       " | 16149  |   2   | 1.71786236638  |\n",
       " | 59484  |   37  | 0.940709296121 |\n",
       " | 125923 |   7   | 0.871073181506 |\n",
       " | 98571  |   13  | 0.932980129326 |\n",
       " | 120347 |   14  | 1.16633245888  |\n",
       " | 124199 |   8   | 0.822928771693 |\n",
       " | 79058  |   5   | 0.746431919322 |\n",
       " | 99453  |   13  | 1.01530011128  |\n",
       " | 119870 |   94  | 1.19288111295  |\n",
       " +--------+-------+----------------+\n",
       " [100 rows x 3 columns]\n",
       " Note: Only the head of the SFrame is printed.\n",
       " You can use print_rows(num_rows=m, num_columns=n) to print more rows and columns.,\n",
       " 'rmse_overall': 1.0039974263651024}"
      ]
     },
     "execution_count": 54,
     "metadata": {},
     "output_type": "execute_result"
    }
   ],
   "source": [
    "rmse_results = model.evaluate(validation_subset)\n",
    "\n",
    "rmse_results"
   ]
  },
  {
   "cell_type": "code",
   "execution_count": null,
   "metadata": {
    "collapsed": true
   },
   "outputs": [],
   "source": []
  }
 ],
 "metadata": {
  "anaconda-cloud": {},
  "kernelspec": {
   "display_name": "Python [gl-env]",
   "language": "python",
   "name": "Python [gl-env]"
  },
  "language_info": {
   "codemirror_mode": {
    "name": "ipython",
    "version": 2
   },
   "file_extension": ".py",
   "mimetype": "text/x-python",
   "name": "python",
   "nbconvert_exporter": "python",
   "pygments_lexer": "ipython2",
   "version": "2.7.11"
  }
 },
 "nbformat": 4,
 "nbformat_minor": 2
}
